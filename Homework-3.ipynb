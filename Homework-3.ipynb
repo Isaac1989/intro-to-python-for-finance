{
 "cells": [
  {
   "cell_type": "markdown",
   "metadata": {},
   "source": [
    "### Creating and manipulating  arrays\n"
   ]
  },
  {
   "cell_type": "markdown",
   "metadata": {},
   "source": [
    "### Problem 1\n",
    "We are going to explore various ways to create an array object of various data dtypes.\n",
    "\n",
    "1. Create a vector starting from 2, 20 inclusive in unit steps with `np.arange`. Example: `np.arange(2,4)` outputs array([2,3])\n",
    "\n",
    "2. Create the same array object using `np.array` and a `list`\n",
    "\n",
    "3. Every **`numpy.ndarray`** has a data dtype object. This data type indicates whether the elements in an array is `string`, `integer`,`float`, `boolean` or user defined data type. Now use the attribute `dtype` to querry the data types created in  _question 2._\n",
    "\n",
    "4. One can specify the data type during creation of an array like so: np.array([...], __dtype__ = my_dtype). Example  np.array([1,2,4], dtype = np.float32). Now create a boolean vector of length 10. Don't forget to specify the data dtype. [Hint: see [dtypes](https://docs.scipy.org/doc/numpy-dev/user/basics.types.html)]\n",
    "\n",
    "5. \n",
    "    1. Using __linspace__ create a vector: start = 3, end = 5. the length out should be 200\n",
    "    2. Change the shape of the vector to 2 X 50 X 2.\n",
    "    3. what is the dimension of the vector in  _question 5.C_\n"
   ]
  },
  {
   "cell_type": "code",
   "execution_count": null,
   "metadata": {
    "collapsed": true
   },
   "outputs": [],
   "source": []
  },
  {
   "cell_type": "markdown",
   "metadata": {},
   "source": [
    "### Problem 2\n",
    "Numpy as a lot of factory function for creating numpy arrays. You have already seen some of them like: `np.linspace` and `np.arange`. Let explore the a lot more. Numpy has a submodule called the random. It can be accessed by **importing** them like so: `from numpy import random`. With this module you can sample from nearly all the theoritical distributions out there. Let take it for a spin:\n",
    "\n",
    "1. Create a 5X5 matrix of standard normal. [Hint: A couple of options. random.normal, random.standard_normal]. Make sure you specify the __shape__ of the matrix.\n",
    "\n",
    "2. Scale the element in the matrix by a factor of 10. Then take the floor of the results.\n",
    "\n",
    "3. Set every negative element in the matrix to zero. [Hint: using boolean indexing like so: A[A < 0]]\n",
    "\n",
    "4. Using `np.nonzero` find the locations of the nonzero elements. \n",
    "\n",
    "5. Use the indices to fetch the nonzero elements from the matrix. You get a 1-D array of nonzero elements of the matrix\n",
    "\n",
    "6. Now create matrix of ones of size 5 X 5. Fill in the Matrix of ones by the nonzero elements of _question 5_\n",
    "[Hint: np.ones]\n",
    "\n",
    "7. Repeat _question 6_ but use a matrix of **zeros** inplace of ones. \n",
    "\n",
    "8. Investigate the the functions `np.eye` and `np.identity`. What are their difference and similarities\n",
    "\n",
    "9. Repeat _question 6_ but use the identity matrix inplace of ones.\n",
    "\n",
    "10. What is the difference between `np.arange` and `np.linspace`"
   ]
  },
  {
   "cell_type": "code",
   "execution_count": null,
   "metadata": {
    "collapsed": true
   },
   "outputs": [],
   "source": []
  },
  {
   "cell_type": "markdown",
   "metadata": {},
   "source": [
    "### Problem 3\n",
    "In this part of the excercise, we are going to do a lot of slicing operation. \n",
    "\n",
    "1. start of by creating a 6 X 6 matrix of `np.nan`. The `np.nan` data dtype means __Not a Number__. It is typically   used to mean a missing value in data.[Hint: np.full should help you accomplish this task]. \n",
    "\n",
    "2. The matrix above can be partitioned into blocks of matrices: top-left, top-right, bottom-left, and bottom-right. All of which are 3 X 3. Now:\n",
    "    1. Replace top-left with 1\n",
    "    2. Replace top-right with 2\n",
    "    3. Replace bottom-left with 3\n",
    "    4. Replace bottom-right with 4\n",
    "    \n",
    "3. Now create a matrix of alphabets like so \n",
    "\n",
    "    ```python \n",
    "    from string import ascii_lowercase, ascii_uppercase\n",
    "    ll = list(ascii_lowercase[:9])\n",
    "    lu = ll = list(ascii_uppercase[:9])\n",
    "    ll_matrix = np.array(ll,dtype ='|S10').reshape((3,3))\n",
    "    lu_matrix =  np.array(lu, dtype ='|S10').reshape((3,3))\n",
    "\n",
    "    ```\n",
    "   \n",
    "   1. Take the two matrices ll_matrix and lu_matrix and stack them \n",
    "       - Vertically\n",
    "       - Horizontally\n",
    "       \n",
    "       using `np.concatenate`\n",
    "   2. Accomplish  the _question 2.A_ using `np.vstack` and `np.hstack`\n",
    "   \n",
    "   3. View the help documentation for the functions `np.r_` and `np.c_`. What is the difference between the two?\n",
    "   \n",
    "   4. Accomplish same task on _question 2.A_ using `np.r_` and `np.c_`\n",
    "   \n",
    "   5. In your opinion which of the these methods is more generic? Which method do you prefer?\n",
    "      \n",
    "4. Create a 2d array with ones on the border and zeros inside\n",
    "\n",
    "5. Create an 8 by 8 matrix with  zeros followed by ones in checkerboard fashion. For a 4 X 4 matrix, it looks like so:\n",
    "\n",
    "|0  | 1 | 0 | 1 |\n",
    "|---|---|---|---|\n",
    "| 1 | 0 | 1 | 0 |\n",
    "|0  | 1 | 0 | 1 |\n",
    "| 1 | 0 | 1 | 0 |\n",
    "\n",
    "\n",
    "NOTE: your matrix in part one should look like so:\n",
    "\n",
    "| `np.nan`| `np.nan` | `np.nan` | `np.nan` | `np.nan` | `np.nan` | \n",
    "| --------| ---------| ---------|----------|----------|----------|\n",
    "| `np.nan`| `np.nan`| `np.nan`| `np.nan`| `np.nan`|`np.nan`|\n",
    "|`np.nan`|`np.nan`| `np.nan`|`np.nan`|`np.nan`|`np.nan`|\n",
    "|`np.nan`|`np.nan`|`np.nan`|`np.nan`|`np.nan`|`np.nan`|\n",
    "|`np.nan`|`np.nan`|`np.nan`|`np.nan`|`np.nan`|`np.nan`|\n",
    "|`np.nan`|`np.nan`|`np.nan`|`np.nan`|`np.nan`|`np.nan`|\n"
   ]
  },
  {
   "cell_type": "markdown",
   "metadata": {},
   "source": [
    "  You should find very helpful factory functions for array creation. You should also find the universal  functions.Read the documentation of a few of them\n",
    "  ."
   ]
  },
  {
   "cell_type": "code",
   "execution_count": null,
   "metadata": {
    "collapsed": true
   },
   "outputs": [],
   "source": []
  },
  {
   "cell_type": "markdown",
   "metadata": {},
   "source": [
    "### Problem 4\n",
    "###### Basic Operations and ufuncs\n",
    "Universal functions (ufuncs) are vectorized functions that operate element-wise on an array. Alright lets, take them for a spin\n",
    "\n",
    "1. Invoke help on `np.core`:\n",
    "\n",
    "    Type this in the jupyter notebook or the IPython console and the hit the ENTER key. You should find very helpful factory functions for array creation and also the universal functions:\n",
    "   \n",
    "     ```python\n",
    "   \n",
    "    np.core?\n",
    "\n",
    "    OR\n",
    "    \n",
    "    help(np.core)\n",
    "     ```\n",
    "     \n",
    "2. ###### Normalizing a matrix \n",
    "    Consider\n",
    "    \n",
    "    ```python\n",
    "    np.random.seed(1235)\n",
    "    X = np.floor(np.random.random( size= 25)*100)\n",
    "    ```\n",
    "    1. Change the shape to 5X5 matrix and save it in a variable called **`Y`**.\n",
    "    2. find the range of **`Y`** and store it in variable called **`drange`**. [Hint, range = maximum - minimum]\n",
    "    3. Deflate Y by the its minimum and store it to a variable called **`Y_deflated`**\n",
    "    4. divide **`Y_deflated`** by the **`drange`** and store to **`Y_scaled`**\n",
    "\n",
    "3.\n",
    "\n",
    "   1. Create two 1-D normal random variables **`X`** and **`Y`** of size 1000\n",
    "   2. compute their correlation and store to **`corr`** [Hint: np.corrcoef. This gives a matrix of correlation coefficient]. The                correlation coefficient should be on the off diagonal\n",
    "   3. Now, let compute this manually.\n",
    "         1. Compute the mean of **`X`** and **`Y`** and store in **`xmean`** and **`ymean`** respectively.\n",
    "         2. Demean **`X`** and **`Y`** and store the results in **`devx`** and **`devy`**.\n",
    "         3. Do element-wise multiplication of **`devx`** and **`devy`** and sum the results of the multiplication.             Further divide the results of the sum by total element in **`X`**. Store the results to **`cov`**\n",
    "         4. Divide results 3.c by **`stdxy`** \n",
    "         \n",
    "         ```python\n",
    "         stdxy = np.std(X)*np.std(Y)\n",
    "         ```\n",
    "         Note: the result must be the same as the one in  _question 3.B_\n",
    "         \n"
   ]
  },
  {
   "cell_type": "code",
   "execution_count": null,
   "metadata": {
    "collapsed": true
   },
   "outputs": [],
   "source": []
  },
  {
   "cell_type": "markdown",
   "metadata": {},
   "source": [
    "### Problem 5\n",
    "\n",
    "The code below loads data from a file or (file-like) object.\n",
    "\n",
    "In this part, we are going to explore various options of loading data using numpy\n",
    "\n",
    "\n",
    "### Demo"
   ]
  },
  {
   "cell_type": "raw",
   "metadata": {},
   "source": [
    "##To run this cell, change the cell type to \"code\"\n",
    "# You have a file like this that you want to load as a Numpy array\n",
    "\n",
    "from io import BytesIO\n",
    "\n",
    "# This is your data in the text file\n",
    "data = \"\"\"\n",
    " Value1,  Value2,  Value3\\n\n",
    " 0.2536,  0.1008,  0.3857\\n\n",
    " 0.4839,  0.4536,  0.3561\\n\n",
    " 0.1292 , 0.6875,  0.5929\\n\n",
    " 0.1781,  0.3049,  0.8928\\n\n",
    " 0.6253,  0.3486,  0.8791\n",
    "\"\"\"\n",
    "file_data = BytesIO(data)\n",
    "# Import your data\n",
    "data = np.genfromtxt(file_data,\n",
    "                    unpack=True,\n",
    "                    delimiter = ',',\n",
    "                    names = True)\n",
    "\n",
    "# loop over columns to create matrix of data. Then the transpose the data into the right shape\n",
    "data = np.array([data[i] for i in data.dtype.names]).T\n",
    "data"
   ]
  },
  {
   "cell_type": "markdown",
   "metadata": {},
   "source": [
    "#### Your turn to try\n",
    "\n",
    "\n",
    "```python\n",
    "data = \"\"\"\n",
    " #This comment\n",
    " #Okay so I'm adding another comment here\n",
    " #I guess it doesn't hurt to add more\n",
    " Value1,  Value2,  Value3\\n\n",
    " 0.2536,  0.1008,  0.3857\\n\n",
    " 0.4839,  0.4536,  0.3561\\n\n",
    " 0.1292 , 0.6875,  0.5929\\n\n",
    " 0.1781,  0.3049,  0.8928\\n\n",
    " 0.6253,  0.3486,  0.8791\n",
    " #extra info down here\n",
    "\"\"\"\n",
    "```\n",
    "\n",
    "1. Visit [Help](https://docs.scipy.org/doc/numpy-dev/user/basics.io.genfromtxt.html#defining-the-input). This page will aid you to complete this task\n",
    "\n",
    "2. Load the data into a matrix form( we shall do it using two approaches):\n",
    "    - Using skip_header and skip_footer\n",
    "    - Using comment\n",
    "    - data type should be np.float32\n",
    "\n",
    "3. compute the mean and standard deviation of each columns. [Hint: use the random module]\n",
    "\n",
    "4. Demean each columns with their respective mean.\n",
    "\n",
    "5. Scale the results of _question 4_  to standardise each column."
   ]
  },
  {
   "cell_type": "code",
   "execution_count": null,
   "metadata": {
    "collapsed": true
   },
   "outputs": [],
   "source": []
  }
 ],
 "metadata": {
  "kernelspec": {
   "display_name": "Python [conda env:ipykernel2]",
   "language": "python",
   "name": "conda-env-ipykernel2-py"
  },
  "language_info": {
   "codemirror_mode": {
    "name": "ipython",
    "version": 2
   },
   "file_extension": ".py",
   "mimetype": "text/x-python",
   "name": "python",
   "nbconvert_exporter": "python",
   "pygments_lexer": "ipython2",
   "version": "2.7.13"
  }
 },
 "nbformat": 4,
 "nbformat_minor": 2
}
