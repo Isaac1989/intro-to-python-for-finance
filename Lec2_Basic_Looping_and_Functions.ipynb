{
 "cells": [
  {
   "cell_type": "markdown",
   "metadata": {
    "slideshow": {
     "slide_type": "slide"
    }
   },
   "source": [
    "\n",
    "## Lecture 2 : Basic Commands for Loops and Branching  and Building Functions\n"
   ]
  },
  {
   "cell_type": "markdown",
   "metadata": {
    "slideshow": {
     "slide_type": "slide"
    }
   },
   "source": [
    "1. Conditional Statements\n",
    "2. Please note the use of space and indenting.\n"
   ]
  },
  {
   "cell_type": "markdown",
   "metadata": {
    "slideshow": {
     "slide_type": "slide"
    }
   },
   "source": [
    "# For Branching\n",
    "\n",
    "1.  If..... else  \n",
    "2. If.... elif..... else \n"
   ]
  },
  {
   "cell_type": "markdown",
   "metadata": {
    "slideshow": {
     "slide_type": "slide"
    }
   },
   "source": [
    "## if.... else suit\n",
    "\n",
    "In python one of the ways for controlling the flow of your program is to use the \n",
    "```python\n",
    "if condition:\n",
    "    \"do something\"\n",
    "else:\n",
    "    \"do something else\"\n",
    "```"
   ]
  },
  {
   "cell_type": "code",
   "execution_count": 1,
   "metadata": {
    "slideshow": {
     "slide_type": "slide"
    }
   },
   "outputs": [
    {
     "name": "stdout",
     "output_type": "stream",
     "text": [
      "x is greater than 2\n"
     ]
    }
   ],
   "source": [
    "x = 5\n",
    "if x > 2 :\n",
    "    print 'x is greater than 2'\n",
    "else :\n",
    "    print 'x is not greater than 2'"
   ]
  },
  {
   "cell_type": "markdown",
   "metadata": {
    "slideshow": {
     "slide_type": "slide"
    }
   },
   "source": [
    "### if ...elif ...else\n",
    "Sometimes you may have more that one conditions to check. in that case you can use the suit\n",
    "```python\n",
    "if condition1:\n",
    "    \"do something\"\n",
    "elif condtion2:\n",
    "    \"do another thing\"\n",
    "else:\n",
    "    \"do something else\"\n",
    "```"
   ]
  },
  {
   "cell_type": "code",
   "execution_count": 2,
   "metadata": {
    "slideshow": {
     "slide_type": "slide"
    }
   },
   "outputs": [
    {
     "name": "stdout",
     "output_type": "stream",
     "text": [
      "x is medium\n"
     ]
    }
   ],
   "source": [
    "x = 7\n",
    "if x < 2 :\n",
    "    print 'x is small'\n",
    "elif x < 10 :\n",
    "    print 'x is medium'\n",
    "else :\n",
    "    print 'x is large'"
   ]
  },
  {
   "cell_type": "markdown",
   "metadata": {},
   "source": [
    "You can have more that one `elif block` like so:\n",
    "#### if ...elif ...else\n",
    "Sometimes you may have more that one conditions to check. in that case you can use the suit\n",
    "```python\n",
    "if condition1:\n",
    "    \"do something\"\n",
    "elif condition2:\n",
    "    \"do another thing\"\n",
    "elif condition3:\n",
    "    \"do yet another thing\"\n",
    "else:\n",
    "    \"do something else\"\n",
    "```"
   ]
  },
  {
   "cell_type": "markdown",
   "metadata": {},
   "source": [
    "In fact they can be nest like so:\n",
    "```python\n",
    "if condition1:\n",
    "    \"do something\"\n",
    "elif condtion2:\n",
    "    \"do another thing\"\n",
    "    if condition:\n",
    "        pass\n",
    "    else:\n",
    "        print \"something\"\n",
    "else:\n",
    "    \"do something else\"\n",
    "```\n"
   ]
  },
  {
   "cell_type": "markdown",
   "metadata": {
    "slideshow": {
     "slide_type": "slide"
    }
   },
   "source": [
    "## Single Line if statements \n",
    "- You can assign one value to a variable if the condition is True and another if it is False \n"
   ]
  },
  {
   "cell_type": "code",
   "execution_count": 5,
   "metadata": {
    "slideshow": {
     "slide_type": "fragment"
    }
   },
   "outputs": [
    {
     "name": "stdout",
     "output_type": "stream",
     "text": [
      "x= 1\n"
     ]
    }
   ],
   "source": [
    "threshold = 10\n",
    "x = 1 if threshold< 30 else 2\n",
    "print 'x=', x\n",
    "\n"
   ]
  },
  {
   "cell_type": "code",
   "execution_count": 19,
   "metadata": {},
   "outputs": [
    {
     "name": "stdout",
     "output_type": "stream",
     "text": [
      "True\n",
      "True\n",
      "False\n",
      "True\n",
      "True\n",
      "True\n",
      "values are ordered \n"
     ]
    }
   ],
   "source": [
    "## Comparisons always come down to true or false\n",
    "a = -2; b = 0; c = 3.0; d = 3.0; e = 3\n",
    "print a<b\n",
    "print c == d\n",
    "print b == c\n",
    "print e==d\n",
    "\n",
    "# To be safe use parentheses when performing multiple comparisons \n",
    "\n",
    "print (a<b) or (b<c)\n",
    "print (a<b) and ( b<c)\n",
    "\n",
    "if ( (a<b)   and (b<c)):\n",
    "    print'values are ordered ' \n",
    "else:\n",
    "    print 'values are not ordered '\n",
    "    \n",
    "\n",
    "    "
   ]
  },
  {
   "cell_type": "markdown",
   "metadata": {
    "slideshow": {
     "slide_type": "slide"
    }
   },
   "source": [
    "## For Looping\n",
    "\n",
    "1.  for i in range(start value, end value + 1)\n",
    "2. The While statement\n",
    "\n",
    "The are various \"syntax\" for the `for loops`"
   ]
  },
  {
   "cell_type": "markdown",
   "metadata": {
    "slideshow": {
     "slide_type": "slide"
    }
   },
   "source": [
    "### First pattern\n",
    "\n",
    "having an iterables like a list, set, tuple.\n",
    "Example:\n",
    "```python\n",
    "sequence = [2,3,4,5,6]\n",
    "```\n",
    "In a for loop block:\n",
    "```python\n",
    "for variable_name in sequence:\n",
    "    \"do something with/without the variable_name\"\n",
    "\n",
    "```\n",
    "Here \"varaible_name\"  gets assigned elements in sequence on each\n",
    "loop"
   ]
  },
  {
   "cell_type": "code",
   "execution_count": 1,
   "metadata": {
    "slideshow": {
     "slide_type": "slide"
    }
   },
   "outputs": [
    {
     "name": "stdout",
     "output_type": "stream",
     "text": [
      "variable_name is 2 on loop 1\n",
      "variable_name is 3 on loop 2\n",
      "variable_name is 4 on loop 3\n",
      "variable_name is 5 on loop 4\n",
      "variable_name is 6 on loop 5\n"
     ]
    }
   ],
   "source": [
    "for i, variable_name in enumerate([2,3,4,5,6]):\n",
    "    template = \"variable_name is {number} on loop {loop_number}\"\n",
    "    print template.format(number = variable_name, loop_number = i+1)"
   ]
  },
  {
   "cell_type": "markdown",
   "metadata": {
    "slideshow": {
     "slide_type": "slide"
    }
   },
   "source": [
    "###  for loop in a range of values\n",
    "The  statement range(3,10) starts from 3 and ends with 9. "
   ]
  },
  {
   "cell_type": "code",
   "execution_count": 3,
   "metadata": {
    "slideshow": {
     "slide_type": "subslide"
    }
   },
   "outputs": [
    {
     "name": "stdout",
     "output_type": "stream",
     "text": [
      "3\n",
      "4\n",
      "5\n",
      "6\n",
      "7\n",
      "8\n",
      "9\n"
     ]
    }
   ],
   "source": [
    "for i in range(3,10) :\n",
    "    print i"
   ]
  },
  {
   "cell_type": "code",
   "execution_count": 2,
   "metadata": {
    "slideshow": {
     "slide_type": "fragment"
    }
   },
   "outputs": [
    {
     "name": "stdout",
     "output_type": "stream",
     "text": [
      "[0, 1, 2, 3, 4, 5, 6, 7, 8]\n",
      "[1, 2, 3, 4, 5, 6, 7, 8, 9, 10]\n"
     ]
    }
   ],
   "source": [
    "# Check the  range() command\n",
    "# Output 0-8\n",
    "\n",
    "print range(9)\n",
    "print range(1,11)"
   ]
  },
  {
   "cell_type": "markdown",
   "metadata": {},
   "source": [
    "# Try this:\n",
    "\n",
    "Write a for loop to filter the even numbers from between 1 and 100 inclusive.\n",
    "\n",
    "Use can use the template:\n",
    "```python\n",
    "for i in range(1,100):\n",
    "    if condition:\n",
    "       \"do something\"\n",
    "```"
   ]
  },
  {
   "cell_type": "markdown",
   "metadata": {
    "slideshow": {
     "slide_type": "slide"
    }
   },
   "source": [
    "# The While loop \n",
    "\n",
    "1. The while loop works like the if statement.\n",
    "2. You keep repeating a series of steps until some condition is satisfied\n",
    "3. If you know how many iterations need to be done then use the for statement\n",
    "4. But sometimes the number of steps required is not known."
   ]
  },
  {
   "cell_type": "code",
   "execution_count": 8,
   "metadata": {
    "slideshow": {
     "slide_type": "slide"
    }
   },
   "outputs": [
    {
     "name": "stdout",
     "output_type": "stream",
     "text": [
      "5\n",
      "4\n",
      "3\n",
      "2\n",
      "1\n",
      "At last, n is equal to 0\n"
     ]
    }
   ],
   "source": [
    "# while loop: While the condition judgement is true, while loop is exercised.\n",
    "n = 5\n",
    "while n > 0 :\n",
    "    print n\n",
    "    n = n -1\n",
    "print ('At last, n is equal to ' + str(n))"
   ]
  },
  {
   "cell_type": "code",
   "execution_count": 4,
   "metadata": {
    "slideshow": {
     "slide_type": "fragment"
    }
   },
   "outputs": [
    {
     "name": "stdout",
     "output_type": "stream",
     "text": [
      "Give me an input: done\n",
      "User has defined 1 inputs in all\n"
     ]
    }
   ],
   "source": [
    "# Break: it means to quit the loop entirely.\n",
    "# In our following example, unless user has defined 'done', we will continue taking inputs and print it\n",
    "\n",
    "n = 0\n",
    "while True :\n",
    "    x = raw_input ('Give me an input: ')\n",
    "    n = n + 1\n",
    "    if x == 'done' :\n",
    "        break\n",
    "    print \"You gave me: \" + str(x)\n",
    "print ('User has defined %d inputs in all' % n)"
   ]
  },
  {
   "cell_type": "markdown",
   "metadata": {
    "slideshow": {
     "slide_type": "slide"
    }
   },
   "source": [
    "1. If you make a mistake in your loop especially in the case of infinite loop, and you want to quit it, \n",
    "you can try \"ctrl+C\" or \"ctrl+Z\""
   ]
  },
  {
   "cell_type": "markdown",
   "metadata": {},
   "source": [
    "# Try this\n",
    "\n",
    "Run this:\n",
    "```python\n",
    "While 1:\n",
    "    print(\"this is an infinite loop\")\n",
    "```\n",
    "    \n",
    "How would you exit this loop without using `Ctrl + C`?"
   ]
  },
  {
   "cell_type": "markdown",
   "metadata": {},
   "source": [
    "### python \"continue\" statement\n",
    "\n",
    "The `continue` statement causes the flow to skip to the next iteration"
   ]
  },
  {
   "cell_type": "code",
   "execution_count": 7,
   "metadata": {},
   "outputs": [
    {
     "name": "stdout",
     "output_type": "stream",
     "text": [
      "0\n",
      "1\n",
      "2\n",
      "3\n",
      "4\n"
     ]
    }
   ],
   "source": [
    "for i in range(5):\n",
    "    print i\n",
    "    continue   #skips here and goes to the top to move on the next iterable\n",
    "    print \"this line is never executed\""
   ]
  },
  {
   "cell_type": "markdown",
   "metadata": {
    "slideshow": {
     "slide_type": "slide"
    }
   },
   "source": [
    "### Loops work well with lists "
   ]
  },
  {
   "cell_type": "code",
   "execution_count": 6,
   "metadata": {
    "slideshow": {
     "slide_type": "fragment"
    }
   },
   "outputs": [
    {
     "name": "stdout",
     "output_type": "stream",
     "text": [
      "Hello, John\n",
      "Hello, Amy\n",
      "Hello, Andy\n",
      "Hello, Bill\n",
      "Finished Greeting\n"
     ]
    }
   ],
   "source": [
    "# for loop for each element in one list variable\n",
    "\n",
    "friends = ['John', 'Amy', 'Andy', 'Bill']\n",
    "for friend in friends :\n",
    "    print ('Hello, ' + friend)\n",
    "print ('Finished Greeting')"
   ]
  },
  {
   "cell_type": "code",
   "execution_count": 24,
   "metadata": {},
   "outputs": [
    {
     "name": "stdout",
     "output_type": "stream",
     "text": [
      "1 3.0\n",
      "2 6.0\n",
      "3 9.0\n"
     ]
    }
   ],
   "source": [
    "## Nested For loops.\n",
    "## Pay attention to the spacing.\n",
    "\n",
    "# What does the following program do?\n",
    "\n",
    "for irow in range(1,4):\n",
    "    rowsum = 0.0\n",
    "    for j in range(1,3):\n",
    "        rowsum = rowsum+j*irow\n",
    "        \n",
    "   \n",
    "        \n",
    "    print irow, rowsum\n",
    "        \n",
    "\n",
    "        "
   ]
  },
  {
   "cell_type": "markdown",
   "metadata": {
    "slideshow": {
     "slide_type": "slide"
    }
   },
   "source": [
    "###  Advanced  Topics with Looping \n",
    "\n",
    "1. The zip() function\n",
    "2. Iterating through Dictionaries\n",
    "\n",
    "Zip works like so:\n",
    "\n",
    "```python\n",
    "\n",
    "x = [1, 2,3]\n",
    "y = ['a','b','c']\n",
    "\n",
    "zip(x,y) -----> [(1,\"a\"), (2,\"b\"), (3,\"c\")]\n",
    "\n",
    "```"
   ]
  },
  {
   "cell_type": "code",
   "execution_count": 8,
   "metadata": {},
   "outputs": [
    {
     "data": {
      "text/plain": [
       "[(1, 'a'), (2, 'b'), (3, 'c')]"
      ]
     },
     "execution_count": 8,
     "metadata": {},
     "output_type": "execute_result"
    }
   ],
   "source": [
    "x = [1, 2,3]\n",
    "y = ['a','b','c']\n",
    "\n",
    "zip(x,y)"
   ]
  },
  {
   "cell_type": "code",
   "execution_count": 25,
   "metadata": {
    "slideshow": {
     "slide_type": "fragment"
    }
   },
   "outputs": [
    {
     "name": "stdout",
     "output_type": "stream",
     "text": [
      "Person A1 was in good Health\n",
      "Person A2 was in bad Health\n",
      "Person A3 was in ugly Health\n"
     ]
    }
   ],
   "source": [
    "# Say you have two lists\n",
    "\n",
    "Subjects = ['A1', 'A2', 'A3']\n",
    "Health   = [ 'good', 'bad', 'ugly']\n",
    "for subject, health in zip(Subjects, Health):\n",
    "    # you have the  subject and the health. You could do some activities here\n",
    "    print(\"Person {} was in {} Health\".format(subject, health))"
   ]
  },
  {
   "cell_type": "markdown",
   "metadata": {},
   "source": [
    "### List comprehension"
   ]
  },
  {
   "cell_type": "code",
   "execution_count": 6,
   "metadata": {},
   "outputs": [
    {
     "data": {
      "text/plain": [
       "[8, 7, 13, 9, 7, 12, 10, 20]"
      ]
     },
     "execution_count": 6,
     "metadata": {},
     "output_type": "execute_result"
    }
   ],
   "source": [
    "LA = [1,3,5,7,2,4,9,11]\n",
    "LB = [7,4,8,2,5,8,1,9]\n",
    "\n",
    "# Make a new list that sums the elements in the two lists \n",
    "\n",
    "\n",
    "C = [a+b for (a,b) in zip(LA, LB)]\n",
    "C"
   ]
  },
  {
   "cell_type": "code",
   "execution_count": 26,
   "metadata": {
    "slideshow": {
     "slide_type": "slide"
    }
   },
   "outputs": [
    {
     "name": "stdout",
     "output_type": "stream",
     "text": [
      "2\n",
      "5\n",
      "6\n",
      "-2\n",
      "2\n"
     ]
    }
   ],
   "source": [
    "# We have a dictionary\n",
    "dica = { 'A': 2,'B': 6,'C': 5,'D': 2,'E': -2}\n",
    "for value in dica:\n",
    "    print(dica[value])"
   ]
  },
  {
   "cell_type": "code",
   "execution_count": 27,
   "metadata": {
    "slideshow": {
     "slide_type": "fragment"
    }
   },
   "outputs": [
    {
     "name": "stdout",
     "output_type": "stream",
     "text": [
      "2\n",
      "5\n",
      "6\n",
      "-2\n",
      "2\n"
     ]
    }
   ],
   "source": [
    "# Another way of doing the same thing is \n",
    "dica = { 'A': 2,'B': 6,'C': 5,'D': 2,'E': -2}\n",
    "for value in dica.values():\n",
    "    print value\n"
   ]
  },
  {
   "cell_type": "code",
   "execution_count": 29,
   "metadata": {
    "slideshow": {
     "slide_type": "slide"
    }
   },
   "outputs": [
    {
     "name": "stdout",
     "output_type": "stream",
     "text": [
      "This person is in category A and scored 2\n",
      "This person is in category C and scored 5\n",
      "This person is in category B and scored 6\n",
      "This person is in category E and scored -2\n",
      "This person is in category D and scored 2\n"
     ]
    }
   ],
   "source": [
    "# If you want the pair then \n",
    "dica = { 'A': 2,'B': 6,'C': 5,'D': 2,'E': -2}\n",
    "for category, value in dica.items():\n",
    "    print('This person is in category {} had a score of  {}'.format(category, value))\n"
   ]
  },
  {
   "cell_type": "code",
   "execution_count": 7,
   "metadata": {},
   "outputs": [
    {
     "name": "stdout",
     "output_type": "stream",
     "text": [
      "['North', 'North', 'South', 'West', 'North', 'South', 'East', 'North', 'North', 'West']\n"
     ]
    }
   ],
   "source": [
    "myresults =['N','N','S','W','N','S','E','N','N','W' ]\n",
    "details = {'N': 'North', 'S':'South', 'E':'East', 'W':'West'}\n",
    "\n",
    "# We want to create a list and repalce myresults with full directions\n",
    "\n",
    "Better = [details[i] for i in myresults]\n",
    "print Better"
   ]
  },
  {
   "cell_type": "markdown",
   "metadata": {
    "slideshow": {
     "slide_type": "slide"
    }
   },
   "source": [
    "##  Functions\n",
    "1. In Python we use `def` statement to define a function\n",
    "2. A function usually takes in a bunch of inputs, uses a bunch of LOCAL variables and then returns a bunch of stuff\n",
    "3. The simple function takes in nothing and returns  one value\n",
    "4. Most functions we will build will take in some inputs and produce one or more items \n",
    "5. These items could be stored in Lists or dictionaries....We will see.\n",
    "6. Functions can call functions.\n",
    "7. The key to building functions is to make them as simple as possible and take advantage of the fact that functions can call functions\n"
   ]
  },
  {
   "cell_type": "markdown",
   "metadata": {},
   "source": [
    "Function are use for encapsulating a block of code that we tend to repeat over and over again in other part of our projects. Basic syntax\n",
    "\n",
    "```python\n",
    "def function_name(arg1, arg2,..., argN):\n",
    "    \"\"\"\n",
    "    Docstring here\n",
    "    \"\"\"\n",
    "    \n",
    "    statement here\n",
    "    \n",
    "    return <value>\n",
    "\n",
    "```"
   ]
  },
  {
   "cell_type": "markdown",
   "metadata": {},
   "source": [
    "## Function with positional parameter and arguments"
   ]
  },
  {
   "cell_type": "code",
   "execution_count": 20,
   "metadata": {
    "collapsed": true,
    "slideshow": {
     "slide_type": "slide"
    }
   },
   "outputs": [],
   "source": [
    "# Define a function to sort two numerical value\n",
    "# x and y here are positional parameters\n",
    "def large_two(x,y) :\n",
    "    if x > y :\n",
    "        return x\n",
    "    else :\n",
    "        return y"
   ]
  },
  {
   "cell_type": "code",
   "execution_count": 21,
   "metadata": {
    "slideshow": {
     "slide_type": "fragment"
    }
   },
   "outputs": [
    {
     "data": {
      "text/plain": [
       "42"
      ]
     },
     "execution_count": 21,
     "metadata": {},
     "output_type": "execute_result"
    }
   ],
   "source": [
    "# here 3 and 42 are positional arguments\n",
    "large_two(3,42)"
   ]
  },
  {
   "cell_type": "code",
   "execution_count": 13,
   "metadata": {
    "collapsed": true,
    "slideshow": {
     "slide_type": "slide"
    }
   },
   "outputs": [],
   "source": [
    "# Define a function to calculate the factorial of n\n",
    "def fac(n) :\n",
    "    fact = 1\n",
    "    for i in range(1,n+1) :\n",
    "        fact = fact * i\n",
    "    return fact"
   ]
  },
  {
   "cell_type": "code",
   "execution_count": 14,
   "metadata": {
    "slideshow": {
     "slide_type": "fragment"
    }
   },
   "outputs": [
    {
     "data": {
      "text/plain": [
       "1"
      ]
     },
     "execution_count": 14,
     "metadata": {},
     "output_type": "execute_result"
    }
   ],
   "source": [
    "fac(1)"
   ]
  },
  {
   "cell_type": "code",
   "execution_count": 15,
   "metadata": {
    "slideshow": {
     "slide_type": "fragment"
    }
   },
   "outputs": [
    {
     "data": {
      "text/plain": [
       "6"
      ]
     },
     "execution_count": 15,
     "metadata": {},
     "output_type": "execute_result"
    }
   ],
   "source": [
    "fac(3)"
   ]
  },
  {
   "cell_type": "markdown",
   "metadata": {},
   "source": [
    "## keyword arguments, and default values\n",
    "\n",
    "Sometimes you want to provide a reasonable default values to the parameters used in your function definition.\n",
    "\n",
    "syntax:\n",
    "\n",
    "```python\n",
    "def function_name(arg1, kwarg1 = value):\n",
    "    do something\n",
    "\n",
    "```\n",
    "\n",
    "NOTE: positional argument must be specified before keyword arguments\n"
   ]
  },
  {
   "cell_type": "code",
   "execution_count": 23,
   "metadata": {
    "collapsed": true
   },
   "outputs": [],
   "source": [
    "def add(x = 0, y = 0 ):\n",
    "    return x + y\n"
   ]
  },
  {
   "cell_type": "code",
   "execution_count": 25,
   "metadata": {},
   "outputs": [
    {
     "data": {
      "text/plain": [
       "0"
      ]
     },
     "execution_count": 25,
     "metadata": {},
     "output_type": "execute_result"
    }
   ],
   "source": [
    "add()"
   ]
  },
  {
   "cell_type": "code",
   "execution_count": 26,
   "metadata": {},
   "outputs": [
    {
     "data": {
      "text/plain": [
       "5"
      ]
     },
     "execution_count": 26,
     "metadata": {},
     "output_type": "execute_result"
    }
   ],
   "source": [
    "add(2,3)"
   ]
  },
  {
   "cell_type": "markdown",
   "metadata": {},
   "source": [
    "Returning more than one values gets collected in a tuple\n",
    "\n"
   ]
  },
  {
   "cell_type": "code",
   "execution_count": 27,
   "metadata": {},
   "outputs": [
    {
     "data": {
      "text/plain": [
       "(7, 12, -1)"
      ]
     },
     "execution_count": 27,
     "metadata": {},
     "output_type": "execute_result"
    }
   ],
   "source": [
    "def operations(x,y):\n",
    "    return x+y, x*y, x-y\n",
    "\n",
    "operations(3,4)"
   ]
  },
  {
   "cell_type": "code",
   "execution_count": 28,
   "metadata": {},
   "outputs": [
    {
     "data": {
      "text/plain": [
       "(7, 12, -1)"
      ]
     },
     "execution_count": 28,
     "metadata": {},
     "output_type": "execute_result"
    }
   ],
   "source": [
    "# You can assign it to a variable like so:\n",
    "\n",
    "var = operations(3,4)\n",
    "var"
   ]
  },
  {
   "cell_type": "code",
   "execution_count": 30,
   "metadata": {},
   "outputs": [
    {
     "name": "stdout",
     "output_type": "stream",
     "text": [
      "a = 7\n",
      "b = 12\n",
      "c = -1\n"
     ]
    }
   ],
   "source": [
    "a, b,c = operations(3,4)\n",
    "print('a = '+ str(a))\n",
    "print('b = '+ str(b))\n",
    "print('c = '+ str(c))"
   ]
  },
  {
   "cell_type": "markdown",
   "metadata": {},
   "source": [
    "### Variable number of arguments\n",
    "\n",
    "If the number of arguments that is to be accepted by a function is not known then a asterisk symbol is used before the argument."
   ]
  },
  {
   "cell_type": "code",
   "execution_count": 36,
   "metadata": {},
   "outputs": [],
   "source": [
    "from __future__ import print_function\n",
    "def many_arguments(*args, **kwargs):\n",
    "    prompt_args = \"These are the positional arguments\"\n",
    "    prompt_kwargs = \"These are the kwarg arguments\"\n",
    "    print(prompt_args +\": \\n\" + len(prompt_args)*'_')\n",
    "    print(\"\\n\")\n",
    "    print(\"args: \", args)\n",
    "    print(\"\\n\")\n",
    "    print(prompt_kwargs +\": \\n\" + len(prompt_kwargs)*'_')\n",
    "    print(\"\\n\")\n",
    "    print(\"kwargs: \", kwargs)"
   ]
  },
  {
   "cell_type": "code",
   "execution_count": 37,
   "metadata": {},
   "outputs": [
    {
     "name": "stdout",
     "output_type": "stream",
     "text": [
      "These are the positional arguments: \n",
      "__________________________________\n",
      "\n",
      "\n",
      "args:  (3, 4, 5, 6)\n",
      "\n",
      "\n",
      "These are the kwarg arguments: \n",
      "_____________________________\n",
      "\n",
      "\n",
      "kwargs:  {'arg1': 2, 'arg2': 45}\n"
     ]
    }
   ],
   "source": [
    "many_arguments(3,4,5,6, arg1 = 2, arg2 = 45)"
   ]
  },
  {
   "cell_type": "markdown",
   "metadata": {},
   "source": [
    "# Global and local variables\n",
    "\n",
    "Any variable defined in the body of a function is local to the function whilt any other variable defined outside the function is a global variable"
   ]
  },
  {
   "cell_type": "code",
   "execution_count": 45,
   "metadata": {
    "collapsed": true
   },
   "outputs": [],
   "source": [
    "x = 5\n",
    "def fun():\n",
    "    x = 56\n",
    "    return x"
   ]
  },
  {
   "cell_type": "code",
   "execution_count": 46,
   "metadata": {},
   "outputs": [
    {
     "data": {
      "text/plain": [
       "56"
      ]
     },
     "execution_count": 46,
     "metadata": {},
     "output_type": "execute_result"
    }
   ],
   "source": [
    "fun()"
   ]
  },
  {
   "cell_type": "code",
   "execution_count": 48,
   "metadata": {},
   "outputs": [
    {
     "data": {
      "text/plain": [
       "5"
      ]
     },
     "execution_count": 48,
     "metadata": {},
     "output_type": "execute_result"
    }
   ],
   "source": [
    "x = 5\n",
    "\n",
    "def fun2():\n",
    "    return x\n",
    "\n",
    "\n",
    "fun2()"
   ]
  },
  {
   "cell_type": "markdown",
   "metadata": {},
   "source": [
    "### Anonymous functions\n",
    "\n",
    "These are function that a normally defined on the fly without any itention of having to reuse them.\n",
    "\n",
    "These can be created with the `lambda` statement:\n",
    "\n",
    "syntax\n",
    "\n",
    "```python\n",
    "lambda arg1,...argN: statements\n",
    "```"
   ]
  },
  {
   "cell_type": "code",
   "execution_count": 50,
   "metadata": {},
   "outputs": [
    {
     "data": {
      "text/plain": [
       "16"
      ]
     },
     "execution_count": 50,
     "metadata": {},
     "output_type": "execute_result"
    }
   ],
   "source": [
    "f = lambda x: x**2\n",
    "f(4)"
   ]
  },
  {
   "cell_type": "markdown",
   "metadata": {},
   "source": [
    "#### The lambda function is really handy with the following functions:\n",
    "+ map():   \n",
    "        applies a function to list of objects\n",
    "        \n",
    "- filter()  \n",
    "        fetches objects in a list that satisfy a particular condition\n",
    "        \n",
    "* reduce()  \n",
    "         collapses a sequence into a single value"
   ]
  },
  {
   "cell_type": "code",
   "execution_count": 51,
   "metadata": {},
   "outputs": [
    {
     "data": {
      "text/plain": [
       "[3, 4, 5]"
      ]
     },
     "execution_count": 51,
     "metadata": {},
     "output_type": "execute_result"
    }
   ],
   "source": [
    "map(lambda x: x-1, range(4,7))"
   ]
  },
  {
   "cell_type": "code",
   "execution_count": 53,
   "metadata": {},
   "outputs": [
    {
     "data": {
      "text/plain": [
       "[8, 10, 12]"
      ]
     },
     "execution_count": 53,
     "metadata": {},
     "output_type": "execute_result"
    }
   ],
   "source": [
    "map(lambda x,y: x+y, range(4,7), range(4,7))"
   ]
  },
  {
   "cell_type": "code",
   "execution_count": 55,
   "metadata": {},
   "outputs": [
    {
     "data": {
      "text/plain": [
       "[2, 4, 6, 8, 10, 12, 14, 16, 18, 20]"
      ]
     },
     "execution_count": 55,
     "metadata": {},
     "output_type": "execute_result"
    }
   ],
   "source": [
    "\n",
    "filter(lambda x: x%2 == 0, range(1,21))"
   ]
  },
  {
   "cell_type": "code",
   "execution_count": 56,
   "metadata": {},
   "outputs": [
    {
     "data": {
      "text/plain": [
       "45"
      ]
     },
     "execution_count": 56,
     "metadata": {},
     "output_type": "execute_result"
    }
   ],
   "source": [
    "# adds numbers in a list\n",
    "reduce(lambda x,y: x + y , range(1,10))"
   ]
  },
  {
   "cell_type": "code",
   "execution_count": 57,
   "metadata": {},
   "outputs": [
    {
     "data": {
      "text/plain": [
       "54"
      ]
     },
     "execution_count": 57,
     "metadata": {},
     "output_type": "execute_result"
    }
   ],
   "source": [
    "# Determine largest number in a sequence\n",
    "reduce(lambda a,b: a if a>b else b, [4,23,54,32,0,45,2])"
   ]
  },
  {
   "cell_type": "markdown",
   "metadata": {
    "collapsed": true,
    "slideshow": {
     "slide_type": "slide"
    }
   },
   "source": [
    "### Define a function to find the largest one and smallest one of one input array, and return both two values\n",
    "\n",
    "1. Here the input has to be a list variable, otherwise we can not use \"len\" function here\n",
    "2. Here we return a tuple variable which contains two values.\n",
    "\n",
    "    "
   ]
  },
  {
   "cell_type": "code",
   "execution_count": 2,
   "metadata": {
    "collapsed": true,
    "slideshow": {
     "slide_type": "fragment"
    }
   },
   "outputs": [],
   "source": [
    "def lar_sma(x) :\n",
    "    lar = x[0]\n",
    "    sma = x[0]\n",
    "    for i in range(len(x)) :\n",
    "        if x[i] > lar :\n",
    "            lar = x[i]\n",
    "        if x[i] < sma :\n",
    "            sma = x[i]\n",
    "    return (lar,sma)"
   ]
  },
  {
   "cell_type": "code",
   "execution_count": 3,
   "metadata": {
    "slideshow": {
     "slide_type": "fragment"
    }
   },
   "outputs": [
    {
     "data": {
      "text/plain": [
       "(324, -4)"
      ]
     },
     "execution_count": 3,
     "metadata": {},
     "output_type": "execute_result"
    }
   ],
   "source": [
    "a = [1,3,-4,5,11,324,76]\n",
    "lar_sma(a)"
   ]
  },
  {
   "cell_type": "code",
   "execution_count": 18,
   "metadata": {
    "collapsed": true,
    "slideshow": {
     "slide_type": "slide"
    }
   },
   "outputs": [],
   "source": [
    "# Function can call other functions\n",
    "\n",
    "\n",
    "a = 44\n",
    "b = 21\n",
    "def print_large (a,b) :\n",
    "    large = large_two(a,b)\n",
    "    print ('the larger one is %d' % large)"
   ]
  },
  {
   "cell_type": "code",
   "execution_count": 19,
   "metadata": {
    "slideshow": {
     "slide_type": "fragment"
    }
   },
   "outputs": [
    {
     "name": "stdout",
     "output_type": "stream",
     "text": [
      "the larger one is 44\n"
     ]
    }
   ],
   "source": [
    "print_large(a,b)"
   ]
  },
  {
   "cell_type": "code",
   "execution_count": 24,
   "metadata": {},
   "outputs": [
    {
     "name": "stdout",
     "output_type": "stream",
     "text": [
      "{'sumN': 7, 'ProdN': 8}\n",
      "7\n"
     ]
    }
   ],
   "source": [
    "# Functions can return multiple variables \n",
    "sumN = 0\n",
    "prodN = 0\n",
    "# Define a dictionary \n",
    "#outp = {'sumN': sumN, 'ProdN':prodN}\n",
    "def PR_mult(a,b,c):\n",
    "    sumN = a+b+c\n",
    "    prodN = a*b*c\n",
    "    outp = {'sumN': sumN, 'ProdN':prodN}\n",
    "    return outp\n",
    "outp = PR_mult(1,2,4)\n",
    "print outp\n",
    "print outp['sumN']"
   ]
  },
  {
   "cell_type": "markdown",
   "metadata": {
    "slideshow": {
     "slide_type": "slide"
    }
   },
   "source": [
    "III. Homework Assignment"
   ]
  },
  {
   "cell_type": "markdown",
   "metadata": {
    "slideshow": {
     "slide_type": "slide"
    }
   },
   "source": [
    "(1) Write a function to take a positive integer grade as input. Then you have to change it to letter grade. At last, you have to print the original grade and letter grade. If the student get an 'F', you have to print another sentence \"Come on !\"The rule of changing numerical grade to letter is : A: 85-100; B: 70-85; C: 60-70; D: 55-60; F: <55"
   ]
  },
  {
   "cell_type": "markdown",
   "metadata": {
    "slideshow": {
     "slide_type": "slide"
    }
   },
   "source": [
    "(2) Write a function to return Fibonacci Sequence numbers. Fibonacci sequence numbers are as follows: 1, 1, 2, 3, 5, 8, 13, 21, 34, ...From the 3rd number, each nubmer is the summation of previous two numbers. "
   ]
  },
  {
   "cell_type": "markdown",
   "metadata": {
    "slideshow": {
     "slide_type": "slide"
    }
   },
   "source": [
    "(3) Write a function to sort the input array and output it in ascending order. (The input array is a list variable.)"
   ]
  },
  {
   "cell_type": "markdown",
   "metadata": {
    "slideshow": {
     "slide_type": "slide"
    }
   },
   "source": [
    "(4) Suppose you download shares outstanding data from web pages. However, sometimes it is quoted in millions and it ends with \"m\", such as \"100m\". Sometimes it is quoted in billions and it ends with \"b\", such as \"100b\". Sometiems it is quoted in shares, such as \"1000000\". Please write a function that can find and substiture \"b\" and \"m\" with right numbers. Your function should return right shares numbers. "
   ]
  },
  {
   "cell_type": "markdown",
   "metadata": {
    "slideshow": {
     "slide_type": "slide"
    }
   },
   "source": [
    "#You have two lists: \n",
    "1. a list of what group each patient was in.\n",
    "\n",
    "L_patientG=[ 'A', 'B','A','C','A','C','C','B','B','A']\n",
    "L_scores=[1,3,2,3,3,2,2,1,4,5]\n",
    "\n",
    "2. You need to compute the mean score for each category and place these means in a  dictionary\n",
    "\n",
    "\n"
   ]
  },
  {
   "cell_type": "code",
   "execution_count": 11,
   "metadata": {},
   "outputs": [
    {
     "name": "stdout",
     "output_type": "stream",
     "text": [
      "{'A': 2.75, 'C': 2.3333333333333335, 'B': 2.6666666666666665}\n"
     ]
    },
    {
     "data": {
      "text/plain": [
       "{'A': 2.75, 'B': 2.667, 'C': 2.333}"
      ]
     },
     "execution_count": 11,
     "metadata": {},
     "output_type": "execute_result"
    }
   ],
   "source": [
    "L_group   =      [ 'A', 'B','A','C','A','C','C','B','B','A']\n",
    "L_scores     =      [1,3,2,3,3,2,2,1,4,5]\n",
    "\n",
    "# What do we want to have \n",
    "\n",
    "means = {'A':0, 'B':0, 'C':0}\n",
    "count = {'A':0, 'B':0, 'C':0}\n",
    "\n",
    "# We want to replace these values of zero with mean scores.\n",
    "# We need to sum up the scores for each group type and we need to compute the total in each group\n",
    "\n",
    "# If we use the zip command we will know (group, score). Right?\n",
    "# And once we have this information we can manipulate it ( add to appropriate counters etc.\n",
    "# And once we have the answers we can place them in our dictionary.\n",
    "\n",
    "#So\n",
    "\n",
    "for group, score in zip(L_group, L_scores):\n",
    "    #Use group as a key for means \n",
    "    means[group]= means[group] + score\n",
    "    count[group] = count[group] + 1.0\n",
    "    \n",
    "# So we now know the totals in each group and we know the counts in each group\n",
    "# For each group we now have to find the mean\n",
    "for group in means:\n",
    "    means[group] = means[group]/count[group]\n",
    "    \n",
    "# We can print out the results \n",
    "print means\n",
    "# THis is a bit ugly\n",
    "\n",
    "    \n",
    "for category, values  in means.items():\n",
    "    means[category]= round(means[category],3)\n",
    "    \n",
    "    \n",
    "means \n",
    "\n",
    "\n"
   ]
  },
  {
   "cell_type": "code",
   "execution_count": null,
   "metadata": {
    "collapsed": true
   },
   "outputs": [],
   "source": []
  }
 ],
 "metadata": {
  "celltoolbar": "Slideshow",
  "kernelspec": {
   "display_name": "Python 2",
   "language": "python",
   "name": "python2"
  },
  "language_info": {
   "codemirror_mode": {
    "name": "ipython",
    "version": 2
   },
   "file_extension": ".py",
   "mimetype": "text/x-python",
   "name": "python",
   "nbconvert_exporter": "python",
   "pygments_lexer": "ipython2",
   "version": "2.7.13"
  }
 },
 "nbformat": 4,
 "nbformat_minor": 1
}
