{
 "cells": [
  {
   "cell_type": "code",
   "execution_count": 1,
   "metadata": {
    "collapsed": true
   },
   "outputs": [],
   "source": [
    "import numpy\n"
   ]
  },
  {
   "cell_type": "markdown",
   "metadata": {},
   "source": [
    "- By default, all arguments (inputs to a function) are required. However, you can insert keyword arguments(optional arguments) by giving them a default value:\n"
   ]
  },
  {
   "cell_type": "markdown",
   "metadata": {},
   "source": [
    "1. def func_with_two(one, two):\n",
    "\n",
    "    \"\"\"\n",
    "    This function only takes in two arguments because we explicitly\n",
    "    defined two formal parameters. Any more or any less will cause an\n",
    "    error.\n",
    "    \"\"\"\n",
    "\n",
    "2. def func_with_start_args(*args):\n",
    "\n",
    "    \"\"\"\n",
    "    This function can take in any number of arguments, including zero!\n",
    "    \"\"\"\n",
    "\n",
    "3. def func_with_both(one, two, *args):\n",
    "\n",
    "    \"\"\"\n",
    "    This function requires <i>at least</i> two arguments. The *args at the end\n",
    "    says that it can take just two arguments or any number of arguments as long\n",
    "    as there are at least two.\n",
    "    \"\"\""
   ]
  },
  {
   "cell_type": "code",
   "execution_count": null,
   "metadata": {
    "collapsed": true
   },
   "outputs": [],
   "source": []
  },
  {
   "cell_type": "code",
   "execution_count": 4,
   "metadata": {
    "collapsed": false
   },
   "outputs": [],
   "source": [
    "# here is a function that takes in a vector data. \n",
    "#It has a second parameter which is not essential. Right now it is set to FALSE.\n",
    "# But if it is set to True, we get a different answer. It will square the mean.\n",
    "\n",
    "def PR_mean(data, square=False):\n",
    "    data_mean = sum(data)/len(data)\n",
    "    return data_mean**2 if square else data_mean"
   ]
  },
  {
   "cell_type": "code",
   "execution_count": 7,
   "metadata": {
    "collapsed": false
   },
   "outputs": [
    {
     "name": "stdout",
     "output_type": "stream",
     "text": [
      "2\n",
      "4\n"
     ]
    }
   ],
   "source": [
    "x = PR_mean([1,2,3])\n",
    "print x\n",
    "L = [1,2,3]\n",
    "x = PR_mean(L, True)\n",
    "print x"
   ]
  },
  {
   "cell_type": "code",
   "execution_count": 76,
   "metadata": {
    "collapsed": false
   },
   "outputs": [
    {
     "name": "stdout",
     "output_type": "stream",
     "text": [
      "110\n",
      "6\n",
      "111\n",
      "100\n"
     ]
    }
   ],
   "source": [
    "# here is a second example. There are three inputs a, b, c.\n",
    "# The user can enter zero, one two or three paprameters. The ones not chosen are set to their default values.\n",
    "\n",
    "def PR_sum(a= 0, b = 10, c=100):\n",
    "    sum = a + b+c\n",
    "    return sum\n",
    "print PR_sum()\n",
    "print PR_sum(1,2,3)\n",
    "print PR_sum(a=1)\n",
    "print PR_sum(b= 0)\n",
    "\n"
   ]
  },
  {
   "cell_type": "markdown",
   "metadata": {},
   "source": [
    "- Sometimes, you may not  know how many arguments will be given to a function, or what the names of the arguments will be. Python has no problem with this!"
   ]
  },
  {
   "cell_type": "markdown",
   "metadata": {},
   "source": [
    "## *args allow you to pass a variable  number of arguments to a function.\n",
    "- If you do not know before hand that how many arguments can be passed to your function \n",
    "by the user then use *args \n",
    "- *args is used to send a  variable length argument list to the function. \n",
    "- Here’s an example to help you get a clear idea:"
   ]
  },
  {
   "cell_type": "code",
   "execution_count": 12,
   "metadata": {
    "collapsed": false
   },
   "outputs": [
    {
     "name": "stdout",
     "output_type": "stream",
     "text": [
      "first expected variable (anormal arg) important\n",
      "another arg through *argv : v1\n",
      "another arg through *argv : v2\n",
      "another arg through *argv : v3\n"
     ]
    }
   ],
   "source": [
    "def PR_var_args(first, *argv):\n",
    "    print \"first expected variable (anormal arg)\", first\n",
    "    for arg in argv:\n",
    "        print \"another arg through *argv :\", arg\n",
    "\n",
    "PR_var_args('important','v1','v2','v3')"
   ]
  },
  {
   "cell_type": "markdown",
   "metadata": {},
   "source": [
    "## *kwargs\n",
    "1. This is shorthand for keywordered variable lenth arguments\n",
    "2. It allows you to pass NAMED arguments into a function\n",
    "3. Note that *args a variable number of inputs occur but the variables themselves are not named.\n",
    "\n"
   ]
  },
  {
   "cell_type": "code",
   "execution_count": 79,
   "metadata": {
    "collapsed": false
   },
   "outputs": [
    {
     "name": "stdout",
     "output_type": "stream",
     "text": [
      "arg1 v1\n",
      "arg2 v2\n",
      "arg3 v3\n",
      "arg1 v1\n",
      "arg2 second\n",
      "arg3 third\n",
      "arg1 v1\n",
      "arg2 2\n",
      "arg3 Three\n"
     ]
    }
   ],
   "source": [
    "def PR_test1(arg1, arg2, arg3):\n",
    "    print \"arg1\", arg1\n",
    "    print \"arg2\", arg2\n",
    "    print  'arg3', arg3\n",
    "\n",
    "    \n",
    "    \n",
    "# We have three inputs all of which are read in:    \n",
    "arg1 = 'v1'\n",
    "arg2 = 'v2'\n",
    "arg3 = 'v3'\n",
    "\n",
    "PR_test1(arg1, arg2, arg3)\n",
    "\n",
    "\n",
    "# We have one mandatory input and two others:\n",
    "# In the function these two other variables not named.\n",
    "\n",
    "args = ('second', 'third')\n",
    "PR_test1(arg1, *args)\n",
    "\n",
    "#Here we have a dictionary which we pass through to the function.\n",
    "# Before we pass the dictionary we can set values for the keys as we see fit.\n",
    "# The two stars says: Take the values  from the keys and appropriately use their values  in the function\n",
    "\n",
    "\n",
    "dic_args = {'arg3': 'Three', 'arg2': 2}\n",
    "PR_test1(arg1, **dic_args)\n"
   ]
  },
  {
   "cell_type": "code",
   "execution_count": 84,
   "metadata": {
    "collapsed": false
   },
   "outputs": [
    {
     "name": "stdout",
     "output_type": "stream",
     "text": [
      " arg1 v1\n",
      "arg2 2\n",
      "arg3 Three\n",
      "None\n"
     ]
    }
   ],
   "source": [
    "# I guess we could have defined the function with the dictionary being the second argument\n",
    "# But then we would have an additional step, namely we would have to unpack the dictionary.\n",
    "dic_args = {'arg3': 'Three', 'arg2': 2}\n",
    "\n",
    "def PR_test2(arg1, dic_args):\n",
    "    arg2 = dic_args['arg2']\n",
    "    arg3 = dic_args['arg3']\n",
    "    print \"arg1\", arg1\n",
    "    print \"arg2\", arg2\n",
    "    print  'arg3', arg3\n",
    "    \n",
    "print PR_test2(arg1, dic_args)\n",
    "    \n",
    "    \n",
    "    \n",
    "\n"
   ]
  },
  {
   "cell_type": "code",
   "execution_count": 40,
   "metadata": {
    "collapsed": false
   },
   "outputs": [
    {
     "name": "stdout",
     "output_type": "stream",
     "text": [
      "This parrot wouldn't FLY\n",
      "if you put FOUR MILLION volts through it.\n",
      "Its state is DEAD !\n",
      "This parrot wouldn't bbb\n",
      "if you put 1m volts through it.\n",
      "Its state is aaa !\n",
      "This parrot wouldn't bbb\n",
      "if you put 100 volts through it.\n",
      "Its state is aaa !\n",
      "This parrot wouldn't d\n",
      "if you put 100 volts through it.\n",
      "Its state is c !\n",
      "This parrot wouldn't bbb\n",
      "if you put {'voltage': '1m'} volts through it.\n",
      "Its state is aaa !\n"
     ]
    }
   ],
   "source": [
    "def parrot(voltage, state='aaa', action='bbb'):\n",
    "    # This routine needs three named inputs, voltage state and action\n",
    "    print \"This parrot wouldn't\", action\n",
    "    print \"if you put\", voltage, \"volts through it.\"\n",
    "    print\"Its state is\", state, \"!\"\n",
    "    \n",
    "\n",
    "    # define a dictionary with keys:  state , action and volatage \n",
    "    \n",
    "d = {\"voltage\": \"FOUR MILLION\", \"state\": \"DEAD\", \"action\": \"FLY\"}\n",
    "parrot(**d)\n",
    "\n",
    "d = {'voltage': '1m'}\n",
    "parrot(**d)\n",
    "\n",
    "parrot(100)\n",
    "b = ['c','d']\n",
    "parrot(100, *b)\n",
    "\n",
    "parrot(d)"
   ]
  },
  {
   "cell_type": "markdown",
   "metadata": {},
   "source": [
    "1. Methods are functions built into objects\n",
    "2. They perform specific actions on the object\n",
    "3. They may have some arguments\n",
    "4. object.method(arg1,arg2)\n",
    "5. \n"
   ]
  },
  {
   "cell_type": "code",
   "execution_count": 41,
   "metadata": {
    "collapsed": true
   },
   "outputs": [],
   "source": [
    "l =[1,2,3,4,5]\n"
   ]
  },
  {
   "cell_type": "markdown",
   "metadata": {},
   "source": [
    "1. l.<hit tab>\n",
    "2. highlight the one you want and it will appear in your notebook\n",
    "3. now hit shift tab and you will get the details. Hit the plus sign for more information. \n",
    "4. Or you can use help\n",
    "5. note that tab also does auto complete\n",
    "\n"
   ]
  },
  {
   "cell_type": "code",
   "execution_count": 42,
   "metadata": {
    "collapsed": false
   },
   "outputs": [
    {
     "name": "stdout",
     "output_type": "stream",
     "text": [
      "Help on built-in function count:\n",
      "\n",
      "count(...)\n",
      "    L.count(value) -> integer -- return number of occurrences of value\n",
      "\n"
     ]
    }
   ],
   "source": [
    "help(l.count)"
   ]
  },
  {
   "cell_type": "markdown",
   "metadata": {},
   "source": [
    "## Adding  information about your function\n",
    "1. We want to add a docstream to our function\n",
    "2. This is useful since it  tells users what the function does\n",
    "3. We also learn a bit more about how Jupyter can assis us"
   ]
  },
  {
   "cell_type": "code",
   "execution_count": 93,
   "metadata": {
    "collapsed": false
   },
   "outputs": [],
   "source": [
    "# After defining a function, place 3 quotation marks and type up an explanation \n",
    "# of what the function does\n",
    "\n",
    "def PR_sum(a,b):\n",
    "    '''\n",
    "    INPUTS: This function takes in two numbers\n",
    "    OUTPUT: It produces the sum of these two numbers \n",
    "    This is a docstream\n",
    "    '''\n",
    "    return a+b"
   ]
  },
  {
   "cell_type": "code",
   "execution_count": 95,
   "metadata": {
    "collapsed": false
   },
   "outputs": [
    {
     "name": "stdout",
     "output_type": "stream",
     "text": [
      "7\n",
      "A B\n"
     ]
    }
   ],
   "source": [
    "# Now say you want to learn what this function does\n",
    "#1. Type the name and then hit:shift tab\n",
    "\n",
    "out =  PR_sum(2,5)\n",
    "\n",
    "\n",
    "# Note that  in the function we never required inputs to be numbers.\n",
    "outa = PR_sum('A', ' B')\n",
    "\n",
    "print out\n",
    "\n",
    "print outa\n"
   ]
  },
  {
   "cell_type": "markdown",
   "metadata": {},
   "source": [
    "### Lambda Expressions \n",
    "1. Lambda expressions allow us to create \"anonymous\" functions\n",
    "2. This means we can make a simple ad hoc function without using the def command\n",
    "3.  It consists of a single expression. We do not have to return the expression.\n"
   ]
  },
  {
   "cell_type": "code",
   "execution_count": 49,
   "metadata": {
    "collapsed": false
   },
   "outputs": [],
   "source": [
    "square = lambda num: num**2"
   ]
  },
  {
   "cell_type": "code",
   "execution_count": 50,
   "metadata": {
    "collapsed": false
   },
   "outputs": [
    {
     "data": {
      "text/plain": [
       "100"
      ]
     },
     "execution_count": 50,
     "metadata": {},
     "output_type": "execute_result"
    }
   ],
   "source": [
    "square(10)"
   ]
  },
  {
   "cell_type": "code",
   "execution_count": 51,
   "metadata": {
    "collapsed": false
   },
   "outputs": [
    {
     "data": {
      "text/plain": [
       "False"
      ]
     },
     "execution_count": 51,
     "metadata": {},
     "output_type": "execute_result"
    }
   ],
   "source": [
    "# Check if a number is even \n",
    "even = lambda num:num%2 ==0\n",
    "even(3)"
   ]
  },
  {
   "cell_type": "code",
   "execution_count": 52,
   "metadata": {
    "collapsed": true
   },
   "outputs": [],
   "source": [
    "# Grab the first character of a string \n",
    "first= lambda s: s[0]"
   ]
  },
  {
   "cell_type": "code",
   "execution_count": 53,
   "metadata": {
    "collapsed": false
   },
   "outputs": [
    {
     "data": {
      "text/plain": [
       "'h'"
      ]
     },
     "execution_count": 53,
     "metadata": {},
     "output_type": "execute_result"
    }
   ],
   "source": [
    "first('hell')"
   ]
  },
  {
   "cell_type": "code",
   "execution_count": 54,
   "metadata": {
    "collapsed": false
   },
   "outputs": [
    {
     "data": {
      "text/plain": [
       "5"
      ]
     },
     "execution_count": 54,
     "metadata": {},
     "output_type": "execute_result"
    }
   ],
   "source": [
    "sum2 = lambda x,y:x+y\n",
    "sum2(1,4)"
   ]
  },
  {
   "cell_type": "markdown",
   "metadata": {},
   "source": [
    "## The Scope of Python variables\n",
    "1. local   Variable inside a def or lambda and not declared global\n",
    "2. If Python cannot find the variable in local it looks for it in any and all enclosing functions from inner to outer\n",
    "3. Then Global\n",
    "4. Then Reserved Names "
   ]
  },
  {
   "cell_type": "code",
   "execution_count": 66,
   "metadata": {
    "collapsed": false
   },
   "outputs": [
    {
     "name": "stdout",
     "output_type": "stream",
     "text": [
      "10\n"
     ]
    }
   ],
   "source": [
    "My_number = 2\n",
    "\n",
    "def  outer():\n",
    "    My_number = 10\n",
    "    print My_number\n",
    "    def inner():\n",
    "        print ' Number is', My_number\n",
    "        \n",
    "outer()\n",
    "    "
   ]
  },
  {
   "cell_type": "code",
   "execution_count": 65,
   "metadata": {
    "collapsed": false
   },
   "outputs": [
    {
     "name": "stdout",
     "output_type": "stream",
     "text": [
      "50\n"
     ]
    }
   ],
   "source": [
    "# A Global Statement versus a Local Statement \n",
    "\n",
    "x= 50\n",
    "\n",
    "def func():\n",
    "    #global x\n",
    "    x= 2\n",
    "    \n",
    "func()\n",
    "print x"
   ]
  },
  {
   "cell_type": "markdown",
   "metadata": {},
   "source": [
    "## Classes\n",
    "1. Sometimes we have a set of related functions that we can group together into a class\n",
    "2. Lets look at how we can build and use a class"
   ]
  },
  {
   "cell_type": "code",
   "execution_count": 5,
   "metadata": {
    "collapsed": false
   },
   "outputs": [],
   "source": [
    "class Calc():\n",
    "    \n",
    "    __init__\n",
    "    def add(self,x,y):\n",
    "        answer = x+y\n",
    "        return answer\n",
    "    \n",
    "    def sub(self,x,y):\n",
    "        answer = x-y\n",
    "        return answer\n",
    "    \n",
    "    def mult(self,x,y):\n",
    "        answer = x*y\n",
    "        print answer\n",
    "        \n",
    "    def div(self, x,y):\n",
    "        answer = x/y\n",
    "        print answer\n",
    "        \n",
    "\n",
    "# Still working on it   \n",
    "    "
   ]
  },
  {
   "cell_type": "code",
   "execution_count": 6,
   "metadata": {
    "collapsed": false
   },
   "outputs": [],
   "source": [
    "x = Calc()"
   ]
  },
  {
   "cell_type": "code",
   "execution_count": 8,
   "metadata": {
    "collapsed": false
   },
   "outputs": [],
   "source": [
    "y = x.add(4,3)"
   ]
  },
  {
   "cell_type": "code",
   "execution_count": 10,
   "metadata": {
    "collapsed": false
   },
   "outputs": [
    {
     "ename": "TypeError",
     "evalue": "add() takes exactly 3 arguments (1 given)",
     "output_type": "error",
     "traceback": [
      "\u001b[0;31m---------------------------------------------------------------------------\u001b[0m",
      "\u001b[0;31mTypeError\u001b[0m                                 Traceback (most recent call last)",
      "\u001b[0;32m<ipython-input-10-ffa70ed84bb7>\u001b[0m in \u001b[0;36m<module>\u001b[0;34m()\u001b[0m\n\u001b[0;32m----> 1\u001b[0;31m \u001b[0mCalc\u001b[0m\u001b[1;33m.\u001b[0m\u001b[0madd\u001b[0m\u001b[1;33m(\u001b[0m\u001b[0mx\u001b[0m\u001b[1;33m)\u001b[0m\u001b[1;33m\u001b[0m\u001b[0m\n\u001b[0m",
      "\u001b[0;31mTypeError\u001b[0m: add() takes exactly 3 arguments (1 given)"
     ]
    }
   ],
   "source": [
    "Calc.add(x)"
   ]
  },
  {
   "cell_type": "code",
   "execution_count": null,
   "metadata": {
    "collapsed": true
   },
   "outputs": [],
   "source": []
  },
  {
   "cell_type": "code",
   "execution_count": null,
   "metadata": {
    "collapsed": true
   },
   "outputs": [],
   "source": []
  },
  {
   "cell_type": "code",
   "execution_count": null,
   "metadata": {
    "collapsed": true
   },
   "outputs": [],
   "source": []
  },
  {
   "cell_type": "code",
   "execution_count": null,
   "metadata": {
    "collapsed": true
   },
   "outputs": [],
   "source": []
  },
  {
   "cell_type": "code",
   "execution_count": null,
   "metadata": {
    "collapsed": true
   },
   "outputs": [],
   "source": []
  }
 ],
 "metadata": {
  "kernelspec": {
   "display_name": "Python 2",
   "language": "python",
   "name": "python2"
  },
  "language_info": {
   "codemirror_mode": {
    "name": "ipython",
    "version": 2
   },
   "file_extension": ".py",
   "mimetype": "text/x-python",
   "name": "python",
   "nbconvert_exporter": "python",
   "pygments_lexer": "ipython2",
   "version": "2.7.13"
  }
 },
 "nbformat": 4,
 "nbformat_minor": 2
}
