{
 "cells": [
  {
   "cell_type": "markdown",
   "metadata": {
    "collapsed": true
   },
   "source": [
    "### Problem 1\n",
    "#### Conditionals\n",
    "Study the following code:\n",
    "```python\n",
    "# statement A\n",
    "if x > 0:\n",
    "    # statement B\n",
    "    pass\n",
    "elif x < 0:\n",
    "    # statement C\n",
    "    pass\n",
    "else:\n",
    "    # statement D\n",
    "    pass\n",
    "# statement E\n",
    "```\n",
    "\n",
    "1. Which of the statements above (A, B, C, D, E) will be executed if x < 0?\n",
    "2. Which of the statements above will be executed if x = = 0?\n",
    "3. Which of the statements above will be executed if x > 0?\n"
   ]
  },
  {
   "cell_type": "code",
   "execution_count": null,
   "metadata": {
    "collapsed": true
   },
   "outputs": [],
   "source": []
  },
  {
   "cell_type": "markdown",
   "metadata": {},
   "source": [
    "### Problem 2\n",
    "#### Loops\n",
    "Write a program to have the user input three (3) numbers: (f)rom, (t)o, and (i)\n",
    "ncrement. Count from f to t in increments of i, inclusive of f and t. For example, if the\n",
    "input is f == 2, t == 26, and i == 4, the program would output: 2, 6, 10, 14, 18, 22,\n",
    "26."
   ]
  },
  {
   "cell_type": "code",
   "execution_count": null,
   "metadata": {
    "collapsed": true
   },
   "outputs": [],
   "source": []
  },
  {
   "cell_type": "markdown",
   "metadata": {},
   "source": [
    "### Problem 3\n",
    "\n",
    "`range()`.\n",
    "What argument(s) could we give to the range() built-in function if we wanted\n",
    "the following lists to be generated?\n",
    "\n",
    "1. [ 0, 1, 2, 3, 4, 5, 6, 7, 8, 9 ]\n",
    "2. [ 3, 6, 9, 12, 15, 18 ]\n",
    "3. [ -20, 200, 420, 640, 860 ]"
   ]
  },
  {
   "cell_type": "code",
   "execution_count": null,
   "metadata": {
    "collapsed": true
   },
   "outputs": [],
   "source": []
  },
  {
   "cell_type": "markdown",
   "metadata": {},
   "source": [
    "### problem 4\n",
    "\n",
    "#### Factors\n",
    "\n",
    "Factors. Write a function called `getfactors()` that takes a single integer as an\n",
    "argument and returns a list of all its factors, including 1 and itself."
   ]
  },
  {
   "cell_type": "code",
   "execution_count": null,
   "metadata": {
    "collapsed": true
   },
   "outputs": [],
   "source": []
  },
  {
   "cell_type": "markdown",
   "metadata": {},
   "source": [
    "### Problem 5\n",
    "#### Text Processing\n",
    "\n",
    "```python\n",
    "poem = \"\"\" Little bunny Foo Foo\n",
    "Went hopping through the forest\n",
    "Scooping up the field mice\n",
    "And bopping them on the head\n",
    "Down came the Good Fairy, and she said\n",
    "\"Little bunny Foo Foo\n",
    "I don't want to see you\n",
    "Scooping up the field mice\n",
    "And bopping them on the head.\n",
    "I'll give you three chances,\n",
    "And if you don't behave, I will turn you into a goon!\" \"\"\"\n",
    "```\n",
    "\n",
    "Determine the total number of vowels, consonants, and words\n",
    "(separated by spaces) in the `peom` above. Ignore special cases for vowels and\n",
    "consonants such as \"h,\" \"y,\" \"qu,\" etc."
   ]
  },
  {
   "cell_type": "code",
   "execution_count": null,
   "metadata": {
    "collapsed": true
   },
   "outputs": [],
   "source": []
  },
  {
   "cell_type": "markdown",
   "metadata": {},
   "source": [
    "### Problem 6\n",
    "\n",
    "#### Text Processing\n",
    "\n",
    "Write a program to ask the user to input a list of names, in the\n",
    "format \"Last Name, First Name,\" i.e., last name, comma, first name. Write a function\n",
    "that manages the input so that when/if the user types the names in the wrong order, i.\n",
    "e., \"First Name Last Name,\" the error is corrected, and the user is notified. This\n",
    "function should also keep track of the number of input mistakes. When the user is\n",
    "done, sort the list, and display the sorted names in \"Last Name, First Name\" order.\n",
    "\n",
    "EXAMPLE input and output (you don't have to do it this way exactly):\n",
    "```\n",
    "$ nametrack.py\n",
    "\n",
    "Enter total number of names: 5\n",
    "Please enter name 0: Smith, Joe\n",
    "Please enter name 1: Mary Wong\n",
    ">> Wrong format... should be Last, First.\n",
    ">> You have done this 1 time(s) already. Fixing input. . .\n",
    "Please enter name 2: Hamilton, Gerald\n",
    "Please enter name 3: Royce, Linda\n",
    "Please enter name 4: Winston Salem\n",
    ">> Wrong format... should be Last, First.\n",
    ">> You have done this 2 time(s) already. Fixing input. . .\n",
    "The sorted list (by last name) is:\n",
    "Hamilton, Gerald\n",
    "Royce, Linda\n",
    "Salem, Winston\n",
    "Smith, Joe\n",
    "Wong, Mary\n",
    "```"
   ]
  },
  {
   "cell_type": "markdown",
   "metadata": {},
   "source": [
    "### Problem 7\n",
    "#### Arguments\n",
    "\n",
    "Compare the following three functions:\n",
    "\n",
    "```python\n",
    "def countToFour1():\n",
    "    for eachNum in range(5):\n",
    "    print eachNum,\n",
    "    \n",
    "    \n",
    "def countToFour2(n):\n",
    "    for eachNum in range(n, 5):\n",
    "    print eachNum,\n",
    "    \n",
    "    \n",
    "def countToFour3(n=1):\n",
    "    for eachNum in range(n, 5):\n",
    "    print eachNum,\n",
    "\n",
    "```\n",
    "\n",
    "What do you think will happen as far as output from the program, given the following\n",
    "input values? Enter the output into Table 1.0 below\n",
    "\n",
    "|input | countToFour1 | countToFour2 | countToFour3|\n",
    "|------| ------------ | ------------ | ------------|\n",
    "| 2    |              |              |             |\n",
    "| 4    |              |              |             |\n",
    "| 5    |              |              |             |"
   ]
  },
  {
   "cell_type": "markdown",
   "metadata": {},
   "source": [
    "### Problems 8\n",
    "\n",
    "we will be implementing the max() and min() built-in\n",
    "functions.\n",
    "\n",
    "1. Write simple functions max2() and min2() that take two items and return the\n",
    "  larger and smaller item, respectively. They should work on arbitrary Python\n",
    "  objects. For example, max2(4, 8) and min2(4, 8) would each return 8 and 4,\n",
    "  respectively.\n",
    "\n",
    "2.  Create new functions my_max() and my_min() that use your solutions in part (1)\n",
    "    to recreate max() and min() . These functions return the largest and smallest\n",
    "    item of non-empty sequences, respectively. They can also take a set of\n",
    "    arguments as input. Test your solutions for numbers and strings."
   ]
  },
  {
   "cell_type": "code",
   "execution_count": null,
   "metadata": {
    "collapsed": true
   },
   "outputs": [],
   "source": []
  },
  {
   "cell_type": "markdown",
   "metadata": {},
   "source": [
    "### Problem 9\n",
    "\n",
    "### Functional Programming with map() \n",
    "\n",
    "Given a pair of identically sized lists, say [1, 2,\n",
    "3, ...] , and ['abc', 'def', 'ghi', ...] , merge both lists into a single list consisting\n",
    "of tuples of elements of each list so that our result looks like: {[(1, 'abc'), (2,\n",
    "'def'), (3, 'ghi'), ...}. Then create another\n",
    "solution using the zip() built-in function."
   ]
  },
  {
   "cell_type": "code",
   "execution_count": null,
   "metadata": {
    "collapsed": true
   },
   "outputs": [],
   "source": []
  },
  {
   "cell_type": "markdown",
   "metadata": {},
   "source": [
    "Functional Programming with reduce()\n",
    "\n",
    "```python\n",
    "reduce(lambda x,y : x + y, range(1,11))\n",
    "#Sums  numbers from 1 to 10 inclusive\n",
    "```\n",
    "Modify the above code to create a new function called average() that calculates the simple average of a set of numbers."
   ]
  },
  {
   "cell_type": "markdown",
   "metadata": {},
   "source": [
    "### Problem 10\n",
    "#### Functional Programming with filter()\n",
    "In the Unix file system, there are always two\n",
    "special files in each folder/directory: **'.'** indicates the current directory and __'..'__\n",
    "represents the parent directory. Given this knowledge, take a look at the\n",
    "documentation for the os.listdir() function and describe what this code snippet does:\n",
    "\n",
    "files = filter(lambda x: x and x[0] != '.', os.listdir(folder))"
   ]
  }
 ],
 "metadata": {
  "kernelspec": {
   "display_name": "Python 2",
   "language": "python",
   "name": "python2"
  },
  "language_info": {
   "codemirror_mode": {
    "name": "ipython",
    "version": 2
   },
   "file_extension": ".py",
   "mimetype": "text/x-python",
   "name": "python",
   "nbconvert_exporter": "python",
   "pygments_lexer": "ipython2",
   "version": "2.7.13"
  }
 },
 "nbformat": 4,
 "nbformat_minor": 2
}
