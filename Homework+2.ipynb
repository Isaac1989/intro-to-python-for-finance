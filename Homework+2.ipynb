{
 "cells": [
  {
   "cell_type": "markdown",
   "metadata": {
    "collapsed": true
   },
   "source": [
    "### Problem 1\n",
    "#### Conditionals\n",
    "Study the following code:\n",
    "```python\n",
    "# statement A\n",
    "if x > 0:\n",
    "    # statement B\n",
    "    pass\n",
    "elif x < 0:\n",
    "    # statement C\n",
    "    pass\n",
    "else:\n",
    "    # statement D\n",
    "    pass\n",
    "# statement E\n",
    "```\n",
    "\n",
    "1. Which of the statements above (A, B, C, D, E) will be executed if x < 0?\n",
    "2. Which of the statements above will be executed if x = = 0?\n",
    "3. Which of the statements above will be executed if x > 0?\n"
   ]
  },
  {
   "cell_type": "code",
   "execution_count": null,
   "metadata": {
    "collapsed": true
   },
   "outputs": [],
   "source": []
  },
  {
   "cell_type": "markdown",
   "metadata": {},
   "source": [
    "### Problem 2\n",
    "#### Loops\n",
    "Write a program to have the user input three (3) numbers: (f)rom, (t)o, and (i)\n",
    "ncrement. Count from f to t in increments of i, inclusive of f and t. For example, if the\n",
    "input is f == 2, t == 26, and i == 4, the program would output: 2, 6, 10, 14, 18, 22,\n",
    "26."
   ]
  },
  {
   "cell_type": "code",
   "execution_count": null,
   "metadata": {
    "collapsed": true
   },
   "outputs": [],
   "source": []
  },
  {
   "cell_type": "markdown",
   "metadata": {},
   "source": [
    "### Problem 3\n",
    "\n",
    "`range()`.\n",
    "What argument(s) could we give to the range() built-in function if we wanted\n",
    "the following lists to be generated?\n",
    "\n",
    "1. [ 0, 1, 2, 3, 4, 5, 6, 7, 8, 9 ]\n",
    "2. [ 3, 6, 9, 12, 15, 18 ]\n",
    "3. [ -20, 200, 420, 640, 860 ]"
   ]
  },
  {
   "cell_type": "code",
   "execution_count": null,
   "metadata": {
    "collapsed": true
   },
   "outputs": [],
   "source": []
  },
  {
   "cell_type": "markdown",
   "metadata": {},
   "source": [
    "### problem 4\n",
    "\n",
    "#### Factors\n",
    "\n",
    "Factors. Write a function called `getfactors()` that takes a single integer as an\n",
    "argument and returns a list of all its factors, including 1 and itself."
   ]
  },
  {
   "cell_type": "code",
   "execution_count": null,
   "metadata": {
    "collapsed": true
   },
   "outputs": [],
   "source": []
  },
  {
   "cell_type": "markdown",
   "metadata": {},
   "source": [
    "### Problem 5\n",
    "#### Text Processing\n",
    "\n",
    "```python\n",
    "poem = \"\"\" Little bunny Foo Foo\n",
    "Went hopping through the forest\n",
    "Scooping up the field mice\n",
    "And bopping them on the head\n",
    "Down came the Good Fairy, and she said\n",
    "\"Little bunny Foo Foo\n",
    "I don't want to see you\n",
    "Scooping up the field mice\n",
    "And bopping them on the head.\n",
    "I'll give you three chances,\n",
    "And if you don't behave, I will turn you into a goon!\" \"\"\"\n",
    "```\n",
    "\n",
    "Determine the total number of vowels, consonants, and words\n",
    "(separated by spaces) in the `peom` above. Ignore special cases for vowels and\n",
    "consonants such as \"h,\" \"y,\" \"qu,\" etc."
   ]
  },
  {
   "cell_type": "code",
   "execution_count": null,
   "metadata": {
    "collapsed": true
   },
   "outputs": [],
   "source": []
  },
  {
   "cell_type": "markdown",
   "metadata": {},
   "source": [
    "### Problem 6\n",
    "\n",
    "#### Text Processing\n",
    "\n",
    "Write a program to ask the user to input a list of names, in the\n",
    "format \"Last Name, First Name,\" i.e., last name, comma, first name. Write a function\n",
    "that manages the input so that when/if the user types the names in the wrong order, i.\n",
    "e., \"First Name Last Name,\" the error is corrected, and the user is notified. This\n",
    "function should also keep track of the number of input mistakes. When the user is\n",
    "done, sort the list, and display the sorted names in \"Last Name, First Name\" order.\n",
    "\n",
    "EXAMPLE input and output (you don't have to do it this way exactly):\n",
    "```\n",
    "$ nametrack.py\n",
    "\n",
    "Enter total number of names: 5\n",
    "Please enter name 0: Smith, Joe\n",
    "Please enter name 1: Mary Wong\n",
    ">> Wrong format... should be Last, First.\n",
    ">> You have done this 1 time(s) already. Fixing input. . .\n",
    "Please enter name 2: Hamilton, Gerald\n",
    "Please enter name 3: Royce, Linda\n",
    "Please enter name 4: Winston Salem\n",
    ">> Wrong format... should be Last, First.\n",
    ">> You have done this 2 time(s) already. Fixing input. . .\n",
    "The sorted list (by last name) is:\n",
    "Hamilton, Gerald\n",
    "Royce, Linda\n",
    "Salem, Winston\n",
    "Smith, Joe\n",
    "Wong, Mary\n",
    "```"
   ]
  },
  {
   "cell_type": "markdown",
   "metadata": {},
   "source": [
    "### Problem 7\n",
    "#### Arguments\n",
    "\n",
    "Compare the following three functions:\n",
    "\n",
    "```python\n",
    "def countToFour1():\n",
    "    for eachNum in range(5):\n",
    "    print eachNum,\n",
    "    \n",
    "    \n",
    "def countToFour2(n):\n",
    "    for eachNum in range(n, 5):\n",
    "    print eachNum,\n",
    "    \n",
    "    \n",
    "def countToFour3(n=1):\n",
    "    for eachNum in range(n, 5):\n",
    "    print eachNum,\n",
    "\n",
    "```\n",
    "\n",
    "What do you think will happen as far as output from the program, given the following\n",
    "input values? Enter the output into Table 1.0 below\n",
    "\n",
    "|input | countToFour1 | countToFour2 | countToFour3|\n",
    "|------| ------------ | ------------ | ------------|\n",
    "| 2    |              |              |             |\n",
    "| 4    |              |              |             |\n",
    "| 5    |              |              |             |"
   ]
  },
  {
   "cell_type": "markdown",
   "metadata": {},
   "source": [
    "### Problems 8\n",
    "\n",
    "we will be implementing the max() and min() built-in\n",
    "functions.\n",
    "\n",
    "1. Write simple functions max2() and min2() that take two items and return the\n",
    "  larger and smaller item, respectively. They should work on arbitrary Python\n",
    "  objects. For example, max2(4, 8) and min2(4, 8) would each return 8 and 4,\n",
    "  respectively.\n",
    "\n",
    "2.  Create new functions my_max() and my_min() that use your solutions in part (1)\n",
    "    to recreate max() and min() . These functions return the largest and smallest\n",
    "    item of non-empty sequences, respectively. They can also take a set of\n",
    "    arguments as input. Test your solutions for numbers and strings."
   ]
  },
  {
   "cell_type": "code",
   "execution_count": null,
   "metadata": {
    "collapsed": true
   },
   "outputs": [],
   "source": []
  },
  {
   "cell_type": "markdown",
   "metadata": {},
   "source": [
    "### Problem 9\n",
    "\n",
    "### Functional Programming with map() \n",
    "\n",
    "Given a pair of identically sized lists, say [1, 2,\n",
    "3, ...] , and ['abc', 'def', 'ghi', ...] , merge both lists into a single list consisting\n",
    "of tuples of elements of each list so that our result looks like: {[(1, 'abc'), (2,\n",
    "'def'), (3, 'ghi'), ...}. Then create another\n",
    "solution using the zip() built-in function."
   ]
  },
  {
   "cell_type": "code",
   "execution_count": null,
   "metadata": {
    "collapsed": true
   },
   "outputs": [],
   "source": []
  },
  {
   "cell_type": "markdown",
   "metadata": {},
   "source": [
    "Functional Programming with reduce()\n",
    "\n",
    "```python\n",
    "reduce(lambda x,y : x + y, range(1,11))\n",
    "#Sums  numbers from 1 to 10 inclusive\n",
    "```\n",
    "Modify the above code to create a new function called average() that calculates the simple average of a set of numbers."
   ]
  },
  {
   "cell_type": "markdown",
   "metadata": {},
   "source": [
    "### Problem 10\n",
    "#### Functional Programming with filter()\n",
    "In the Unix file system, there are always two\n",
    "special files in each folder/directory: **'.'** indicates the current directory and __'..'__\n",
    "represents the parent directory. Given this knowledge, take a look at the\n",
    "documentation for the os.listdir() function and describe what this code snippet does:\n",
    "\n",
    "files = filter(lambda x: x and x[0] != '.', os.listdir(folder))"
   ]
  },
  {
   "cell_type": "code",
   "execution_count": null,
   "metadata": {
    "collapsed": true
   },
   "outputs": [],
   "source": []
  },
  {
   "cell_type": "markdown",
   "metadata": {},
   "source": [
    "### Problem 11\n",
    "Write a function to take a positive integer grade as input. Then you have to change it to letter grade. At last, you have to print the original grade and letter grade. If the student get an 'F', you have to print another sentence \"Come on !\". The rule of changing numerical grade to letter is : A: 85-100; B: 70-85; C: 60-70; D: 55-60; F: <55"
   ]
  },
  {
   "cell_type": "code",
   "execution_count": null,
   "metadata": {
    "collapsed": true
   },
   "outputs": [],
   "source": []
  },
  {
   "cell_type": "markdown",
   "metadata": {},
   "source": [
    "### Problem 12\n",
    "Write a function to return Fibonacci Sequence numbers. Fibonacci sequence numbers are as follows: 1, 1, 2, 3, 5, 8, 13, 21, 34, ...From the 3rd number, each nubmer is the summation of previous two numbers. "
   ]
  },
  {
   "cell_type": "code",
   "execution_count": null,
   "metadata": {
    "collapsed": true
   },
   "outputs": [],
   "source": []
  },
  {
   "cell_type": "markdown",
   "metadata": {},
   "source": [
    "### Problem 13\n",
    "Write a function to sort the input array and output it in ascending order. (The input array is a list variable.)"
   ]
  },
  {
   "cell_type": "code",
   "execution_count": null,
   "metadata": {
    "collapsed": true
   },
   "outputs": [],
   "source": []
  },
  {
   "cell_type": "markdown",
   "metadata": {},
   "source": [
    "### Problem 14\n",
    "Suppose you download shares outstanding data from web pages. However, sometimes it is quoted in millions and it ends with \"m\", such as \"100m\". Sometimes it is quoted in billions and it ends with \"b\", such as \"100b\". Sometiems it is quoted in shares, such as \"1000000\". Please write a function that can find and substitute \"b\" and \"m\" with right numbers. Your function should return right shares numbers. "
   ]
  },
  {
   "cell_type": "code",
   "execution_count": null,
   "metadata": {
    "collapsed": true
   },
   "outputs": [],
   "source": []
  },
  {
   "cell_type": "markdown",
   "metadata": {},
   "source": [
    "### Problem 15\n",
    "You have two lists: \n",
    "\n",
    "1. a list of what group each patient was in.\n",
    "\n",
    "2. You need to compute the mean score for each category and place these means in a  dictionary\n",
    "s\n",
    "U"
   ]
  },
  {
   "cell_type": "code",
   "execution_count": null,
   "metadata": {
    "collapsed": true
   },
   "outputs": [],
   "source": []
  },
  {
   "cell_type": "code",
   "execution_count": null,
   "metadata": {
    "collapsed": true
   },
   "outputs": [],
   "source": [
    "L_group   =      [ 'A', 'B','A','C','A','C','C','B','B','A']\n",
    "L_scores     =      [1,3,2,3,3,2,2,1,4,5]\n",
    "\n",
    "# What do we want to have \n",
    "\n",
    "means = {'A':0, 'B':0, 'C':0}\n",
    "count = {'A':0, 'B':0, 'C':0}\n",
    "\n",
    "# We want to replace these values of zero with mean scores.\n",
    "# We need to sum up the scores for each group type and we need to compute the total in each group\n",
    "\n",
    "# If we use the zip command we will know (group, score). Right?\n",
    "# And once we have this information we can manipulate it ( add to appropriate counters etc.\n",
    "# And once we have the answers we can place them in our dictionary.\n",
    "\n",
    "#So\n",
    "\n",
    "for group, score in zip(L_group, L_scores):\n",
    "    #Use group as a key for means \n",
    "    means[group]= means[group] + score\n",
    "    count[group] = count[group] + 1.0\n",
    "    \n",
    "# So we now know the totals in each group and we know the counts in each group\n",
    "# For each group we now have to find the mean\n",
    "for group in means:\n",
    "    means[group] = means[group]/count[group]\n",
    "    \n",
    "# We can print out the results \n",
    "print means\n",
    "# THis is a bit ugly\n",
    "\n",
    "    \n",
    "for category, values  in means.items():\n",
    "    means[category]= round(means[category],3)\n",
    "    \n",
    "    \n",
    "means \n"
   ]
  },
  {
   "cell_type": "markdown",
   "metadata": {},
   "source": [
    "### Problem 16\n",
    "\n",
    "Implement a function _`my_factors`_ which takes in a number n and prints out (in descending order) all of the numbers that divide n evenly. For example, the factors of 20 are 20, 10, 5, 4, 2, 1.\n"
   ]
  },
  {
   "cell_type": "code",
   "execution_count": null,
   "metadata": {
    "collapsed": true
   },
   "outputs": [],
   "source": []
  },
  {
   "cell_type": "markdown",
   "metadata": {},
   "source": [
    "### Problem 17\n",
    "\n",
    "Write a function _`largest`_ that takes in a list and returns its largest element.\n",
    "\n",
    "Now implement it again but this time make use of the _`reduce`_ built-in function\n",
    "\n",
    "```python\n",
    "\n",
    "def largest(s):\n",
    "    \"\"\"Return the largest value in a sequence.  None if empty.\n",
    "\n",
    "    >>> largest([1,3,-1])\n",
    "    3\n",
    "    \"\"\"\n",
    "    # Hint: Is there a built-in function you can use for this?\n",
    "    \n",
    "```"
   ]
  },
  {
   "cell_type": "code",
   "execution_count": null,
   "metadata": {
    "collapsed": true
   },
   "outputs": [],
   "source": []
  },
  {
   "cell_type": "markdown",
   "metadata": {},
   "source": [
    "### Problem 18\n",
    "Now write a function _`eliminate_element`_ that takes in a list, _`s`_, and a value, *`exclude`*. It should return a new list that contains all the elements in s that are not equal to exclude.\n",
    "\n",
    "```python\n",
    "def eliminate_element(s, exclude):\n",
    "    \"\"\"Remove all entries in sequence s equal to exclude.\n",
    "\n",
    "    >>> eliminate_element([1, 3, -1], 1)\n",
    "    [3, -1]\n",
    "    \"\"\"\n",
    "\n",
    "```"
   ]
  },
  {
   "cell_type": "code",
   "execution_count": null,
   "metadata": {
    "collapsed": true
   },
   "outputs": [],
   "source": []
  },
  {
   "cell_type": "markdown",
   "metadata": {},
   "source": [
    "### Problem 19\n",
    "\n",
    "Using the last two functions, write a new function *`eliminate_max`* that takes in a variable number of arguments and returns a list of its argument with its maximal elements removed.\n",
    "\n",
    "```python\n",
    "def eliminate_max(*s):\n",
    "    \"\"\"Return a a list containing non-maximal elements of a sequence.\n",
    "\n",
    "    >>> eliminate_max([1, 3, -1, 3])\n",
    "    [1, -1]\n",
    "    \"\"\"\n",
    "```"
   ]
  },
  {
   "cell_type": "code",
   "execution_count": null,
   "metadata": {
    "collapsed": true
   },
   "outputs": [],
   "source": []
  },
  {
   "cell_type": "markdown",
   "metadata": {},
   "source": [
    "### Problem 20\n",
    "Define *`is_pythagorean`*, which takes a three numbers, a, b, and c and returns `True` if and only if these numbers form a Pythagorean Triplet, that is\n",
    "\n",
    "c^2 = a^2 + b^2\n",
    "\n",
    "```python\n",
    "def is_pythagorean(a,b,c):\n",
    "    \"\"\"\n",
    "    >>> is_pythagorean(3,4,5)\n",
    "    True\n",
    "    >>> is_pythagorean(3,4,6)\n",
    "    False\n",
    "    >>> x = [3,4,6]\n",
    "    >>> is_pythagorian(*x)\n",
    "    False\n",
    "    \"\"\"\n",
    "```"
   ]
  },
  {
   "cell_type": "code",
   "execution_count": null,
   "metadata": {
    "collapsed": true
   },
   "outputs": [],
   "source": []
  },
  {
   "cell_type": "markdown",
   "metadata": {},
   "source": [
    "### Problem 21\n",
    "\n",
    "The following pieces of code are kludgy. Rewrite each of them using list comprehensions. Hint: for\n",
    "parts 1 and 2, the range() function may be useful."
   ]
  },
  {
   "cell_type": "markdown",
   "metadata": {},
   "source": [
    "1. Compute first 20 powers of 2\n",
    "```python\n",
    "i = 0\n",
    "powers = []\n",
    "while i < 20:\n",
    "    p = 2 ** i\n",
    "    powers.append(p)\n",
    "    i = i + 1\n",
    "```\n",
    "\n",
    "2. \n",
    "```python\n",
    "import math\n",
    "#first 14 k-digit approximations of pi\n",
    "approximations = []\n",
    "i = 1\n",
    "while i <= 14:\n",
    "    approx = round(math.pi, i)\n",
    "    approximations.append(approx)\n",
    "    i += 1\n",
    "```\n",
    "\n",
    "3. Generate all (x, y, z) coordinates from three lists\n",
    "```python\n",
    "xpoints = [1, 2, -1]\n",
    "ypoints = [8, 4, 3, 0]\n",
    "zpoints = [0, -1]\n",
    "points = []\n",
    "for x in xpoints:\n",
    "    for y in ypoints:\n",
    "        for z in zpoints:\n",
    "            points.append((x, y, z))\n",
    "```"
   ]
  },
  {
   "cell_type": "code",
   "execution_count": null,
   "metadata": {
    "collapsed": true
   },
   "outputs": [],
   "source": []
  }
 ],
 "metadata": {
  "kernelspec": {
   "display_name": "Python 2",
   "language": "python",
   "name": "python2"
  },
  "language_info": {
   "codemirror_mode": {
    "name": "ipython",
    "version": 2
   },
   "file_extension": ".py",
   "mimetype": "text/x-python",
   "name": "python",
   "nbconvert_exporter": "python",
   "pygments_lexer": "ipython2",
   "version": "2.7.13"
  }
 },
 "nbformat": 4,
 "nbformat_minor": 2
}
