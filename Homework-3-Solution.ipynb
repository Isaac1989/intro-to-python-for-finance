{
 "cells": [
  {
   "cell_type": "markdown",
   "metadata": {},
   "source": [
    "### Creating and manipulating  arrays\n"
   ]
  },
  {
   "cell_type": "markdown",
   "metadata": {},
   "source": [
    "### Problem 1\n",
    "We are going to explore various ways to create an array object of various data dtypes.\n",
    "\n",
    "1. Create a vector starting from 2, 20 inclusive in unit steps with `np.arange`. Example: `np.arange(2,4)` outputs array([2,3])\n",
    "\n",
    "2. Create the same array object using `np.array` and a `list`\n",
    "\n",
    "3. Every **`numpy.ndarray`** has a data dtype object. This data type indicates whether the elements in an array is `string`, `integer`,`float`, `boolean` or user defined data type. Now use the attribute `dtype` to querry the data types created in  _question 2._\n",
    "\n",
    "4. One can specify the data type during creation of an array like so: np.array([...], __dtype__ = my_dtype). Example  np.array([1,2,4], dtype = np.float32). Now create a boolean vector of length 10. Don't forget to specify the data dtype. [Hint: see [dtypes](https://docs.scipy.org/doc/numpy-dev/user/basics.types.html)]\n",
    "\n",
    "5. \n",
    "    1. Using __linspace__ create a vector: start = 3, end = 5. the length out should be 200\n",
    "    2. Change the shape of the vector to 2 X 50 X 2.\n",
    "    3. what is the dimension of the vector in  _question 5.C_\n"
   ]
  },
  {
   "cell_type": "markdown",
   "metadata": {},
   "source": [
    "### Solution for problem 1"
   ]
  },
  {
   "cell_type": "code",
   "execution_count": 2,
   "metadata": {
    "collapsed": true
   },
   "outputs": [],
   "source": [
    "#start by importing numpy as np\n",
    "import numpy as np\n",
    "from __future__ import print_function"
   ]
  },
  {
   "cell_type": "code",
   "execution_count": 11,
   "metadata": {},
   "outputs": [
    {
     "name": "stdout",
     "output_type": "stream",
     "text": [
      "x =  [ 2  3  4  5  6  7  8  9 10 11 12 13 14 15 16 17 18 19 20]\n",
      "y =  [  2.   3.   4.   5.   6.   7.   8.   9.  10.  11.  12.  13.  14.  15.  16.\n",
      "  17.  18.  19.  20.]\n",
      "int64\n",
      "float64\n",
      "[False  True False  True False  True False  True False  True]\n",
      "xx =  [ 3.          3.01005025  3.0201005   3.03015075  3.04020101  3.05025126\n",
      "  3.06030151  3.07035176  3.08040201  3.09045226  3.10050251  3.11055276\n",
      "  3.12060302  3.13065327  3.14070352  3.15075377  3.16080402  3.17085427\n",
      "  3.18090452  3.19095477  3.20100503  3.21105528  3.22110553  3.23115578\n",
      "  3.24120603  3.25125628  3.26130653  3.27135678  3.28140704  3.29145729\n",
      "  3.30150754  3.31155779  3.32160804  3.33165829  3.34170854  3.35175879\n",
      "  3.36180905  3.3718593   3.38190955  3.3919598   3.40201005  3.4120603\n",
      "  3.42211055  3.4321608   3.44221106  3.45226131  3.46231156  3.47236181\n",
      "  3.48241206  3.49246231  3.50251256  3.51256281  3.52261307  3.53266332\n",
      "  3.54271357  3.55276382  3.56281407  3.57286432  3.58291457  3.59296482\n",
      "  3.60301508  3.61306533  3.62311558  3.63316583  3.64321608  3.65326633\n",
      "  3.66331658  3.67336683  3.68341709  3.69346734  3.70351759  3.71356784\n",
      "  3.72361809  3.73366834  3.74371859  3.75376884  3.7638191   3.77386935\n",
      "  3.7839196   3.79396985  3.8040201   3.81407035  3.8241206   3.83417085\n",
      "  3.84422111  3.85427136  3.86432161  3.87437186  3.88442211  3.89447236\n",
      "  3.90452261  3.91457286  3.92462312  3.93467337  3.94472362  3.95477387\n",
      "  3.96482412  3.97487437  3.98492462  3.99497487  4.00502513  4.01507538\n",
      "  4.02512563  4.03517588  4.04522613  4.05527638  4.06532663  4.07537688\n",
      "  4.08542714  4.09547739  4.10552764  4.11557789  4.12562814  4.13567839\n",
      "  4.14572864  4.15577889  4.16582915  4.1758794   4.18592965  4.1959799\n",
      "  4.20603015  4.2160804   4.22613065  4.2361809   4.24623116  4.25628141\n",
      "  4.26633166  4.27638191  4.28643216  4.29648241  4.30653266  4.31658291\n",
      "  4.32663317  4.33668342  4.34673367  4.35678392  4.36683417  4.37688442\n",
      "  4.38693467  4.39698492  4.40703518  4.41708543  4.42713568  4.43718593\n",
      "  4.44723618  4.45728643  4.46733668  4.47738693  4.48743719  4.49748744\n",
      "  4.50753769  4.51758794  4.52763819  4.53768844  4.54773869  4.55778894\n",
      "  4.5678392   4.57788945  4.5879397   4.59798995  4.6080402   4.61809045\n",
      "  4.6281407   4.63819095  4.64824121  4.65829146  4.66834171  4.67839196\n",
      "  4.68844221  4.69849246  4.70854271  4.71859296  4.72864322  4.73869347\n",
      "  4.74874372  4.75879397  4.76884422  4.77889447  4.78894472  4.79899497\n",
      "  4.80904523  4.81909548  4.82914573  4.83919598  4.84924623  4.85929648\n",
      "  4.86934673  4.87939698  4.88944724  4.89949749  4.90954774  4.91959799\n",
      "  4.92964824  4.93969849  4.94974874  4.95979899  4.96984925  4.9798995\n",
      "  4.98994975  5.        ]\n",
      "xx =  [[[ 3.          3.01005025]\n",
      "  [ 3.0201005   3.03015075]\n",
      "  [ 3.04020101  3.05025126]\n",
      "  [ 3.06030151  3.07035176]\n",
      "  [ 3.08040201  3.09045226]\n",
      "  [ 3.10050251  3.11055276]\n",
      "  [ 3.12060302  3.13065327]\n",
      "  [ 3.14070352  3.15075377]\n",
      "  [ 3.16080402  3.17085427]\n",
      "  [ 3.18090452  3.19095477]\n",
      "  [ 3.20100503  3.21105528]\n",
      "  [ 3.22110553  3.23115578]\n",
      "  [ 3.24120603  3.25125628]\n",
      "  [ 3.26130653  3.27135678]\n",
      "  [ 3.28140704  3.29145729]\n",
      "  [ 3.30150754  3.31155779]\n",
      "  [ 3.32160804  3.33165829]\n",
      "  [ 3.34170854  3.35175879]\n",
      "  [ 3.36180905  3.3718593 ]\n",
      "  [ 3.38190955  3.3919598 ]\n",
      "  [ 3.40201005  3.4120603 ]\n",
      "  [ 3.42211055  3.4321608 ]\n",
      "  [ 3.44221106  3.45226131]\n",
      "  [ 3.46231156  3.47236181]\n",
      "  [ 3.48241206  3.49246231]\n",
      "  [ 3.50251256  3.51256281]\n",
      "  [ 3.52261307  3.53266332]\n",
      "  [ 3.54271357  3.55276382]\n",
      "  [ 3.56281407  3.57286432]\n",
      "  [ 3.58291457  3.59296482]\n",
      "  [ 3.60301508  3.61306533]\n",
      "  [ 3.62311558  3.63316583]\n",
      "  [ 3.64321608  3.65326633]\n",
      "  [ 3.66331658  3.67336683]\n",
      "  [ 3.68341709  3.69346734]\n",
      "  [ 3.70351759  3.71356784]\n",
      "  [ 3.72361809  3.73366834]\n",
      "  [ 3.74371859  3.75376884]\n",
      "  [ 3.7638191   3.77386935]\n",
      "  [ 3.7839196   3.79396985]\n",
      "  [ 3.8040201   3.81407035]\n",
      "  [ 3.8241206   3.83417085]\n",
      "  [ 3.84422111  3.85427136]\n",
      "  [ 3.86432161  3.87437186]\n",
      "  [ 3.88442211  3.89447236]\n",
      "  [ 3.90452261  3.91457286]\n",
      "  [ 3.92462312  3.93467337]\n",
      "  [ 3.94472362  3.95477387]\n",
      "  [ 3.96482412  3.97487437]\n",
      "  [ 3.98492462  3.99497487]]\n",
      "\n",
      " [[ 4.00502513  4.01507538]\n",
      "  [ 4.02512563  4.03517588]\n",
      "  [ 4.04522613  4.05527638]\n",
      "  [ 4.06532663  4.07537688]\n",
      "  [ 4.08542714  4.09547739]\n",
      "  [ 4.10552764  4.11557789]\n",
      "  [ 4.12562814  4.13567839]\n",
      "  [ 4.14572864  4.15577889]\n",
      "  [ 4.16582915  4.1758794 ]\n",
      "  [ 4.18592965  4.1959799 ]\n",
      "  [ 4.20603015  4.2160804 ]\n",
      "  [ 4.22613065  4.2361809 ]\n",
      "  [ 4.24623116  4.25628141]\n",
      "  [ 4.26633166  4.27638191]\n",
      "  [ 4.28643216  4.29648241]\n",
      "  [ 4.30653266  4.31658291]\n",
      "  [ 4.32663317  4.33668342]\n",
      "  [ 4.34673367  4.35678392]\n",
      "  [ 4.36683417  4.37688442]\n",
      "  [ 4.38693467  4.39698492]\n",
      "  [ 4.40703518  4.41708543]\n",
      "  [ 4.42713568  4.43718593]\n",
      "  [ 4.44723618  4.45728643]\n",
      "  [ 4.46733668  4.47738693]\n",
      "  [ 4.48743719  4.49748744]\n",
      "  [ 4.50753769  4.51758794]\n",
      "  [ 4.52763819  4.53768844]\n",
      "  [ 4.54773869  4.55778894]\n",
      "  [ 4.5678392   4.57788945]\n",
      "  [ 4.5879397   4.59798995]\n",
      "  [ 4.6080402   4.61809045]\n",
      "  [ 4.6281407   4.63819095]\n",
      "  [ 4.64824121  4.65829146]\n",
      "  [ 4.66834171  4.67839196]\n",
      "  [ 4.68844221  4.69849246]\n",
      "  [ 4.70854271  4.71859296]\n",
      "  [ 4.72864322  4.73869347]\n",
      "  [ 4.74874372  4.75879397]\n",
      "  [ 4.76884422  4.77889447]\n",
      "  [ 4.78894472  4.79899497]\n",
      "  [ 4.80904523  4.81909548]\n",
      "  [ 4.82914573  4.83919598]\n",
      "  [ 4.84924623  4.85929648]\n",
      "  [ 4.86934673  4.87939698]\n",
      "  [ 4.88944724  4.89949749]\n",
      "  [ 4.90954774  4.91959799]\n",
      "  [ 4.92964824  4.93969849]\n",
      "  [ 4.94974874  4.95979899]\n",
      "  [ 4.96984925  4.9798995 ]\n",
      "  [ 4.98994975  5.        ]]]\n",
      "Dimension of xx is  3\n"
     ]
    }
   ],
   "source": [
    "#1. using np.arange, step is 1 by default\n",
    "x = np.arange(2, 21)\n",
    "print('x = ', x)\n",
    "#2. using np.array\n",
    "y = np.array(range(2,21), dtype = np.float_)\n",
    "print('y = ', y)\n",
    "\n",
    "#3. querring data dtypes\n",
    "print(x.dtype)\n",
    "print(y.dtype)\n",
    "\n",
    "#4. note np.bool_ is the same as python's 'bool' object\n",
    "_bool = np.array([0,1]*5, dtype = np.bool_)\n",
    "print(_bool)\n",
    "\n",
    "#5.A\n",
    "xx = np.linspace(3, 5, 200)\n",
    "print('xx = ', xx)\n",
    "#5.B\n",
    "xx = xx.reshape((2,50,2))\n",
    "print('xx = ', xx)\n",
    "\n",
    "#5.C\n",
    "print('Dimension of xx is ', str(xx.ndim))\n"
   ]
  },
  {
   "cell_type": "markdown",
   "metadata": {},
   "source": [
    "### Problem 2\n",
    "Numpy as a lot of factory function for creating numpy arrays. You have already seen some of them like: `np.linspace` and `np.arange`. Let explore the a lot more. Numpy has a submodule called the random. It can be accessed by **importing** them like so: `from numpy import random`. With this module you can sample from nearly all the theoritical distributions out there. Let take it for a spin:\n",
    "\n",
    "1. Create a 5X5 matrix of standard normal. [Hint: A couple of options. random.normal, random.standard_normal]. Make sure you specify the __shape__ of the matrix.\n",
    "\n",
    "2. Scale the element in the matrix by a factor of 10. Then take the floor of the results.\n",
    "\n",
    "3. Set every negative element in the matrix to zero. [Hint: using boolean indexing like so: A[A < 0]]\n",
    "\n",
    "4. Using `np.nonzero` find the locations of the nonzero elements. \n",
    "\n",
    "5. Use the indices to fetch the nonzero elements from the matrix. You get a 1-D array of nonzero elements of the matrix\n",
    "\n",
    "6. Now create matrix of ones of size 5 X 5. Fill in the Matrix of ones by the nonzero elements of _question 5_\n",
    "[Hint: np.ones]\n",
    "\n",
    "7. Repeat _question 6_ but use a matrix of **zeros** inplace of ones. \n",
    "\n",
    "8. Investigate the the functions `np.eye` and `np.identity`. What are their difference and similarities\n",
    "\n",
    "9. Repeat _question 6_ but use the identity matrix inplace of ones.\n",
    "\n",
    "10. What is the difference between `np.arange` and `np.linspace`"
   ]
  },
  {
   "cell_type": "markdown",
   "metadata": {},
   "source": [
    "### Solution for problem 2"
   ]
  },
  {
   "cell_type": "code",
   "execution_count": 23,
   "metadata": {},
   "outputs": [
    {
     "name": "stdout",
     "output_type": "stream",
     "text": [
      "Standard normal =  [[ 0.80336542 -1.01396645 -2.09267517  0.84862408 -0.15797219]\n",
      " [-0.37300791  0.06279288 -0.17724302  0.03377207 -0.78157072]\n",
      " [-0.96593116 -0.73662257 -1.1441852  -3.59981609 -1.45474597]\n",
      " [ 1.81398599  0.00548929 -0.73692779  2.32898432 -1.5328748 ]\n",
      " [ 0.86973466  0.34816644 -1.48106976 -1.0178757  -1.13974695]]\n",
      "scaled stardard normal =  [[  8. -11. -21.   8.  -2.]\n",
      " [ -4.   0.  -2.   0.  -8.]\n",
      " [-10.  -8. -12. -36. -15.]\n",
      " [ 18.   0.  -8.  23. -16.]\n",
      " [  8.   3. -15. -11. -12.]]\n",
      "[[  8.   0.   0.   8.   0.]\n",
      " [  0.   0.   0.   0.   0.]\n",
      " [  0.   0.   0.   0.   0.]\n",
      " [ 18.   0.   0.  23.   0.]\n",
      " [  8.   3.   0.   0.   0.]]\n",
      "x coordinates of nonzero elements =  [0 0 3 3 4 4]\n",
      "y coordinates of nonzero elements =  [0 3 0 3 0 1]\n",
      "[  8.   8.  18.  23.   8.   3.]\n",
      "ones filled with nonzero element from rand_normal = \n",
      "[[  8.   1.   1.   8.   1.]\n",
      " [  1.   1.   1.   1.   1.]\n",
      " [  1.   1.   1.   1.   1.]\n",
      " [ 18.   1.   1.  23.   1.]\n",
      " [  8.   3.   1.   1.   1.]]\n",
      "Zeros filled with nonzero element from rand_normal = \n",
      "[[  8.   0.   0.   8.   0.]\n",
      " [  0.   0.   0.   0.   0.]\n",
      " [  0.   0.   0.   0.   0.]\n",
      " [ 18.   0.   0.  23.   0.]\n",
      " [  8.   3.   0.   0.   0.]]\n"
     ]
    }
   ],
   "source": [
    "from numpy import random\n",
    "random.seed(1258)\n",
    "\n",
    "#1.\n",
    "rand_normal = random.standard_normal((5,5))\n",
    "print('Standard normal = ',rand_normal)\n",
    "\n",
    "#2. \n",
    "rand_normal = np.floor(10*rand_normal)\n",
    "print('scaled stardard normal = ', rand_normal)\n",
    "#3.\n",
    "rand_normal[rand_normal < 0] = 0\n",
    "print(rand_normal)\n",
    "\n",
    "#4. \n",
    "i, j = np.nonzero(rand_normal)\n",
    "print('x coordinates of nonzero elements = ', i)\n",
    "print('y coordinates of nonzero elements = ', j)\n",
    "\n",
    "#5. \n",
    "nonzero = rand_normal[i,j]\n",
    "print(nonzero)\n",
    "\n",
    "#6. \n",
    "ones = np.ones((5,5))\n",
    "ones[i,j] = rand_normal[i,j]\n",
    "print('ones filled with nonzero element from rand_normal = ',ones, sep = '\\n')\n",
    "\n",
    "#7. \n",
    "zeros = np.zeros((5,5))\n",
    "zeros[i,j] = rand_normal[i,j]\n",
    "print('Zeros filled with nonzero element from rand_normal = ', zeros, sep = '\\n')"
   ]
  },
  {
   "cell_type": "markdown",
   "metadata": {},
   "source": [
    "#### 8\n",
    "`np.eye` is more generic version of `np.identity` in that both can produce the identity matrix. In fact, `np.identity` does exactly that, however, `np.eye` does so much more, it can place the one on any diagonal besides the main diagnal. see below for example"
   ]
  },
  {
   "cell_type": "code",
   "execution_count": 31,
   "metadata": {},
   "outputs": [
    {
     "name": "stdout",
     "output_type": "stream",
     "text": [
      "identity matrix from identity function =  [[ 1.  0.  0.  0.  0.]\n",
      " [ 0.  1.  0.  0.  0.]\n",
      " [ 0.  0.  1.  0.  0.]\n",
      " [ 0.  0.  0.  1.  0.]\n",
      " [ 0.  0.  0.  0.  1.]]\n",
      "identity matrix from eye =  [[ 1.  0.  0.  0.  0.]\n",
      " [ 0.  1.  0.  0.  0.]\n",
      " [ 0.  0.  1.  0.  0.]\n",
      " [ 0.  0.  0.  1.  0.]\n",
      " [ 0.  0.  0.  0.  1.]]\n",
      "place ones 1 diagonal above main diagonal =  [[ 0.  1.  0.  0.  0.]\n",
      " [ 0.  0.  1.  0.  0.]\n",
      " [ 0.  0.  0.  1.  0.]\n",
      " [ 0.  0.  0.  0.  1.]\n",
      " [ 0.  0.  0.  0.  0.]]\n",
      "place ones 1 diagonal below main diagonal =  [[ 0.  0.  0.  0.  0.]\n",
      " [ 1.  0.  0.  0.  0.]\n",
      " [ 0.  1.  0.  0.  0.]\n",
      " [ 0.  0.  1.  0.  0.]\n",
      " [ 0.  0.  0.  1.  0.]]\n",
      "place ones 2 diagonals below main diagonal =  [[ 0.  0.  0.  0.  0.]\n",
      " [ 0.  0.  0.  0.  0.]\n",
      " [ 1.  0.  0.  0.  0.]\n",
      " [ 0.  1.  0.  0.  0.]\n",
      " [ 0.  0.  1.  0.  0.]]\n"
     ]
    }
   ],
   "source": [
    "print('identity matrix from identity function = ',np.identity(5))\n",
    "print('identity matrix from eye = ',np.eye(5,5))\n",
    "\n",
    "# But np.eye does so much more\n",
    "print('place ones 1 diagonal above main diagonal = ', np.eye(5,5,k = 1))\n",
    "print('place ones 1 diagonal below main diagonal = ', np.eye(5,5,k = -1))\n",
    "print('place ones 2 diagonals below main diagonal = ', np.eye(5,5,k = -2))"
   ]
  },
  {
   "cell_type": "code",
   "execution_count": 35,
   "metadata": {},
   "outputs": [
    {
     "name": "stdout",
     "output_type": "stream",
     "text": [
      "[[  8.   0.   0.   8.   0.]\n",
      " [  0.   1.   0.   0.   0.]\n",
      " [  0.   0.   1.   0.   0.]\n",
      " [ 18.   0.   0.  23.   0.]\n",
      " [  8.   3.   0.   0.   1.]]\n"
     ]
    }
   ],
   "source": [
    "#9.\n",
    "idd = np.identity(5)\n",
    "idd[i,j] = rand_normal[i,j]\n",
    "print(idd)"
   ]
  },
  {
   "cell_type": "markdown",
   "metadata": {},
   "source": [
    "##### 10\n",
    "`np.arange` creates an array for a specified __step size__, however `np.linspace` creates an array for a specified array length. \n",
    "\n",
    "```python\n",
    ">>> x = np.arange(1,2.5,0.5)\n",
    ">>> #outputs\n",
    ">>> array([1,1.5,2])\n",
    ">>> #whilst\n",
    ">>>y = np.linspace(1,2,10)\n",
    ">>>#outputs\n",
    ">>>array([ 1.        ,  1.11111111,  1.22222222,  1.33333333,  1.44444444,\n",
    "        1.55555556,  1.66666667,  1.77777778,  1.88888889,  2.        ])\n",
    "```\n"
   ]
  },
  {
   "cell_type": "markdown",
   "metadata": {},
   "source": [
    "### Problem 3\n",
    "In this part of the excercise, we are going to do a lot of slicing operation. \n",
    "\n",
    "1. start of by creating a 6 X 6 matrix of `np.nan`. The `np.nan` data dtype means __Not a Number__. It is typically   used to mean a missing value in data.[Hint: np.full should help you accomplish this task]. \n",
    "\n",
    "2. The matrix above can be partitioned into blocks of matrices: top-left, top-right, bottom-left, and bottom-right. All of which are 3 X 3. Now:\n",
    "    1. Replace top-left with 1\n",
    "    2. Replace top-right with 2\n",
    "    3. Replace bottom-left with 3\n",
    "    4. Replace bottom-right with 4\n",
    "    \n",
    "3. Now create a matrix of alphabets like so \n",
    "\n",
    "    ```python \n",
    "    from string import ascii_lowercase, ascii_uppercase\n",
    "    ll = list(ascii_lowercase[:9])\n",
    "    lu = ll = list(ascii_uppercase[:9])\n",
    "    ll_matrix = np.array(ll,dtype ='|S10').reshape((3,3))\n",
    "    lu_matrix =  np.array(lu, dtype ='|S10').reshape((3,3))\n",
    "\n",
    "    ```\n",
    "   \n",
    "   1. Take the two matrices ll_matrix and lu_matrix and stack them \n",
    "       - Vertically\n",
    "       - Horizontally\n",
    "       \n",
    "       using `np.concatenate`\n",
    "   2. Accomplish  the _question 2.A_ using `np.vstack` and `np.hstack`\n",
    "   \n",
    "   3. View the help documentation for the functions `np.r_` and `np.c_`. What is the difference between the two?\n",
    "   \n",
    "   4. Accomplish same task on _question 2.A_ using `np.r_` and `np.c_`\n",
    "   \n",
    "   5. In your opinion which of the these methods is more generic? Which method do you prefer?\n",
    "      \n",
    "4. Create a 2d array with ones on the border and zeros inside\n",
    "\n",
    "5. Create an 8 by 8 matrix with  zeros followed by ones in checkerboard fashion. For a 4 X 4 matrix, it looks like so:\n",
    "\n",
    "|0  | 1 | 0 | 1 |\n",
    "|---|---|---|---|\n",
    "| 1 | 0 | 1 | 0 |\n",
    "|0  | 1 | 0 | 1 |\n",
    "| 1 | 0 | 1 | 0 |\n",
    "\n",
    "\n",
    "NOTE: your matrix in part one should look like so:\n",
    "\n",
    "| `np.nan`| `np.nan` | `np.nan` | `np.nan` | `np.nan` | `np.nan` | \n",
    "| --------| ---------| ---------|----------|----------|----------|\n",
    "| `np.nan`| `np.nan`| `np.nan`| `np.nan`| `np.nan`|`np.nan`|\n",
    "|`np.nan`|`np.nan`| `np.nan`|`np.nan`|`np.nan`|`np.nan`|\n",
    "|`np.nan`|`np.nan`|`np.nan`|`np.nan`|`np.nan`|`np.nan`|\n",
    "|`np.nan`|`np.nan`|`np.nan`|`np.nan`|`np.nan`|`np.nan`|\n",
    "|`np.nan`|`np.nan`|`np.nan`|`np.nan`|`np.nan`|`np.nan`|\n"
   ]
  },
  {
   "cell_type": "markdown",
   "metadata": {},
   "source": [
    "  You should find very helpful factory functions for array creation. You should also find the universal  functions.Read the documentation of a few of them\n",
    "  ."
   ]
  },
  {
   "cell_type": "markdown",
   "metadata": {},
   "source": [
    "### Solution for problem 3"
   ]
  },
  {
   "cell_type": "code",
   "execution_count": 41,
   "metadata": {},
   "outputs": [
    {
     "name": "stdout",
     "output_type": "stream",
     "text": [
      "[[ nan  nan  nan  nan  nan  nan]\n",
      " [ nan  nan  nan  nan  nan  nan]\n",
      " [ nan  nan  nan  nan  nan  nan]\n",
      " [ nan  nan  nan  nan  nan  nan]\n",
      " [ nan  nan  nan  nan  nan  nan]\n",
      " [ nan  nan  nan  nan  nan  nan]]\n",
      "[[  1.   1.   1.  nan  nan  nan]\n",
      " [  1.   1.   1.  nan  nan  nan]\n",
      " [  1.   1.   1.  nan  nan  nan]\n",
      " [ nan  nan  nan  nan  nan  nan]\n",
      " [ nan  nan  nan  nan  nan  nan]\n",
      " [ nan  nan  nan  nan  nan  nan]]\n",
      "[[  1.   1.   1.   2.   2.   2.]\n",
      " [  1.   1.   1.   2.   2.   2.]\n",
      " [  1.   1.   1.   2.   2.   2.]\n",
      " [ nan  nan  nan  nan  nan  nan]\n",
      " [ nan  nan  nan  nan  nan  nan]\n",
      " [ nan  nan  nan  nan  nan  nan]]\n",
      "[[  1.   1.   1.   2.   2.   2.]\n",
      " [  1.   1.   1.   2.   2.   2.]\n",
      " [  1.   1.   1.   2.   2.   2.]\n",
      " [  3.   3.   3.  nan  nan  nan]\n",
      " [  3.   3.   3.  nan  nan  nan]\n",
      " [  3.   3.   3.  nan  nan  nan]]\n",
      "[[ 1.  1.  1.  2.  2.  2.]\n",
      " [ 1.  1.  1.  2.  2.  2.]\n",
      " [ 1.  1.  1.  2.  2.  2.]\n",
      " [ 3.  3.  3.  4.  4.  4.]\n",
      " [ 3.  3.  3.  4.  4.  4.]\n",
      " [ 3.  3.  3.  4.  4.  4.]]\n"
     ]
    }
   ],
   "source": [
    "#1. \n",
    "matr = np.full((6,6), fill_value= np.nan)\n",
    "print(matr)\n",
    "\n",
    "#2.A top-left \n",
    "matr[:3,:3] = 1\n",
    "print(matr)\n",
    "\n",
    "#2.B top-right\n",
    "matr[:3,3:] = 2\n",
    "print(matr)\n",
    "\n",
    "#2.C bottom-left\n",
    "matr[3:, :3] = 3\n",
    "print(matr)\n",
    "\n",
    "#2.D bottom-right\n",
    "matr[3:,3:] = 4\n",
    "print(matr)"
   ]
  },
  {
   "cell_type": "code",
   "execution_count": 50,
   "metadata": {},
   "outputs": [
    {
     "name": "stdout",
     "output_type": "stream",
     "text": [
      "[['a' 'b' 'c']\n",
      " ['d' 'e' 'f']\n",
      " ['g' 'h' 'i']\n",
      " ['A' 'B' 'C']\n",
      " ['D' 'E' 'F']\n",
      " ['G' 'H' 'I']]\n",
      "[['a' 'b' 'c' 'A' 'B' 'C']\n",
      " ['d' 'e' 'f' 'D' 'E' 'F']\n",
      " ['g' 'h' 'i' 'G' 'H' 'I']]\n"
     ]
    }
   ],
   "source": [
    "#3\n",
    "from string import ascii_lowercase, ascii_uppercase\n",
    "ll = list(ascii_lowercase[:9])\n",
    "lu = list(ascii_uppercase[:9])\n",
    "ll_matrix = np.array(ll,dtype ='|S10').reshape((3,3))\n",
    "lu_matrix =  np.array(lu, dtype ='|S10').reshape((3,3))\n",
    "\n",
    "#3.A\n",
    "#vertical stacking\n",
    "v_stack = np.concatenate((ll_matrix,lu_matrix))\n",
    "print(v_stack)\n",
    "\n",
    "#Horizontal stacking. \n",
    "h_stack = np.concatenate((ll_matrix, lu_matrix), axis = 1)\n",
    "print(h_stack)"
   ]
  },
  {
   "cell_type": "code",
   "execution_count": 52,
   "metadata": {},
   "outputs": [
    {
     "name": "stdout",
     "output_type": "stream",
     "text": [
      "[['a' 'b' 'c']\n",
      " ['d' 'e' 'f']\n",
      " ['g' 'h' 'i']\n",
      " ['A' 'B' 'C']\n",
      " ['D' 'E' 'F']\n",
      " ['G' 'H' 'I']]\n",
      "[['a' 'b' 'c' 'A' 'B' 'C']\n",
      " ['d' 'e' 'f' 'D' 'E' 'F']\n",
      " ['g' 'h' 'i' 'G' 'H' 'I']]\n"
     ]
    }
   ],
   "source": [
    "#3.B\n",
    "#Vertical stacking\n",
    "v_stack =np.vstack((ll_matrix,lu_matrix))\n",
    "print(v_stack)\n",
    "\n",
    "# horizontal stacking\n",
    "h_stack = np.hstack((ll_matrix,lu_matrix))\n",
    "print(h_stack)"
   ]
  },
  {
   "cell_type": "markdown",
   "metadata": {},
   "source": [
    "#3.\n",
    "both `np.r_` and `np.c_` tend to have similar behaviour as in, they both expand their inputs if a slicing operation is used but in a row-wise and column-wise respectively: like so "
   ]
  },
  {
   "cell_type": "code",
   "execution_count": 59,
   "metadata": {},
   "outputs": [
    {
     "name": "stdout",
     "output_type": "stream",
     "text": [
      "act like np.array(1,2,0.5) =  [ 1.   1.5]\n",
      "acts like np.linspace(1,2,10) =  [ 1.          1.11111111  1.22222222  1.33333333  1.44444444  1.55555556\n",
      "  1.66666667  1.77777778  1.88888889  2.        ]\n",
      "<type 'numpy.ndarray'>\n",
      "<class 'numpy.matrixlib.defmatrix.matrix'>\n"
     ]
    }
   ],
   "source": [
    "# act likes np.arange\n",
    "print('act like np.array(1,2,0.5) = ', np.r_[1:2:0.5])\n",
    "#acts like np.linspace\n",
    "print('acts like np.linspace(1,2,10) = ',np.r_[1:2:10j])\n",
    "\n",
    "# the object types can be converted to a matrix with the `r` and `c`:\n",
    "a = np.r_[1:2:0.5]\n",
    "print(type(a))\n",
    "\n",
    "a_matrix = np.r_['r',1:2:0.5]\n",
    "print(type(a_matrix))\n"
   ]
  },
  {
   "cell_type": "code",
   "execution_count": 62,
   "metadata": {},
   "outputs": [
    {
     "name": "stdout",
     "output_type": "stream",
     "text": [
      "[[1 1 2 2 2]\n",
      " [1 1 2 2 2]]\n"
     ]
    }
   ],
   "source": [
    "# When a comma separated objects of compatible dimenstions are passed, they get concatenated\n",
    "ones = np.full((2,2), fill_value = 1)\n",
    "twos = np.full((2,3), fill_value = 2)\n",
    "print(np.c_[ones,twos])\n",
    "\n",
    "# np.r_[ones,twos] won't work because the dimension are not compatible"
   ]
  },
  {
   "cell_type": "code",
   "execution_count": 63,
   "metadata": {},
   "outputs": [
    {
     "data": {
      "text/plain": [
       "array([[1, 1],\n",
       "       [1, 1],\n",
       "       [2, 2],\n",
       "       [2, 2]])"
      ]
     },
     "execution_count": 63,
     "metadata": {},
     "output_type": "execute_result"
    }
   ],
   "source": [
    "### specifying  a string integer specifies the which dimension to concatenate a comma separated inputs\n",
    "#along dimension 0, that is row-wise\n",
    "ones = np.full((2,2), fill_value = 1)\n",
    "twos = np.full((2,2), fill_value = 2)\n",
    "np.r_['0', ones,twos]\n"
   ]
  },
  {
   "cell_type": "code",
   "execution_count": 65,
   "metadata": {},
   "outputs": [
    {
     "data": {
      "text/plain": [
       "array([[1, 1, 2, 2],\n",
       "       [1, 1, 2, 2]])"
      ]
     },
     "execution_count": 65,
     "metadata": {},
     "output_type": "execute_result"
    }
   ],
   "source": [
    "#along dimension 1, that is column-wise\n",
    "ones = np.full((2,2), fill_value = 1)\n",
    "twos = np.full((2,2), fill_value = 2)\n",
    "np.r_['1', ones,twos]"
   ]
  },
  {
   "cell_type": "code",
   "execution_count": 66,
   "metadata": {},
   "outputs": [
    {
     "data": {
      "text/plain": [
       "array([[1, 1, 2, 2],\n",
       "       [1, 1, 2, 2]])"
      ]
     },
     "execution_count": 66,
     "metadata": {},
     "output_type": "execute_result"
    }
   ],
   "source": [
    "# a string two comma separated integers like '0,2' means concatenate along axis 0 but place the values in an \n",
    "# object of at least dimension 2, i.e dim >= 2\n",
    "ones = np.full((2,2), fill_value = 1)\n",
    "twos = np.full((2,2), fill_value = 2)\n",
    "np.r_['1,2', ones,twos]\n"
   ]
  },
  {
   "cell_type": "markdown",
   "metadata": {},
   "source": [
    "### Problem 4\n",
    "###### Basic Operations and ufuncs\n",
    "Universal functions (ufuncs) are vectorized functions that operate element-wise on an array. Alright lets, take them for a spin\n",
    "\n",
    "1. Invoke help on `np.core`:\n",
    "\n",
    "    Type this in the jupyter notebook or the IPython console and the hit the ENTER key. You should find very helpful factory functions for array creation and also the universal functions:\n",
    "   \n",
    "     ```python\n",
    "   \n",
    "    np.core?\n",
    "\n",
    "    OR\n",
    "    \n",
    "    help(np.core)\n",
    "     ```\n",
    "     \n",
    "2. ###### Normalizing a matrix \n",
    "    Consider\n",
    "    \n",
    "    ```python\n",
    "    np.random.seed(1235)\n",
    "    X = np.floor(np.random.random( size= 25)*100)\n",
    "    ```\n",
    "    1. Change the shape to 5X5 matrix and save it in a variable called **`Y`**.\n",
    "    2. find the range of **`Y`** and store it in variable called **`drange`**. [Hint, range = maximum - minimum]\n",
    "    3. Deflate Y by the its minimum and store it to a variable called **`Y_deflated`**\n",
    "    4. divide **`Y_deflated`** by the **`drange`** and store to **`Y_scaled`**\n",
    "\n",
    "3.\n",
    "\n",
    "   1. Create two 1-D normal random variables **`X`** and **`Y`** of size 1000\n",
    "   2. compute their correlation and store to **`corr`** [Hint: np.corrcoef. This gives a matrix of correlation coefficient]. The                correlation coefficient should be on the off diagonal\n",
    "   3. Now, let compute this manually.\n",
    "         1. Compute the mean of **`X`** and **`Y`** and store in **`xmean`** and **`ymean`** respectively.\n",
    "         2. Demean **`X`** and **`Y`** and store the results in **`devx`** and **`devy`**.\n",
    "         3. Do element-wise multiplication of **`devx`** and **`devy`** and sum the results of the multiplication.             Further divide the results of the sum by total element in **`X`**. Store the results to **`cov`**\n",
    "         4. Divide results 3.c by **`stdxy`** \n",
    "         \n",
    "         ```python\n",
    "         stdxy = np.std(X)*np.std(Y)\n",
    "         ```\n",
    "         Note: the result must be the same as the one in  _question 3.B_\n",
    "         \n"
   ]
  },
  {
   "cell_type": "markdown",
   "metadata": {},
   "source": [
    "### Solution for problem 4"
   ]
  },
  {
   "cell_type": "code",
   "execution_count": 69,
   "metadata": {},
   "outputs": [
    {
     "name": "stdout",
     "output_type": "stream",
     "text": [
      "Y =  [[ 95.  99.  47.  94.  74.]\n",
      " [ 83.  24.  36.  37.  65.]\n",
      " [ 71.  77.  45.  93.  95.]\n",
      " [ 22.  44.  17.  81.  80.]\n",
      " [ 63.  74.  92.  17.  81.]]\n",
      "scaled Y =  [[ 0.95121951  1.          0.36585366  0.93902439  0.69512195]\n",
      " [ 0.80487805  0.08536585  0.23170732  0.24390244  0.58536585]\n",
      " [ 0.65853659  0.73170732  0.34146341  0.92682927  0.95121951]\n",
      " [ 0.06097561  0.32926829  0.          0.7804878   0.76829268]\n",
      " [ 0.56097561  0.69512195  0.91463415  0.          0.7804878 ]]\n"
     ]
    }
   ],
   "source": [
    "np.random.seed(1235)\n",
    "X = np.floor(np.random.random( size= 25)*100)\n",
    "\n",
    "#2.A\n",
    "Y = X.reshape((5,5))\n",
    "\n",
    "#2.B\n",
    "drange = np.max(Y) - np.min(Y)\n",
    "\n",
    "#2.C\n",
    "Y_deflated = Y - np.min(Y)\n",
    "\n",
    "#2.D\n",
    "Y_scaled = Y_deflated/drange\n",
    "\n",
    "print('Y = ', Y)\n",
    "print('scaled Y = ', Y_scaled)\n",
    "\n"
   ]
  },
  {
   "cell_type": "code",
   "execution_count": 82,
   "metadata": {},
   "outputs": [
    {
     "name": "stdout",
     "output_type": "stream",
     "text": [
      "Correlation coefficient =  -0.0271945987383\n",
      "Manually calculated correlation coefficient =  -0.0271945987383\n"
     ]
    }
   ],
   "source": [
    "#3.\n",
    "np.random.seed(1234567)\n",
    "X = np.random.standard_normal(1000)\n",
    "Y = np.random.standard_normal(1000)\n",
    "\n",
    "temp = np.corrcoef(X,Y)\n",
    "corr = temp[0,1]\n",
    "print('Correlation coefficient = ', corr)\n",
    "\n",
    "\n",
    "# Computing it manually\n",
    "\n",
    "xmean = np.mean(X)\n",
    "ymean = np.mean(Y)\n",
    "\n",
    "devx = X - xmean\n",
    "devy = Y - ymean\n",
    "\n",
    "cov = sum(devx*devy)/len(X)\n",
    "\n",
    "stdxy = np.std(X)*np.std(Y)\n",
    "\n",
    "man_corr = cov/stdxy\n",
    "\n",
    "print('Manually calculated correlation coefficient = ', man_corr)"
   ]
  },
  {
   "cell_type": "markdown",
   "metadata": {},
   "source": [
    "### Problem 5\n",
    "\n",
    "The code below loads data from a file or (file-like) object.\n",
    "\n",
    "In this part, we are going to explore various options of loading data using numpy\n",
    "\n",
    "\n",
    "### Demo"
   ]
  },
  {
   "cell_type": "raw",
   "metadata": {},
   "source": [
    "##To run this cell, change the cell type to \"code\"\n",
    "# You have a file like this that you want to load as a Numpy array\n",
    "\n",
    "from io import BytesIO\n",
    "\n",
    "# This is your data in the text file\n",
    "data = \"\"\"\n",
    " Value1,  Value2,  Value3\\n\n",
    " 0.2536,  0.1008,  0.3857\\n\n",
    " 0.4839,  0.4536,  0.3561\\n\n",
    " 0.1292 , 0.6875,  0.5929\\n\n",
    " 0.1781,  0.3049,  0.8928\\n\n",
    " 0.6253,  0.3486,  0.8791\n",
    "\"\"\"\n",
    "file_data = BytesIO(data)\n",
    "# Import your data\n",
    "data = np.genfromtxt(file_data,\n",
    "                    unpack=True,\n",
    "                    delimiter = ',',\n",
    "                    names = True)\n",
    "\n",
    "# loop over columns to create matrix of data. Then the transpose the data into the right shape\n",
    "data = np.array([data[i] for i in data.dtype.names]).T\n",
    "data"
   ]
  },
  {
   "cell_type": "markdown",
   "metadata": {},
   "source": [
    "#### Your turn to try\n",
    "\n",
    "\n",
    "```python\n",
    "data = \"\"\"\n",
    " #This comment\n",
    " #Okay so I'm adding another comment here\n",
    " #I guess it doesn't hurt to add more\n",
    " Value1,  Value2,  Value3\\n\n",
    " 0.2536,  0.1008,  0.3857\\n\n",
    " 0.4839,  0.4536,  0.3561\\n\n",
    " 0.1292 , 0.6875,  0.5929\\n\n",
    " 0.1781,  0.3049,  0.8928\\n\n",
    " 0.6253,  0.3486,  0.8791\n",
    " #extra info down here\n",
    "\"\"\"\n",
    "```\n",
    "\n",
    "1. Visit [Help](https://docs.scipy.org/doc/numpy-dev/user/basics.io.genfromtxt.html#defining-the-input). This page will aid you to complete this task\n",
    "\n",
    "2. Load the data into a matrix form( we shall do it using two approaches):\n",
    "    - Using skip_header and skip_footer\n",
    "    - Using comment\n",
    "    - data type should be np.float32\n",
    "\n",
    "3. compute the mean and standard deviation of each columns. [Hint: use the random module]\n",
    "\n",
    "4. Demean each columns with their respective mean.\n",
    "\n",
    "5. Scale the results of _question 4_  to standardise each column."
   ]
  },
  {
   "cell_type": "markdown",
   "metadata": {},
   "source": [
    "### Solution for problem 5"
   ]
  },
  {
   "cell_type": "code",
   "execution_count": 111,
   "metadata": {},
   "outputs": [
    {
     "name": "stdout",
     "output_type": "stream",
     "text": [
      "[[ 0.2536      0.1008      0.38569999]\n",
      " [ 0.48390001  0.45359999  0.35609999]\n",
      " [ 0.1292      0.6875      0.59289998]\n",
      " [ 0.1781      0.30489999  0.89279997]\n",
      " [ 0.62529999  0.3486      0.87910002]]\n"
     ]
    }
   ],
   "source": [
    "from io import BytesIO\n",
    "\n",
    "data = \"\"\"\n",
    " #This comment\n",
    " #Okay so I'm adding another comment here\n",
    " #I guess it doesn't hurt to add more\n",
    " #Value1,  Value2,  Value3\\n\n",
    " 0.2536,  0.1008,  0.3857\\n\n",
    " 0.4839,  0.4536,  0.3561\\n\n",
    " 0.1292 , 0.6875,  0.5929\\n\n",
    " 0.1781,  0.3049,  0.8928\\n\n",
    " 0.6253,  0.3486,  0.8791\n",
    " #extra info down here\n",
    "\"\"\"\n",
    "byte_data = BytesIO(data)\n",
    "\n",
    "# # approach one\n",
    "data = np.genfromtxt(byte_data,\n",
    "                    delimiter = \",\",\n",
    "                    skip_header = 4,\n",
    "                     dtype = np.float32,\n",
    "                     names = ['Value1', 'Value2', 'Value3']\n",
    "                    )\n",
    "data = np.array([data[i] for i in data.dtype.names]).T\n",
    "print(data)\n",
    "\n",
    "## approach two: the easiers\n",
    "\n",
    "# data = np.genfromtxt(byte_data,\n",
    "#                     delimiter = \",\",\n",
    "#                      comments = \"#\",\n",
    "#                      dtype = np.float32\n",
    "#                     )\n",
    "\n"
   ]
  },
  {
   "cell_type": "code",
   "execution_count": 114,
   "metadata": {},
   "outputs": [
    {
     "name": "stdout",
     "output_type": "stream",
     "text": [
      "means of each column =  [ 0.33401999  0.37908     0.62132001]\n",
      "standard deviatio of each column =  [ 0.18975653  0.19211848  0.23100565]\n"
     ]
    }
   ],
   "source": [
    "#3.\n",
    "means = data.mean(axis = 0)\n",
    "print('means of each column = ', means)\n",
    "\n",
    "std = data.std(axis = 0)\n",
    "print('standard deviatio of each column = ', std)"
   ]
  },
  {
   "cell_type": "code",
   "execution_count": 116,
   "metadata": {},
   "outputs": [
    {
     "name": "stdout",
     "output_type": "stream",
     "text": [
      "demeanded data = \n",
      "[[-0.08041999 -0.27827999 -0.23562002]\n",
      " [ 0.14988002  0.07451999 -0.26522002]\n",
      " [-0.20481999  0.30842    -0.02842003]\n",
      " [-0.15591998 -0.07418001  0.27147996]\n",
      " [ 0.29128    -0.03048     0.25778002]]\n",
      "standardized data = \n",
      "[[-0.42380616 -1.44848108 -1.01997519]\n",
      " [ 0.78985435  0.3878856  -1.14811051]\n",
      " [-1.07938313  1.60536349 -0.12302743]\n",
      " [-0.82168442 -0.38611594  1.17520916]\n",
      " [ 1.53501964 -0.15865208  1.1159035 ]]\n"
     ]
    }
   ],
   "source": [
    "#4. and 5.\n",
    "demean = data - means\n",
    "\n",
    "standardized = demean/std\n",
    "\n",
    "print('demeanded data = ', demean , sep = '\\n')\n",
    "print('standardized data = ', standardized, sep = '\\n')"
   ]
  }
 ],
 "metadata": {
  "kernelspec": {
   "display_name": "Python [conda env:ipykernel2]",
   "language": "python",
   "name": "conda-env-ipykernel2-py"
  },
  "language_info": {
   "codemirror_mode": {
    "name": "ipython",
    "version": 2
   },
   "file_extension": ".py",
   "mimetype": "text/x-python",
   "name": "python",
   "nbconvert_exporter": "python",
   "pygments_lexer": "ipython2",
   "version": "2.7.13"
  }
 },
 "nbformat": 4,
 "nbformat_minor": 2
}
