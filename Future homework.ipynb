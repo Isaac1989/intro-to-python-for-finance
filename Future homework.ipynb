{
 "cells": [
  {
   "cell_type": "raw",
   "metadata": {
    "slideshow": {
     "slide_type": "slide"
    }
   },
   "source": [
    "# Writing a Program for student grades \n",
    "\n",
    "dic_sec = {'Peter':'phr', 'Grader': 'pass'}\n",
    "# This is a security with names ( logins or keys  ) and passwords \n",
    "\n",
    "\n",
    "\n",
    "\n",
    "def mymain():\n",
    "    print( \"\"\"\n",
    "    Welcome to Grade Central for this class\n",
    "    \n",
    "    [1] Enter Student\n",
    "    [2] Remove Student\n",
    "    [3] Enter Grade for Student\n",
    "    [4] Compute Student Average Grade\n",
    "    \"\"\" )\n",
    "    \n",
    "    action= input('What would you like to do? ( Enter a number) ' )\n",
    "    if action == 1:\n",
    "        print '1'\n",
    "    elif action == 2:\n",
    "        print '2'\n",
    "    elif action == 3:\n",
    "        print '3'\n",
    "    elif action == 4:\n",
    "        print '4'\n",
    "    else:\n",
    "        print( 'You have made a Fatal error. The world may end')\n",
    "        \n",
    "    \n",
    "     \n",
    "\n",
    "login = input('Enter Username:  ') \n",
    "password =  input('Password:  ')\n",
    "\n",
    "if login in dic_sec:\n",
    "    if dic_sec[login] == password:\n",
    "        print('Welcome', 'login')\n",
    "        while True:\n",
    "            main()\n",
    "    else:\n",
    "        print(\"Invalid Password.\")\n",
    "else:\n",
    "    print('Invalid uswername')\n",
    "              \n",
    " \n",
    "              \n",
    "mymain()\n",
    "              \n",
    "              \n",
    "              \n",
    "              \n",
    "    \n"
   ]
  },
  {
   "cell_type": "markdown",
   "metadata": {
    "slideshow": {
     "slide_type": "slide"
    }
   },
   "source": [
    "## 3. Homework"
   ]
  },
  {
   "cell_type": "markdown",
   "metadata": {
    "slideshow": {
     "slide_type": "fragment"
    }
   },
   "source": [
    "(1) Let the user  define an input radius value. Then you have to compute  the calculation of circumference and area of the circle with this radius. At last, you have to use two print statement to output your calculation result (please round the results to two decimal points)."
   ]
  },
  {
   "cell_type": "markdown",
   "metadata": {
    "slideshow": {
     "slide_type": "fragment"
    }
   },
   "source": [
    "Hint 1: You can change a variable mn to float type by: float(mn). You can change a variable mn to string type by: str(mn)"
   ]
  },
  {
   "cell_type": "markdown",
   "metadata": {
    "slideshow": {
     "slide_type": "fragment"
    }
   },
   "source": [
    "Hint 2: You can use round function to round your result."
   ]
  },
  {
   "cell_type": "markdown",
   "metadata": {
    "slideshow": {
     "slide_type": "fragment"
    }
   },
   "source": [
    "Hint 3: Pi is stored in math package."
   ]
  },
  {
   "cell_type": "markdown",
   "metadata": {},
   "source": [
    "## potential future homework\n",
    "\n",
    "\n",
    "#### Homework Question 1\n",
    "\n",
    "Your boss says that every week  he has to print out 100 graphs that have the same type of headings, but the title of each graph contains the name of a person from the list. he wants to automate the generation of the headings.\n",
    "\n",
    "he tells you the headings are of the form:\n",
    "\n",
    "Productivity report of SUBJECT NAME's data over Time\n",
    "\n",
    "Can you produce a list of Headings given the names below \n",
    "\n",
    "Names =[Jon, Jim, Jack, Kevin, Kay, Mary, Martha, Sally]\n",
    "\n",
    "\n",
    "\n",
    "\n",
    "\n"
   ]
  },
  {
   "cell_type": "code",
   "execution_count": null,
   "metadata": {
    "collapsed": true
   },
   "outputs": [],
   "source": [
    "# Step 1: Create a List\n",
    "\n",
    "Names =['Jon', 'Jim', 'Jack', 'Kevin', 'Kay', 'Mary', 'Martha', 'Sally']\n",
    "\n",
    "str = \"Productivity report of SUBJECT NAME's data over Time\"\n",
    "\n",
    "for name in Names:\n",
    "    str = \"Productivity report of SUBJECT NAME's data over Time\"\n",
    "    y = str.replace('SUBJECT NAME', name)\n",
    "    print y"
   ]
  },
  {
   "cell_type": "markdown",
   "metadata": {},
   "source": [
    "\n",
    "## Homework  Question 2\n",
    "\n",
    "-Your boss is so impressed! Each staff member produces 3 reports labelled Rep1 Rep2 and Rep3. he wants you to redo the problem above but this time produce three headings for each member in her group.\n",
    "\n",
    "-So the title should be Productivity Report  oREPORT  TYPE by STAFF NAME over time \n",
    "\n",
    "-The staff members are [Jon, Jim, Jack, Kevin, Kay, Mary, Martha, Sally] and the report types are \n",
    "Reports =[Rep1, Rep2, Rep3]\n",
    "\n"
   ]
  },
  {
   "cell_type": "code",
   "execution_count": null,
   "metadata": {
    "collapsed": true
   },
   "outputs": [],
   "source": [
    "Names =['Jon', 'Jim', 'Jack', 'Kevin', 'Kay', 'Mary', 'Martha', 'Sally']\n",
    "Reports = ['Rep1','Rep2', 'Rep3']\n",
    "\n",
    "str = \"Productivity report  TYPE REPORT for  SUBJECT NAME's data over Time\"\n",
    "for name in Names:\n",
    "    str = \"Productivity report  TYPE REPORT for  SUBJECT NAME's data over Time\"\n",
    "    y = str.replace('SUBJECT NAME', name)\n",
    "    for rep in Reports:\n",
    "           y2 = y.replace('TYPE REPORT', rep)\n",
    "           print y2\n",
    "           \n",
    "            \n"
   ]
  },
  {
   "cell_type": "code",
   "execution_count": 1,
   "metadata": {
    "collapsed": false
   },
   "outputs": [
    {
     "name": "stdout",
     "output_type": "stream",
     "text": [
      "productive report: Rep1 for Jon over time\n",
      "productive report: Rep2 for Jon over time\n",
      "productive report: Rep3 for Jon over time\n",
      "productive report: Rep1 for Jim over time\n",
      "productive report: Rep2 for Jim over time\n",
      "productive report: Rep3 for Jim over time\n",
      "productive report: Rep1 for Jack over time\n",
      "productive report: Rep2 for Jack over time\n",
      "productive report: Rep3 for Jack over time\n",
      "productive report: Rep1 for Kevin over time\n",
      "productive report: Rep2 for Kevin over time\n",
      "productive report: Rep3 for Kevin over time\n",
      "productive report: Rep1 for Kay over time\n",
      "productive report: Rep2 for Kay over time\n",
      "productive report: Rep3 for Kay over time\n",
      "productive report: Rep1 for Mary over time\n",
      "productive report: Rep2 for Mary over time\n",
      "productive report: Rep3 for Mary over time\n",
      "productive report: Rep1 for Martha over time\n",
      "productive report: Rep2 for Martha over time\n",
      "productive report: Rep3 for Martha over time\n",
      "productive report: Rep1 for Sally over time\n",
      "productive report: Rep2 for Sally over time\n",
      "productive report: Rep3 for Sally over time\n"
     ]
    }
   ],
   "source": [
    "\n",
    "Names =['Jon', 'Jim', 'Jack', 'Kevin', 'Kay', 'Mary', 'Martha', 'Sally']\n",
    "Reports = ['Rep1','Rep2', 'Rep3']\n",
    "sub1 = 'NOP'\n",
    "sub2 = 'Rep'\n",
    "title = \"productive report: {sub2} for {sub1} over time\"\n",
    "\n",
    "for name in Names:\n",
    "    for reps in Reports:\n",
    "        y = title.format(sub1= name, sub2 = reps)\n",
    "        print y"
   ]
  },
  {
   "cell_type": "markdown",
   "metadata": {},
   "source": [
    "# Homework Question 3\n",
    "\n",
    "-Your colleague sent you the data you needed, but in the text of an email!\n",
    "- Seriously, who sends data like that, it's ridiculous! \n",
    "- Well, now you need to make a list of numbers out of it.\n",
    "- How do you do that without typing them by hand?"
   ]
  },
  {
   "cell_type": "code",
   "execution_count": null,
   "metadata": {
    "collapsed": true
   },
   "outputs": [],
   "source": [
    "\n",
    "strdata = '12 40 89 100 41.2 41.2 0.45 1.1'\n",
    "# Your job is to take this string data and make a list of floats out of it\n",
    "# You can use the split method for strings \n",
    "# This takes in a string and splits it up whenever there is a space. so now we have \n",
    "# a list of strings that we need to convert to floating points \n",
    "\n",
    "\n",
    "y = strdata.split(' ')\n",
    "final =[]\n",
    "for x in y:\n",
    "    xt = float(x)\n",
    "    final.append(xt)\n",
    "    \n",
    "final\n",
    "    \n",
    "    \n",
    "\n"
   ]
  },
  {
   "cell_type": "markdown",
   "metadata": {},
   "source": [
    "## Homework Question 4\n",
    "\n",
    "The list of names you were given contains some floating values as well. Get rid of them and then arrange the new list in alphabetical order\n",
    "\n",
    "Names = ['Jon', 'Peter', 'Alex', 12.0,  'Zelda','Rocky', 17.9, 'Jim', 'Jack', 'Kevin', 'Kay', 'Alice', 'Mary', 'Martha', 'Sally']\n",
    "\n",
    "To do this problem you may want to use google in an intelligent way!"
   ]
  },
  {
   "cell_type": "code",
   "execution_count": null,
   "metadata": {
    "collapsed": true
   },
   "outputs": [],
   "source": [
    "Names = ['Jon', 'Peter', 'Alex', 12.0,  'Zelda','Rocky', 17.9, 'Jim', 'Jack', 'Kevin', 'Kay', 'Alice', 'Mary', 'Martha', 'Sally']\n",
    "Names.sort()\n",
    "Final=[]\n",
    "for name in Names: \n",
    "    if isinstance(name, basestring):\n",
    "        Final.append(name)\n",
    "        \n",
    "        \n",
    "print Final\n"
   ]
  },
  {
   "cell_type": "markdown",
   "metadata": {},
   "source": [
    "## Homework Question 5\n",
    "\n",
    "-You have two lists:\n",
    "- LA =['c1','c5','c7']\n",
    "- LB = ['d2','d1','d3']\n",
    "- You need to create a _tupple_ whose first member is from LA and the second is from LB.\n",
    "- Use google to find out how to create a list of these tupples (pairs)\n",
    "\n",
    "-As an example list LA could be countries and List LB  could be capitals....\n",
    "\n",
    "Now if any pair has a 1 in it drop the pair \n"
   ]
  },
  {
   "cell_type": "code",
   "execution_count": null,
   "metadata": {
    "collapsed": true
   },
   "outputs": [],
   "source": [
    "# First we need to create the pairs ( tupples))\n",
    "\n",
    "LA =['c1','c2','c3'] \n",
    "LB = ['d1','d2','d3'] \n",
    "Newlist = zip(LA,LB)\n",
    "Newlist\n"
   ]
  },
  {
   "cell_type": "code",
   "execution_count": null,
   "metadata": {
    "collapsed": true
   },
   "outputs": [],
   "source": [
    "LA =['c1','c2','c3'] \n",
    "LB = ['d1','d2','d3'] \n",
    "Final =[]\n",
    "ival = [0,1,2]\n",
    "for i in ival:\n",
    "    temp=[LA[i],LB[i]]\n",
    "    Final.append(temp)\n",
    "    \n",
    "print Final \n",
    "    "
   ]
  },
  {
   "cell_type": "code",
   "execution_count": null,
   "metadata": {
    "collapsed": true
   },
   "outputs": [],
   "source": [
    "\n",
    "LA =['c1','c2','c3', 'c7', 'c1', 'c1'] \n",
    "LB = ['d1','d2','d3', 'd1','d1', 'd1']\n",
    "\n",
    "Final=[]\n",
    "for i in  xrange(0,6):  # Use the xrange command for successive integers from 0 to 5 in this case \n",
    "    temp=[LA[i],LB[i]]\n",
    "    Final.append(temp)\n",
    "    \n",
    "print Final "
   ]
  },
  {
   "cell_type": "markdown",
   "metadata": {},
   "source": [
    "### Now we want to get rid of those elements where  both the second values are the same \n"
   ]
  },
  {
   "cell_type": "code",
   "execution_count": null,
   "metadata": {
    "collapsed": true
   },
   "outputs": [],
   "source": [
    "FinalF =[]\n",
    "for item in Final:\n",
    "    y=   item[0]  # picks up the first element in item \n",
    "    z = item[1]   # picks up the second  element  in item \n",
    "   \n",
    "    y2 = float(y[1])    # picks up the second digit in the string y\n",
    "    z2 = float(z[1])    # picks up the second digit in the string z\n",
    "    \n",
    "    if (z2 != y2):\n",
    "        FinalF.append(item)\n",
    "        \n",
    "\n",
    "        \n",
    "        \n",
    "print FinalF\n",
    "   "
   ]
  },
  {
   "cell_type": "code",
   "execution_count": null,
   "metadata": {
    "collapsed": true
   },
   "outputs": [],
   "source": []
  }
 ],
 "metadata": {
  "kernelspec": {
   "display_name": "Python 2",
   "language": "python",
   "name": "python2"
  },
  "language_info": {
   "codemirror_mode": {
    "name": "ipython",
    "version": 2
   },
   "file_extension": ".py",
   "mimetype": "text/x-python",
   "name": "python",
   "nbconvert_exporter": "python",
   "pygments_lexer": "ipython2",
   "version": "2.7.13"
  }
 },
 "nbformat": 4,
 "nbformat_minor": 0
}
