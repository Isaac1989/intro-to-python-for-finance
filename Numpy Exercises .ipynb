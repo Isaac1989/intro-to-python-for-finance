{
 "cells": [
  {
   "cell_type": "code",
   "execution_count": 4,
   "metadata": {
    "collapsed": true
   },
   "outputs": [],
   "source": [
    "import numpy as np"
   ]
  },
  {
   "cell_type": "markdown",
   "metadata": {},
   "source": [
    "## The Basics"
   ]
  },
  {
   "cell_type": "markdown",
   "metadata": {},
   "source": [
    "Find indices of non zero elements from [1,2,0,0,4,0]"
   ]
  },
  {
   "cell_type": "code",
   "execution_count": 5,
   "metadata": {
    "collapsed": false
   },
   "outputs": [],
   "source": [
    "x = np.array([1,2,0,0,4,0])  #Right\n",
    "# x = np.array(1,2,0,0,4,0)  #wrong"
   ]
  },
  {
   "cell_type": "code",
   "execution_count": 6,
   "metadata": {
    "collapsed": false
   },
   "outputs": [
    {
     "name": "stdout",
     "output_type": "stream",
     "text": [
      "[ 0.  0.  0.  0.  0.  0.  0.  0.  0.  0.]\n",
      "[ 0.  0.  3.  0.  0.  0.  0.  0.  0.  0.]\n"
     ]
    }
   ],
   "source": [
    "# Create a null vector of size 10, change the third element to 3\n",
    "x = np.zeros(10)\n",
    "print x\n",
    "x[2] = 3\n",
    "print x"
   ]
  },
  {
   "cell_type": "code",
   "execution_count": 7,
   "metadata": {
    "collapsed": false
   },
   "outputs": [
    {
     "data": {
      "text/plain": [
       "array([12, 13, 14, 15, 16, 17])"
      ]
     },
     "execution_count": 7,
     "metadata": {},
     "output_type": "execute_result"
    }
   ],
   "source": [
    "# Create a vector starting at 12 and going to 17\n",
    "vector = np.arange(12,18)\n",
    "vector"
   ]
  },
  {
   "cell_type": "code",
   "execution_count": 8,
   "metadata": {
    "collapsed": false
   },
   "outputs": [
    {
     "data": {
      "text/plain": [
       "array([[0, 1, 2],\n",
       "       [3, 4, 5],\n",
       "       [6, 7, 8]])"
      ]
     },
     "execution_count": 8,
     "metadata": {},
     "output_type": "execute_result"
    }
   ],
   "source": [
    "# Create a 3 by 3 matrix with values ranging from 0 to 8\n",
    "vector = np.arange(0,9)\n",
    "ans = vector.reshape(3,3)\n",
    "ans"
   ]
  },
  {
   "cell_type": "code",
   "execution_count": 9,
   "metadata": {
    "collapsed": false
   },
   "outputs": [
    {
     "data": {
      "text/plain": [
       "array([[-0.11807442,  0.65146285,  0.51644735],\n",
       "       [ 0.5098928 , -0.74055022,  0.0996817 ],\n",
       "       [ 0.14712601, -1.51620946,  0.21016844]])"
      ]
     },
     "execution_count": 9,
     "metadata": {},
     "output_type": "execute_result"
    }
   ],
   "source": [
    "# Generate a 3 by 3 matrix of standard normal random variables\n",
    "x = np.random.normal(size = 9)\n",
    "y = x.reshape(3,3)\n",
    "y"
   ]
  },
  {
   "cell_type": "code",
   "execution_count": 10,
   "metadata": {
    "collapsed": false
   },
   "outputs": [
    {
     "data": {
      "text/plain": [
       "array([[ 1.,  0.,  0.],\n",
       "       [ 0.,  1.,  0.],\n",
       "       [ 0.,  0.,  1.]])"
      ]
     },
     "execution_count": 10,
     "metadata": {},
     "output_type": "execute_result"
    }
   ],
   "source": [
    "# Create a 3 by 3 identity matrix\n",
    "q = np.eye(3)\n",
    "q"
   ]
  },
  {
   "cell_type": "code",
   "execution_count": 11,
   "metadata": {
    "collapsed": false
   },
   "outputs": [
    {
     "name": "stdout",
     "output_type": "stream",
     "text": [
      "0.0556398401346 0.925857861912\n"
     ]
    }
   ],
   "source": [
    "# Create a 5 by 5 matrix of random numbers and find the minimum and maximum\n",
    "A = np.random.random(25)\n",
    "B = A.reshape(5,5)\n",
    "minN = B.min()\n",
    "maxN = B.max()\n",
    "print minN, maxN"
   ]
  },
  {
   "cell_type": "code",
   "execution_count": 12,
   "metadata": {
    "collapsed": false
   },
   "outputs": [
    {
     "name": "stdout",
     "output_type": "stream",
     "text": [
      "[[ 1.  1.  1.  1.  1.]\n",
      " [ 1.  0.  0.  0.  1.]\n",
      " [ 1.  0.  0.  0.  1.]\n",
      " [ 1.  0.  0.  0.  1.]\n",
      " [ 1.  1.  1.  1.  1.]]\n"
     ]
    }
   ],
   "source": [
    "# Create a 2d array with ones on the border and zeros inside\n",
    "A = np.zeros((5,5))\n",
    "A[0,:] = 1\n",
    "A[4,:]= 1\n",
    "A[:,0] = 1\n",
    "A[:,4] = 1\n",
    "print A\n"
   ]
  },
  {
   "cell_type": "code",
   "execution_count": 13,
   "metadata": {
    "collapsed": false
   },
   "outputs": [
    {
     "name": "stdout",
     "output_type": "stream",
     "text": [
      "[[0 1 0 1 0 1 0 1]\n",
      " [1 0 1 0 1 0 1 0]\n",
      " [0 1 0 1 0 1 0 1]\n",
      " [1 0 1 0 1 0 1 0]\n",
      " [0 1 0 1 0 1 0 1]\n",
      " [1 0 1 0 1 0 1 0]\n",
      " [0 1 0 1 0 1 0 1]\n",
      " [1 0 1 0 1 0 1 0]]\n"
     ]
    }
   ],
   "source": [
    "# Create an 8 by 8 matrix with  zeros followed by ones in \n",
    "# checkerboard fashion\n",
    "Z = np.zeros((8,8),dtype=int)\n",
    "Z[1::2,::2] = 1 # one to end in jumps of two ( in rows ) and begin to end in jumps of two \n",
    "Z[::2,1::2] = 1\n",
    "print(Z)"
   ]
  },
  {
   "cell_type": "code",
   "execution_count": 14,
   "metadata": {
    "collapsed": false
   },
   "outputs": [
    {
     "data": {
      "text/plain": [
       "array([[ 0.4145042 ,  0.18531083,  0.42340137,  0.58890055,  1.        ],\n",
       "       [ 0.43813048,  0.51023155,  0.28426727,  0.56679334,  0.8541037 ],\n",
       "       [ 0.33394851,  0.36848548,  0.90144521,  0.2375973 ,  0.13527381],\n",
       "       [ 0.04847739,  0.9726074 ,  0.1775128 ,  0.07479174,  0.102434  ],\n",
       "       [ 0.64975247,  0.        ,  0.58881656,  0.07732884,  0.48412114]])"
      ]
     },
     "execution_count": 14,
     "metadata": {},
     "output_type": "execute_result"
    }
   ],
   "source": [
    "#  Normalize a 5 by 5 matrix of random integer numbers between 0 and 100\n",
    "X= np.random.random( size= 25)*100\n",
    "Y = X.reshape(5,5)\n",
    "ymin, ymax = Y.min(), Y.max()\n",
    "Z = (Y-ymin)/(ymax-ymin)\n",
    "Z\n"
   ]
  },
  {
   "cell_type": "code",
   "execution_count": 15,
   "metadata": {
    "collapsed": false
   },
   "outputs": [
    {
     "data": {
      "text/plain": [
       "array([[ 1.44734558,  1.84529143,  1.04775006,  1.12777892],\n",
       "       [ 1.44734558,  1.84529143,  1.04775006,  1.12777892],\n",
       "       [ 1.44734558,  1.84529143,  1.04775006,  1.12777892],\n",
       "       [ 1.44734558,  1.84529143,  1.04775006,  1.12777892],\n",
       "       [ 1.44734558,  1.84529143,  1.04775006,  1.12777892]])"
      ]
     },
     "execution_count": 15,
     "metadata": {},
     "output_type": "execute_result"
    }
   ],
   "source": [
    "# Multiply a 5 by 3 matrix with a 3  by 4 matrix\n",
    "A = np.ones((5,3))\n",
    "B = np.random.random((3,4))\n",
    "AB = np.dot(A,B)\n",
    "AB"
   ]
  },
  {
   "cell_type": "code",
   "execution_count": 16,
   "metadata": {
    "collapsed": false
   },
   "outputs": [
    {
     "data": {
      "text/plain": [
       "array([[ 0.,  1.,  2.,  3.,  4.],\n",
       "       [ 0.,  1.,  2.,  3.,  4.],\n",
       "       [ 0.,  1.,  2.,  3.,  4.],\n",
       "       [ 0.,  1.,  2.,  3.,  4.],\n",
       "       [ 0.,  1.,  2.,  3.,  4.]])"
      ]
     },
     "execution_count": 16,
     "metadata": {},
     "output_type": "execute_result"
    }
   ],
   "source": [
    "# Create a 5 by 5 matrix with row values ranging from 0 to 4\n",
    "Z = np.zeros((5,5))\n",
    "Z = Z + np.arange(5)\n",
    "Z"
   ]
  },
  {
   "cell_type": "code",
   "execution_count": 17,
   "metadata": {
    "collapsed": true
   },
   "outputs": [],
   "source": [
    "# Setup a matrix A of size 3 by 4 with the numbers 7 in each entry\n",
    "# Setup a matrix B of random numbers as a 3 by 4 matrix\n",
    "# multiply pointwise the two matrices\n",
    "# Transpose B to a 4 by 3 matrix and  compute A*B' ( matrix multiplication)\n"
   ]
  },
  {
   "cell_type": "code",
   "execution_count": 32,
   "metadata": {
    "collapsed": false
   },
   "outputs": [],
   "source": [
    "A = np.full((3,4),7.0)\n",
    "# If you did not know this you could \n",
    "A = np.ones((3,4))*7.0\n",
    "B = np.random.random((3,4))\n",
    "Bprime = np.transpose(B)\n",
    "C = A*B\n",
    "D = np.dot(A, Bprime)\n"
   ]
  },
  {
   "cell_type": "code",
   "execution_count": 34,
   "metadata": {
    "collapsed": false
   },
   "outputs": [
    {
     "data": {
      "text/plain": [
       "array([[  7.,   0.,  14.,   0.],\n",
       "       [  7.,   0.,  14.,   0.],\n",
       "       [  7.,   0.,  14.,   0.]])"
      ]
     },
     "execution_count": 34,
     "metadata": {},
     "output_type": "execute_result"
    }
   ],
   "source": [
    "# Create a matrix, eg A above.\n",
    "# Now add a vector to each row of the matrix\n",
    "A = np.full((3,4),7.0)\n",
    "rowv = np.array([1,0,2,0])\n",
    "C = A*rowv\n",
    "C"
   ]
  },
  {
   "cell_type": "code",
   "execution_count": 35,
   "metadata": {
    "collapsed": true
   },
   "outputs": [],
   "source": [
    "# In the above each row of the \"big\" matrix multiplied pointwise \n",
    "# with the one row we specified \n",
    "\n",
    "# Now lets see what would happen if we had a big array and  did the \n",
    "# same thing with a matrix\n"
   ]
  },
  {
   "cell_type": "code",
   "execution_count": 42,
   "metadata": {
    "collapsed": false
   },
   "outputs": [
    {
     "data": {
      "text/plain": [
       "array([[ 1,  2,  3],\n",
       "       [ 2,  4,  6],\n",
       "       [ 3,  6,  9],\n",
       "       [ 4,  8, 12]])"
      ]
     },
     "execution_count": 42,
     "metadata": {},
     "output_type": "execute_result"
    }
   ],
   "source": [
    "A = np.full((20,2),7.0)\n",
    "B = np.array([[1,0], [0,1]])\n",
    "# C = A*B\n",
    "# This will not work because it is not obvious what you are doing!\n",
    "# But if A is  a column vector of size 4 and B is  a row vector of size 3\n",
    "# Lets see what happens \n",
    "A = np.array([[1],[2],[3],[4]])\n",
    "B = np.array([1,2,3])\n",
    "C = A*B\n",
    "# each element of the column vector is multiplied by each element of the \n",
    "# row vector. So we end up with a 4 by 3 matrix\n",
    "C"
   ]
  },
  {
   "cell_type": "code",
   "execution_count": 43,
   "metadata": {
    "collapsed": true
   },
   "outputs": [],
   "source": [
    "vec1=np.array([-1.,4.,-9.])\n",
    "mat1 = np.array([[ 1., 3., 5.], [7., -9., 2.], [4., 6., 8. ]])\n",
    "vec2 = (np.pi/4)* vec1\n",
    "                "
   ]
  },
  {
   "cell_type": "markdown",
   "metadata": {},
   "source": [
    "Form a 2D array without typing it explicitly with \n",
    "[[1,  6, 11],\n",
    " [2,  7, 12],\n",
    " [3,  8, 13],\n",
    " [4,  9, 14],\n",
    " [5, 10, 15]]\n",
    "\n"
   ]
  },
  {
   "cell_type": "code",
   "execution_count": 51,
   "metadata": {
    "collapsed": false
   },
   "outputs": [
    {
     "data": {
      "text/plain": [
       "array([[ 1,  6, 11],\n",
       "       [ 2,  7, 12],\n",
       "       [ 3,  8, 13],\n",
       "       [ 4,  9, 14],\n",
       "       [ 5, 10, 15]])"
      ]
     },
     "execution_count": 51,
     "metadata": {},
     "output_type": "execute_result"
    }
   ],
   "source": [
    "x = np.arange(1,16)\n",
    "x = np.reshape(x, (5,3), 'F')\n",
    "x"
   ]
  },
  {
   "cell_type": "code",
   "execution_count": 52,
   "metadata": {
    "collapsed": true
   },
   "outputs": [],
   "source": [
    "# Now generate a new array containing the second and fourth row"
   ]
  },
  {
   "cell_type": "code",
   "execution_count": 58,
   "metadata": {
    "collapsed": false
   },
   "outputs": [
    {
     "data": {
      "text/plain": [
       "array([[  2.,   7.,  12.],\n",
       "       [  4.,   9.,  14.]])"
      ]
     },
     "execution_count": 58,
     "metadata": {},
     "output_type": "execute_result"
    }
   ],
   "source": [
    "y = np.zeros((2,3))\n",
    "y[0,:]= x[1,:]\n",
    "y[1,:] = x[3,:]\n",
    "y\n"
   ]
  },
  {
   "cell_type": "markdown",
   "metadata": {},
   "source": [
    "#### To import an image  use the command \n",
    "##### img src=\"Snip1.png\",width=300,height=400>\n",
    "\n",
    "\n",
    "<img src=\"Snip1.png\",width=300,height=400>"
   ]
  },
  {
   "cell_type": "code",
   "execution_count": 64,
   "metadata": {
    "collapsed": false
   },
   "outputs": [
    {
     "name": "stdout",
     "output_type": "stream",
     "text": [
      "A1= [10 15 20]\n",
      "A2= [ 0.    0.25  0.5   0.75  1.    1.25  1.5   1.75  2.  ]\n"
     ]
    }
   ],
   "source": [
    "# Create an array of ones\n",
    "np.ones((3,4))\n",
    "\n",
    "# Create an array of zeros\n",
    "np.zeros((2,3,4),dtype=np.int16)\n",
    "\n",
    "# Create an array with random values\n",
    "np.random.random((2,2))\n",
    "\n",
    "# Create an empty array\n",
    "np.empty((3,2))\n",
    "\n",
    "# Create a full array\n",
    "np.full((2,2),7)\n",
    "\n",
    "# Create an array of evenly-spaced values\n",
    "A1 = np.arange(10,25,5)  # will create 10, 15 and 20\n",
    "\n",
    "# Create an array of evenly-spaced values\n",
    "A2 =  np.linspace(0,2,9)  # will divide the interval 2  by 8 to create 9 numbers \n",
    "                    # equally spaced with endpoints 0 and 2.\n",
    "print 'A1=', A1\n",
    "print 'A2=', A2"
   ]
  },
  {
   "cell_type": "markdown",
   "metadata": {},
   "source": [
    "Loading Numpy Arrays from Text"
   ]
  },
  {
   "cell_type": "raw",
   "metadata": {},
   "source": [
    "# You have a file like this that you want to load as a Numpy array\n",
    "\n",
    "# This is your data in the text file\n",
    "# Value1  Value2  Value3\n",
    "# 0.2536  0.1008  0.3857\n",
    "# 0.4839  0.4536  0.3561\n",
    "# 0.1292  0.6875  0.5929\n",
    "# 0.1781  0.3049  0.8928\n",
    "# 0.6253  0.3486  0.8791\n",
    "\n",
    "# Import your data\n",
    "x, y, z = np.loadtxt('data.txt',\n",
    "                    skiprows=1,\n",
    "                    unpack=True)"
   ]
  },
  {
   "cell_type": "raw",
   "metadata": {},
   "source": [
    "# Your data in the text file\n",
    "# Value1  Value2  Value3\n",
    "# 0.4839  0.4536  0.3561\n",
    "# 0.1292  0.6875  MISSING\n",
    "# 0.1781  0.3049  0.8928\n",
    "# MISSING 0.5801  0.2038\n",
    "# 0.5993  0.4357  0.7410\n",
    "\n",
    "my_array2 = np.genfromtxt('data2.txt',\n",
    "                      skip_header=1,\n",
    "                      filling_values=-999)\n",
    "#this function has a lot of options that you can investigate."
   ]
  },
  {
   "cell_type": "raw",
   "metadata": {},
   "source": [
    "To save NumPy Arrays we can do the following\n",
    "\n",
    "import numpy as np\n",
    "x = np.arange(0.0,5.0,1.0)\n",
    "np.savetxt('test.out', x, delimiter=',')"
   ]
  },
  {
   "cell_type": "code",
   "execution_count": 71,
   "metadata": {
    "collapsed": false
   },
   "outputs": [
    {
     "name": "stdout",
     "output_type": "stream",
     "text": [
      "7\n",
      "21\n",
      "2\n",
      "3\n"
     ]
    }
   ],
   "source": [
    "A = np.full((7,3),3.0)\n",
    "print(len(A))\n",
    "print( A.size)\n",
    "print(A.ndim)\n",
    "Y = np.transpose(A)\n",
    "print(len(Y))"
   ]
  },
  {
   "cell_type": "code",
   "execution_count": 79,
   "metadata": {
    "collapsed": false
   },
   "outputs": [
    {
     "data": {
      "text/plain": [
       "array([[ 1.03078293,  1.49809096,  1.31425875,  1.27278119],\n",
       "       [ 1.03078293,  1.49809096,  1.31425875,  1.27278119],\n",
       "       [ 1.03078293,  1.49809096,  1.31425875,  1.27278119],\n",
       "       [ 1.03078293,  1.49809096,  1.31425875,  1.27278119],\n",
       "       [ 1.03078293,  1.49809096,  1.31425875,  1.27278119],\n",
       "       [ 1.03078293,  1.49809096,  1.31425875,  1.27278119]])"
      ]
     },
     "execution_count": 79,
     "metadata": {},
     "output_type": "execute_result"
    }
   ],
   "source": [
    "x = np.ones((6,4))\n",
    "\n",
    "y = np.random.random((1,4))\n",
    "z = x+y\n",
    "z"
   ]
  },
  {
   "cell_type": "code",
   "execution_count": null,
   "metadata": {
    "collapsed": true
   },
   "outputs": [],
   "source": []
  }
 ],
 "metadata": {
  "kernelspec": {
   "display_name": "Python 2",
   "language": "python",
   "name": "python2"
  },
  "language_info": {
   "codemirror_mode": {
    "name": "ipython",
    "version": 2
   },
   "file_extension": ".py",
   "mimetype": "text/x-python",
   "name": "python",
   "nbconvert_exporter": "python",
   "pygments_lexer": "ipython2",
   "version": "2.7.13"
  }
 },
 "nbformat": 4,
 "nbformat_minor": 0
}
