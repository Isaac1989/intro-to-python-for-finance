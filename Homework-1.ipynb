{
 "cells": [
  {
   "cell_type": "markdown",
   "metadata": {},
   "source": [
    "### Problem 1\n",
    "\n",
    "1. Which python built-in data types mutable?\n",
    "2. Which python built-in data types are immutables?\n",
    "3. consider `var1 = (1,2,3)` and `var2 = [1,2,3]`\n",
    "   is `var1[0] = 2` valid? how about `var2[0] = 2`?\n",
    "   which of the above variables are mutable?\n",
    "4. create the following variables:\n",
    "   - `a = 52`\n",
    "   - `b = 6.25`\n",
    "   - `c = 'string'`\n",
    "   -  convert `a` to a type string and then to type float\n",
    "   -  convert `b` to string. Can the result be convert to integer? why or why not?\n",
    "   -  how can we concatenate `a` and `c`? Now combinte `a` and `c` into one string\n",
    "   "
   ]
  },
  {
   "cell_type": "code",
   "execution_count": null,
   "metadata": {
    "collapsed": true
   },
   "outputs": [],
   "source": []
  },
  {
   "cell_type": "markdown",
   "metadata": {},
   "source": [
    "### Problem 2\n",
    "\n",
    "par = \"\"\"\n",
    "Little bunny Foo Foo %%\n",
    "Went hopping through the forest\n",
    "Scooping up the field mice #\n",
    "And bopping them on the head\n",
    "Down came the Good Fairy, and she said\n",
    "\"Little bunny Foo Foo\n",
    "I don't want to ? see you\n",
    "Scooping up the field mice\n",
    "And bopping them on the head.\"\n",
    "I'll give you @ three chances,\n",
    "And if you don't behave, I will turn you into a goon!\"\n",
    "And the next day $\n",
    "\"\"\"\n",
    "\n",
    "In this excercise, we are going to try to clean the string.\n",
    "\n",
    "1.  Using the methods `strip` and `split`, break paragraph `par` into a list of lines [Hint: sep = \"\\n' or '\\r\\n' or '\\r' for unix and windows operating systems respectively]\n",
    "\n",
    "2.  Remove any odd characters puctuations: %%, #, ? ,@ ,$`\n",
    "    Hint: you may wanto to look into `replace`\n",
    "    \n",
    "3.  Complete the sam task by using string slicing technique"
   ]
  },
  {
   "cell_type": "code",
   "execution_count": null,
   "metadata": {
    "collapsed": true
   },
   "outputs": [],
   "source": []
  },
  {
   "cell_type": "markdown",
   "metadata": {},
   "source": [
    "### Problem 3\n",
    "\n",
    "1. invoke `help` on  `range`\n",
    "2. Create a list of integers starting from 0 to 100 with step of 2\n",
    "3. Reverse the list inplace.\n",
    "4. assign your reversed list to variable `my_var`and run the code below\n",
    "```\n",
    "for i,num in enuerate(my_var):\n",
    "    my_var[i] = str(num)\n",
    "```\n",
    "\n",
    "5. Combine the strings in my `my_var` into one giant string. [hint: use `join`]\n",
    "6. Convert the above result into a number\n",
    "7. What is the difference bet `xrange` and `range`? How is `xrange` useful?\n",
    "  "
   ]
  },
  {
   "cell_type": "code",
   "execution_count": null,
   "metadata": {
    "collapsed": true
   },
   "outputs": [],
   "source": []
  },
  {
   "cell_type": "markdown",
   "metadata": {},
   "source": [
    "### Problem 4\n",
    "\n",
    "```python\n",
    "\n",
    "months = {\n",
    "1 : \"Jan\",\n",
    "2 : \"Feb\",\n",
    "3 : \"Mar\",\n",
    "4 : \"Apr\",\n",
    "5 : \"May\",\n",
    "6 : \"June\",\n",
    "7 : \"July\",\n",
    "8 : \"Aug\",\n",
    "9 : \"Sep\",\n",
    "10: \"Oct\",\n",
    "11: \"Nov\",\n",
    "12: \"Dec\"\n",
    "}\n",
    "\n",
    "month_day= range(1,31)\n",
    "\n",
    "year = 2017```\n",
    "\n",
    "1. Convert the abbreviation months into full words. The results should look like months = {1: \"January\"...,12:\"Decmeber\"}. use the keys of the dictionary.\n",
    "2. Create the following date using the above data:\n",
    "   * \"2017, Dec 10\"\n",
    "   * \"2017, Feb 31\"\n",
    "   * \"2017, Jan 25\"\n",
    "   * \"2017, Oct 12\"\n",
    "   * \"2017, Mar 11\"\n",
    "   \n",
    "\n",
    "   "
   ]
  },
  {
   "cell_type": "code",
   "execution_count": null,
   "metadata": {
    "collapsed": true
   },
   "outputs": [],
   "source": []
  },
  {
   "cell_type": "markdown",
   "metadata": {
    "collapsed": true
   },
   "source": [
    "### Problem 5\n",
    "Let the user  define an input radius value. Then you have to compute  the calculation of circumference and area of the circle with this radius. At last, you have to use two print statement to output your calculation result (please round the results to two decimal points).\n",
    "\n",
    "Hint 1: You can change a variable mn to float type by: float(mn). You can change a variable mn to string type by: str(mn)\n",
    "\n",
    "Hint 2: You can use round function to round your result.\n",
    "\n",
    "Hint 3: Pi is stored in math package."
   ]
  },
  {
   "cell_type": "code",
   "execution_count": null,
   "metadata": {
    "collapsed": true
   },
   "outputs": [],
   "source": []
  },
  {
   "cell_type": "markdown",
   "metadata": {
    "collapsed": true
   },
   "source": [
    "### Problem 6\n",
    "\n",
    "#### User Input with `raw_input()` \n",
    "\n",
    "1. Create a small script to use raw_input() built-in function to take a string input\n",
    "from the user, then display to the user what he/she just typed in.\n",
    "\n",
    "2. Add another piece of similar code, but have the input be numeric. Convert the\n",
    "value to a number (using either int() or any of the other numeric conversion\n",
    "functions), and display the value back to the user."
   ]
  },
  {
   "cell_type": "code",
   "execution_count": null,
   "metadata": {
    "collapsed": true
   },
   "outputs": [],
   "source": []
  },
  {
   "cell_type": "markdown",
   "metadata": {},
   "source": [
    "### Problem 7\n",
    "\n",
    "1. Are there any string methods or functions in the string module that will help\n",
    "me determine if a string is part of a larger string?\n",
    "\n",
    "2. Enter a list of numbers and sort the values in largest-to-smallest order.\n",
    "\n",
    "3. Do the same thing, but for strings and in reverse alphabetical (largest-to-\n",
    "smallest lexicographic) order.\n",
    "\n",
    "4. Determine if two strings match\n",
    "    1. without using comparison operators \n",
    "    2. or the `cmp()` built-in function by scanning each string\n",
    "    \n"
   ]
  },
  {
   "cell_type": "code",
   "execution_count": null,
   "metadata": {
    "collapsed": true
   },
   "outputs": [],
   "source": []
  },
  {
   "cell_type": "markdown",
   "metadata": {},
   "source": [
    "### Problem 8\n",
    "\n",
    "Create a simple name and employee number dictionary application.\n",
    "Have the user enter a name and an employee number. Your interface should\n",
    "allow a sorted output (sorted by name) that displays employee names followed by\n",
    "their employee numbers. Extra credit: Come up with an additional feature that allows\n",
    "for output to be sorted by employee numbers..\n",
    "\n",
    "\n",
    "```python\n",
    ">>>#Use case\n",
    ">>> Enter Employee name: Isaac\n",
    ">>> Enter Employee id: 234\n",
    ">>> Enter Employee name: Isaac\n",
    "Isaac already exit\n",
    ">>> Enter Employee name: Sarah\n",
    ">>> Enter Employee id: 223\n",
    ">>> Enter Employee name: done\n",
    "Isaac: 234\n",
    "Sarah: 223\n",
    "```\n"
   ]
  },
  {
   "cell_type": "code",
   "execution_count": null,
   "metadata": {},
   "outputs": [],
   "source": []
  },
  {
   "cell_type": "code",
   "execution_count": null,
   "metadata": {},
   "outputs": [],
   "source": [
    "database = {}\n",
    "done = False\n",
    "while not done:\n",
    "    name = raw_input('Enter Employee name: ')\n",
    "    \n",
    "    if name in database:\n",
    "        print name + ' already exits'\n",
    "        \n",
    "    elif name == 'done':\n",
    "        done = True\n",
    "    else:\n",
    "        idx = raw_input('Enter Employee id: ')\n",
    "        database[name] = idx\n",
    "        \n",
    "template = '{record[0]}: {record[1]}'\n",
    "out = ''\n",
    "names = database.keys()\n",
    "sorted_names = sorted(names)\n",
    "for name in sorted_names:\n",
    "    out = out + template.format(record = (name, database[name])) + '\\n'\n",
    "    \n",
    "print out\n",
    "\n"
   ]
  },
  {
   "cell_type": "code",
   "execution_count": null,
   "metadata": {
    "collapsed": true
   },
   "outputs": [],
   "source": []
  }
 ],
 "metadata": {
  "kernelspec": {
   "display_name": "Python 2",
   "language": "python",
   "name": "python2"
  },
  "language_info": {
   "codemirror_mode": {
    "name": "ipython",
    "version": 2
   },
   "file_extension": ".py",
   "mimetype": "text/x-python",
   "name": "python",
   "nbconvert_exporter": "python",
   "pygments_lexer": "ipython2",
   "version": "2.7.13"
  }
 },
 "nbformat": 4,
 "nbformat_minor": 2
}
