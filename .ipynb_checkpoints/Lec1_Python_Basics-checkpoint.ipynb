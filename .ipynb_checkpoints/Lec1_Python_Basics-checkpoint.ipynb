{
 "cells": [
  {
   "cell_type": "code",
   "execution_count": 2,
   "metadata": {
    "collapsed": true,
    "slideshow": {
     "slide_type": "skip"
    }
   },
   "outputs": [],
   "source": [
    "%matplotlib notebook"
   ]
  },
  {
   "cell_type": "code",
   "execution_count": null,
   "metadata": {
    "collapsed": false,
    "slideshow": {
     "slide_type": "skip"
    }
   },
   "outputs": [],
   "source": [
    "import matplotlib.pyplot as plt\n",
    "import pandas as pd\n"
   ]
  },
  {
   "cell_type": "code",
   "execution_count": 2,
   "metadata": {
    "collapsed": true,
    "slideshow": {
     "slide_type": "skip"
    }
   },
   "outputs": [],
   "source": [
    "plt.style.use('ggplot')"
   ]
  },
  {
   "cell_type": "code",
   "execution_count": 3,
   "metadata": {
    "collapsed": true,
    "slideshow": {
     "slide_type": "skip"
    }
   },
   "outputs": [],
   "source": [
    "from IPython.display import Image, HTML"
   ]
  },
  {
   "cell_type": "markdown",
   "metadata": {
    "slideshow": {
     "slide_type": "slide"
    }
   },
   "source": [
    "# Introduction to Scientific Programming in Python\n",
    "\n",
    "## Lecture 1"
   ]
  },
  {
   "cell_type": "markdown",
   "metadata": {
    "slideshow": {
     "slide_type": "subslide"
    }
   },
   "source": [
    "## Course Plan\n",
    "  1.  Core Python Basics\n",
    "  2.  Data Types\n",
    "      * integer\n",
    "      * strings\n",
    "      * Booleans\n",
    "      * complex (we may not talk about it in this class)\n",
    "      * bytes (we won't talk about them in this class)\n",
    "  3.  working with  Integers, Floats, Booleans, Strings\n",
    "  4.  Data Structures\n",
    "      * list\n",
    "      * dictionary\n",
    "      * set\n",
    "      * tuple\n",
    "  5.  Working with Lists \n",
    "  \n",
    "  6. Solving problems \n",
    "  \n",
    "  \n",
    " \n",
    "  \n"
   ]
  },
  {
   "cell_type": "markdown",
   "metadata": {
    "slideshow": {
     "slide_type": "slide"
    }
   },
   "source": [
    "## What is Python?\n"
   ]
  },
  {
   "cell_type": "markdown",
   "metadata": {
    "slideshow": {
     "slide_type": "fragment"
    }
   },
   "source": [
    "Python is a High-level, General-Purpose Scripting Language that is capable of a wide range \n",
    "of task in the various fields and technical domains.\n",
    "\n",
    "## Features of the python\n",
    "- **Open source** : \n",
    "     Python and the majority of supporting libraries and tools available are open source and generally come              \n",
    "     with quite flexible and open licenses.\n",
    "     \n",
    "     \n",
    "- **Interpreted**:\n",
    "    The reference CPython implementation is an interpreter of the language that translates Python code at runtime       to executable byte code.\n",
    "\n",
    "- **Multiparadigm**:\n",
    "   Python supports different programming and implementation paradigms, such as object orientation and imperative,      functional, or procedural programming.\n",
    "\n",
    "- **Multipurpose**:\n",
    "   Python can be used for rapid, interactive code development as well as for building large applications; it can be    used for low-level systems operations as well as for high-level analytics tasks.\n",
    "\n",
    "- **Cross-platform**:\n",
    "    Python is available for the most important operating systems, such as Windows, Linux, and Mac OS; it is used       to build desktop as well as web applications; it can be used on the largest clusters and most powerful             servers as well as on such small devices \n",
    "\n",
    "- **Dynamically typed**:\n",
    "     Types in Python are in general inferred during runtime and not statically declared as in most compiled              languages.\n",
    "\n",
    "- **Indentation aware**:\n",
    "    In contrast to the majority of other programming languages, Python uses indentation for marking code blocks         instead of parentheses, brackets, or semicolons.\n",
    "    \n",
    "- **Garbage collecting**:\n",
    "     Python has automated garbage collection, avoiding the need for the programmer to manage memory.\n",
    "\n",
    "\n"
   ]
  },
  {
   "cell_type": "markdown",
   "metadata": {
    "collapsed": false,
    "slideshow": {
     "slide_type": "fragment"
    }
   },
   "source": [
    "## Scientific Ecosystem\n",
    "* Numpy\n",
    "* Scipy\n",
    "* Pandas\n",
    "* matplotlib\n",
    "* Ipython \n",
    "* sympy\n"
   ]
  },
  {
   "cell_type": "markdown",
   "metadata": {},
   "source": [
    "## Getting help\n",
    "\n",
    "* To get find out what an object in python does use `help` eg help(list). This would pull up documentation on the object in question.\n",
    "* Other times the documentation may be to technical and not too helpful. In that case, use _GOOGLE_. Stackoverflow is your best friend when you google.\n",
    "\n"
   ]
  },
  {
   "cell_type": "code",
   "execution_count": 4,
   "metadata": {
    "collapsed": false,
    "slideshow": {
     "slide_type": "fragment"
    }
   },
   "outputs": [
    {
     "data": {
      "text/html": [
       "<img src=\"https://upload.wikimedia.org/wikipedia/commons/thumb/c/c3/Python-logo-notext.svg/1024px-Python-logo-notext.svg.png\" width=\"200\"/>"
      ],
      "text/plain": [
       "<IPython.core.display.Image object>"
      ]
     },
     "execution_count": 4,
     "metadata": {},
     "output_type": "execute_result"
    }
   ],
   "source": [
    "Image(url='https://upload.wikimedia.org/wikipedia/commons/thumb/c/c3/Python-logo-notext.svg/1024px-Python-logo-notext.svg.png',\n",
    "     width=200)"
   ]
  },
  {
   "cell_type": "markdown",
   "metadata": {
    "slideshow": {
     "slide_type": "slide"
    }
   },
   "source": [
    "# Python Variables and Variable Types"
   ]
  },
  {
   "cell_type": "code",
   "execution_count": 8,
   "metadata": {
    "collapsed": false,
    "slideshow": {
     "slide_type": "fragment"
    }
   },
   "outputs": [
    {
     "name": "stdout",
     "output_type": "stream",
     "text": [
      "  x is type   int\n"
     ]
    }
   ],
   "source": [
    "x= 20\n",
    "print \" x is type  \", x.__class__.__name__\n"
   ]
  },
  {
   "cell_type": "code",
   "execution_count": null,
   "metadata": {
    "collapsed": true,
    "slideshow": {
     "slide_type": "slide"
    }
   },
   "outputs": [],
   "source": [
    "- Lets look at Floats, Booleans and Strings"
   ]
  },
  {
   "cell_type": "code",
   "execution_count": 13,
   "metadata": {
    "collapsed": false,
    "slideshow": {
     "slide_type": "fragment"
    }
   },
   "outputs": [
    {
     "name": "stdout",
     "output_type": "stream",
     "text": [
      "y= 2.5\n",
      " y is type float\n",
      " a_bool True\n",
      "a_bool is type bool\n",
      "a_str= hello\n",
      " a_str is type str\n"
     ]
    }
   ],
   "source": [
    "y = 2.5\n",
    "a_bool = True\n",
    "a_str = 'hello'\n",
    "print \"y=\", y \n",
    "print \" y is type\",y.__class__.__name__\n",
    "print \" a_bool\", a_bool\n",
    "print \"a_bool is type\",a_bool.__class__.__name__\n",
    "print \"a_str=\", a_str \n",
    "print \" a_str is type\",a_str.__class__.__name__\n"
   ]
  },
  {
   "cell_type": "markdown",
   "metadata": {
    "slideshow": {
     "slide_type": "slide"
    }
   },
   "source": [
    "## Operators (ex: +, -, /, * ) Do Different Things to Different Types"
   ]
  },
  {
   "cell_type": "markdown",
   "metadata": {
    "collapsed": true,
    "slideshow": {
     "slide_type": "fragment"
    }
   },
   "source": [
    "#### Operating on Integers \n",
    "Integer constructor:  `int`"
   ]
  },
  {
   "cell_type": "code",
   "execution_count": null,
   "metadata": {
    "collapsed": false,
    "slideshow": {
     "slide_type": "fragment"
    }
   },
   "outputs": [],
   "source": [
    "# Addition\n",
    "3 + 5"
   ]
  },
  {
   "cell_type": "code",
   "execution_count": 33,
   "metadata": {
    "collapsed": false
   },
   "outputs": [],
   "source": [
    "# this is just a utility function to print. I am trying to avoid code repetitions \n",
    "from string import ascii_letters\n",
    "\n",
    "letters = list(ascii_letters)\n",
    "def print_variable(*args):\n",
    "    out = \"\"\n",
    "    for index,val in enumerate(args):\n",
    "        out += letters[index] + \"= \" + str(val) + \"\\n\"\n",
    "    print(out)"
   ]
  },
  {
   "cell_type": "code",
   "execution_count": 38,
   "metadata": {
    "collapsed": false,
    "slideshow": {
     "slide_type": "slide"
    }
   },
   "outputs": [
    {
     "name": "stdout",
     "output_type": "stream",
     "text": [
      "a= 10\n",
      "b= 7\n",
      "c= 17\n",
      "d= 70\n",
      "e= 1\n",
      "f= 49\n",
      "\n"
     ]
    }
   ],
   "source": [
    "a = 10\n",
    "b = 7\n",
    "c = a + b\n",
    "d = a*b\n",
    "e = a/b  \n",
    "f = b**2  # Note it is not b^2\n",
    "print_variable(a,b,c,d,e,f)"
   ]
  },
  {
   "cell_type": "markdown",
   "metadata": {
    "collapsed": false,
    "slideshow": {
     "slide_type": "fragment"
    }
   },
   "source": [
    "- So  in Python 2, dividing an integer by an integer leads to an integer. Beware.\n",
    "- This is not the case in Python 3\n"
   ]
  },
  {
   "cell_type": "code",
   "execution_count": 34,
   "metadata": {
    "collapsed": false,
    "slideshow": {
     "slide_type": "fragment"
    }
   },
   "outputs": [
    {
     "name": "stdout",
     "output_type": "stream",
     "text": [
      "a= 10.0\n",
      "b= 7.0\n",
      "c= 17.0\n",
      "d= 70.0\n",
      "e= 1.42857142857\n",
      "\n",
      "a= 10.0\n",
      "b= 7.0\n",
      "c= 17.0\n",
      "d= 70.0\n",
      "e= 1.43\n",
      "\n"
     ]
    }
   ],
   "source": [
    "# What if the variables are floats\n",
    "a= 10.0\n",
    "b = 7.0\n",
    "c = a+ b\n",
    "d = a*b\n",
    "e = a/b\n",
    "print_variable(a,b,c,d,e)\n",
    "print_variable(a,b,c,d,round(e,2))"
   ]
  },
  {
   "cell_type": "code",
   "execution_count": 36,
   "metadata": {
    "collapsed": false,
    "slideshow": {
     "slide_type": "slide"
    }
   },
   "outputs": [
    {
     "name": "stdout",
     "output_type": "stream",
     "text": [
      "a= Hello\n",
      "b= Goodbye\n",
      "c= HelloGoodbye\n",
      "d= HelloHelloHelloHelloHello\n",
      "\n"
     ]
    }
   ],
   "source": [
    "# What if the variables are strings \n",
    "# You can add strings and multiply strings \n",
    "a = 'Hello'\n",
    "b = \"Goodbye\"\n",
    "c = a + b\n",
    "d = a*5\n",
    "\n",
    "print_variable(a,b,c,d)"
   ]
  },
  {
   "cell_type": "code",
   "execution_count": 43,
   "metadata": {
    "collapsed": false,
    "slideshow": {
     "slide_type": "fragment"
    }
   },
   "outputs": [
    {
     "name": "stdout",
     "output_type": "stream",
     "text": [
      "Hello Bob\n"
     ]
    }
   ],
   "source": [
    "greetings = 'Hello'\n",
    "name = 'Bob'\n",
    "message = greetings + \" \" + name\n",
    "print message"
   ]
  },
  {
   "cell_type": "markdown",
   "metadata": {
    "slideshow": {
     "slide_type": "slide"
    }
   },
   "source": [
    "## Assignment with Operators"
   ]
  },
  {
   "cell_type": "code",
   "execution_count": 37,
   "metadata": {
    "collapsed": false,
    "slideshow": {
     "slide_type": "fragment"
    }
   },
   "outputs": [
    {
     "data": {
      "text/plain": [
       "7"
      ]
     },
     "execution_count": 37,
     "metadata": {},
     "output_type": "execute_result"
    }
   ],
   "source": [
    "a = 5\n",
    "a = a + 2\n",
    "a"
   ]
  },
  {
   "cell_type": "markdown",
   "metadata": {
    "slideshow": {
     "slide_type": "slide"
    }
   },
   "source": [
    "### Boolean Operations: "
   ]
  },
  {
   "cell_type": "code",
   "execution_count": 44,
   "metadata": {
    "collapsed": false,
    "slideshow": {
     "slide_type": "fragment"
    }
   },
   "outputs": [
    {
     "name": "stdout",
     "output_type": "stream",
     "text": [
      "True\n",
      "True\n",
      "True\n"
     ]
    }
   ],
   "source": [
    "# Boolean Rules: 0 and Empty are False, all else are True\n",
    "\n",
    "print bool(3)\n",
    "print bool(-4.2)\n",
    "print bool(\"A\")"
   ]
  },
  {
   "cell_type": "code",
   "execution_count": 48,
   "metadata": {
    "collapsed": false,
    "slideshow": {
     "slide_type": "fragment"
    }
   },
   "outputs": [
    {
     "name": "stdout",
     "output_type": "stream",
     "text": [
      "False\n",
      "False\n",
      "False\n",
      "False\n",
      "False\n",
      "False\n",
      "False\n"
     ]
    }
   ],
   "source": [
    "# Boolean Rules: 0 and Empty are False, all else are True\n",
    "\n",
    "\n",
    "print bool(0)      \n",
    "print bool(0.0)\n",
    "print bool('')\n",
    "print bool([])     #empty list\n",
    "print bool(())     #empty tuple\n",
    "print bool({})     #empty dictionary\n",
    "print bool(set())  #empty set"
   ]
  },
  {
   "cell_type": "markdown",
   "metadata": {},
   "source": [
    "### Boolean operators and comparisons\n",
    "1. Boolean operators\n",
    "    * `and`, `&`\n",
    "    * `or`, `|`\n",
    "    * `xor`\n",
    "    * `not`, `!`\n",
    "    \n",
    "2. Comparisons\n",
    "    * `==`    \n",
    "    * `!=`    \n",
    "    * `<`     \n",
    "    * `<=`    \n",
    "    * `>=`    \n",
    "    \n",
    "Note: the comparison give boolean objects and the boolean operators are relation between booleans"
   ]
  },
  {
   "cell_type": "code",
   "execution_count": 49,
   "metadata": {
    "collapsed": false,
    "slideshow": {
     "slide_type": "slide"
    }
   },
   "outputs": [
    {
     "data": {
      "text/plain": [
       "True"
      ]
     },
     "execution_count": 49,
     "metadata": {},
     "output_type": "execute_result"
    }
   ],
   "source": [
    "x = 1\n",
    "y = 'hello'\n",
    "x == 1 or y == 'hi' # x is exactly 1 or y is 'hi'"
   ]
  },
  {
   "cell_type": "code",
   "execution_count": 50,
   "metadata": {
    "collapsed": false,
    "slideshow": {
     "slide_type": "fragment"
    }
   },
   "outputs": [
    {
     "data": {
      "text/plain": [
       "False"
      ]
     },
     "execution_count": 50,
     "metadata": {},
     "output_type": "execute_result"
    }
   ],
   "source": [
    "# Boolean Operations\n",
    "\n",
    "h = \"hello\"\n",
    "H = \"Hello\"\n",
    "h == H # check for equality"
   ]
  },
  {
   "cell_type": "code",
   "execution_count": 51,
   "metadata": {
    "collapsed": false,
    "slideshow": {
     "slide_type": "fragment"
    }
   },
   "outputs": [
    {
     "data": {
      "text/plain": [
       "True"
      ]
     },
     "execution_count": 51,
     "metadata": {},
     "output_type": "execute_result"
    }
   ],
   "source": [
    "# Boolean Operations\n",
    "\n",
    "h = \"hello\"\n",
    "H = \"Hello\"\n",
    "h != H # check for inequality"
   ]
  },
  {
   "cell_type": "code",
   "execution_count": null,
   "metadata": {
    "collapsed": false,
    "slideshow": {
     "slide_type": "subslide"
    }
   },
   "outputs": [],
   "source": [
    "# Boolean Operations\n",
    "\n",
    "x = 1\n",
    "y = 'hello'\n",
    "x==1 or y == 'hi' # x is exactly 1 or y is 'hi'"
   ]
  },
  {
   "cell_type": "code",
   "execution_count": 52,
   "metadata": {
    "collapsed": false,
    "slideshow": {
     "slide_type": "fragment"
    }
   },
   "outputs": [
    {
     "data": {
      "text/plain": [
       "True"
      ]
     },
     "execution_count": 52,
     "metadata": {},
     "output_type": "execute_result"
    }
   ],
   "source": [
    "# Boolean Operations\n",
    "\n",
    "result = 4<5\n",
    "result"
   ]
  },
  {
   "cell_type": "code",
   "execution_count": null,
   "metadata": {
    "collapsed": false,
    "slideshow": {
     "slide_type": "fragment"
    }
   },
   "outputs": [],
   "source": [
    "# Boolean Operations\n",
    "\n",
    "x = False\n",
    "y = 10\n",
    "z = x and ( 8<y<12)\n",
    "\n",
    "print(\"z is \", z)\n",
    "\n",
    "result2 = not(5>1)\n",
    "print 'result2 is',  result2"
   ]
  },
  {
   "cell_type": "code",
   "execution_count": null,
   "metadata": {
    "collapsed": false,
    "slideshow": {
     "slide_type": "slide"
    }
   },
   "outputs": [],
   "source": [
    "## Some non standard ways of doing things\n",
    "\n",
    "\n",
    "x = 7\n",
    "y = 3\n",
    "# Now we want to change x\n",
    "x = x+y\n",
    "x\n"
   ]
  },
  {
   "cell_type": "code",
   "execution_count": null,
   "metadata": {
    "collapsed": false,
    "slideshow": {
     "slide_type": "fragment"
    }
   },
   "outputs": [],
   "source": [
    "# Another way of doing the same thing\n",
    "\n",
    "x = 2\n",
    "y = 3\n",
    "x +=y\n",
    "x"
   ]
  },
  {
   "cell_type": "code",
   "execution_count": null,
   "metadata": {
    "collapsed": false,
    "slideshow": {
     "slide_type": "fragment"
    }
   },
   "outputs": [],
   "source": [
    "## Some non standard ways of doing things\n",
    "\n",
    "x = 2\n",
    "y = 3\n",
    "x *=y\n",
    "x"
   ]
  },
  {
   "cell_type": "code",
   "execution_count": null,
   "metadata": {
    "collapsed": false,
    "slideshow": {
     "slide_type": "slide"
    }
   },
   "outputs": [],
   "source": [
    "## Some non standard ways of doing things with strings \n",
    "\n",
    "x = 'py'\n",
    "x+='thon'\n",
    "y = z = 'py'\n",
    "x +=y+z\n",
    "x *=2\n",
    "x"
   ]
  },
  {
   "cell_type": "code",
   "execution_count": null,
   "metadata": {
    "collapsed": false,
    "slideshow": {
     "slide_type": "slide"
    }
   },
   "outputs": [],
   "source": [
    "y = '2'\n",
    "x = 'Hello'\n",
    "z = x+y\n",
    "z\n",
    "\n",
    "# what would happen if 2 was an integer\n",
    "# cannot concatenate 'str' and 'int' objects\n",
    "\n",
    "\n"
   ]
  },
  {
   "cell_type": "markdown",
   "metadata": {
    "slideshow": {
     "slide_type": "slide"
    }
   },
   "source": [
    "## Python is a \"Dynamically Typed\" Language\n",
    "\n",
    "  - This means that you can change the type of a variable at any time you wish.\n",
    "  "
   ]
  },
  {
   "cell_type": "markdown",
   "metadata": {
    "slideshow": {
     "slide_type": "slide"
    }
   },
   "source": [
    "##  Essential String Methods\n",
    "string constructor is `str`. Do NOT use constructor or any python statement object as a variable name\n",
    "\n",
    "a = Hello\n",
    "b = Python\n",
    "\n",
    "\n",
    "\n",
    "- a+ b will give HelloPython\n",
    "- a[1] will give e\n",
    "- a[1:4] will give ell\n",
    "- H in a will give True \n",
    "\n",
    "\n"
   ]
  },
  {
   "cell_type": "markdown",
   "metadata": {
    "slideshow": {
     "slide_type": "fragment"
    }
   },
   "source": [
    "### Some built in methods include \n",
    "\n",
    "-capitalize()   which capitaizes the first letter of string\n",
    "\n",
    "-count(str, beg=0, end= len(string)) counts how many times str occurs in string  or in a substring of string\n",
    "\n",
    "-find(str, beg = 0 end = len(string)) Determine if str occurs in string or in a substring of string\n",
    "\n"
   ]
  },
  {
   "cell_type": "code",
   "execution_count": 56,
   "metadata": {
    "collapsed": false,
    "slideshow": {
     "slide_type": "slide"
    }
   },
   "outputs": [
    {
     "name": "stdout",
     "output_type": "stream",
     "text": [
      "Little lolla had a large lamb called lucy\n",
      "8\n",
      "7\n"
     ]
    },
    {
     "data": {
      "text/plain": [
       "'Ben Hur'"
      ]
     },
     "execution_count": 56,
     "metadata": {},
     "output_type": "execute_result"
    }
   ],
   "source": [
    "str_ = 'little Lolla had a large lamb called Lucy'\n",
    "# capitalize(string) will not work since it is not a function \n",
    "\n",
    "\n",
    "print str_.capitalize()\n",
    "\n",
    "print str_.count('l')\n",
    "\n",
    "print str_.find('Lolla')  # return the index of where \"Lolla\" begins in the string\n",
    "\n",
    "# All Python objects are Objects which means they have Properties/Attributes (data) and methods associated with them\n",
    "#  Below we define a string called 'Ben Hur'. Associated with this string is a title() method that capitalizes the words.\n",
    "\n",
    "film = 'ben hur'\n",
    "Bfilm = film.title()\n",
    "Bfilm"
   ]
  },
  {
   "cell_type": "code",
   "execution_count": 57,
   "metadata": {
    "collapsed": false,
    "slideshow": {
     "slide_type": "fragment"
    }
   },
   "outputs": [
    {
     "data": {
      "text/plain": [
       "'MARY HAD A LITTLE LAMB NAMED SUE.'"
      ]
     },
     "execution_count": 57,
     "metadata": {},
     "output_type": "execute_result"
    }
   ],
   "source": [
    "example_string = 'Mary had a little lamb named Sue.'\n",
    "big_string = example_string.upper()\n",
    "big_string"
   ]
  },
  {
   "cell_type": "code",
   "execution_count": 58,
   "metadata": {
    "collapsed": false,
    "slideshow": {
     "slide_type": "fragment"
    }
   },
   "outputs": [
    {
     "name": "stdout",
     "output_type": "stream",
     "text": [
      "Hello world!\n",
      "12\n"
     ]
    }
   ],
   "source": [
    "my_string = \"Hello world!\"\n",
    "print my_string\n",
    "\n",
    "print len(my_string)"
   ]
  },
  {
   "cell_type": "code",
   "execution_count": 59,
   "metadata": {
    "collapsed": false,
    "slideshow": {
     "slide_type": "fragment"
    }
   },
   "outputs": [
    {
     "name": "stdout",
     "output_type": "stream",
     "text": [
      "8\n"
     ]
    }
   ],
   "source": [
    "print(my_string.index(\"r\")) # what location number is the first occurrence of the letter \"r\""
   ]
  },
  {
   "cell_type": "code",
   "execution_count": 61,
   "metadata": {
    "collapsed": false
   },
   "outputs": [
    {
     "data": {
      "text/plain": [
       "'Goodbye world, Goodbye USA, hello Cleveland '"
      ]
     },
     "execution_count": 61,
     "metadata": {},
     "output_type": "execute_result"
    }
   ],
   "source": [
    "my_string ='Hello world, Hello USA, hello Cleveland '\n",
    "y = my_string.replace('Hello', 'Goodbye')\n",
    "y"
   ]
  },
  {
   "cell_type": "code",
   "execution_count": 62,
   "metadata": {
    "collapsed": false,
    "slideshow": {
     "slide_type": "fragment"
    }
   },
   "outputs": [
    {
     "data": {
      "text/plain": [
       "6"
      ]
     },
     "execution_count": 62,
     "metadata": {},
     "output_type": "execute_result"
    }
   ],
   "source": [
    "example_string.find('a',3)"
   ]
  },
  {
   "cell_type": "code",
   "execution_count": 64,
   "metadata": {
    "collapsed": false,
    "slideshow": {
     "slide_type": "fragment"
    }
   },
   "outputs": [
    {
     "name": "stdout",
     "output_type": "stream",
     "text": [
      "llo w\n"
     ]
    }
   ],
   "source": [
    "#string subsetting\n",
    "\n",
    "my_string = \"Hello world!\"\n",
    "print(my_string[2:7])"
   ]
  },
  {
   "cell_type": "markdown",
   "metadata": {
    "slideshow": {
     "slide_type": "slide"
    }
   },
   "source": [
    "- So we have learnt that there are several operations that we can run on strings\n",
    "- Lets have a final example\n"
   ]
  },
  {
   "cell_type": "code",
   "execution_count": 67,
   "metadata": {
    "collapsed": false,
    "slideshow": {
     "slide_type": "fragment"
    }
   },
   "outputs": [
    {
     "name": "stdout",
     "output_type": "stream",
     "text": [
      "Length of s= 20\n",
      "The first occurrence of the letter a =  8\n",
      "number of a's 2\n",
      "The first five characters are Strin\n",
      "The next five characters are gs ar\n",
      "The thirteenth character is a\n"
     ]
    }
   ],
   "source": [
    "s = \"Strings are awesome!\"\n",
    "# Length should be 20\n",
    "print \"Length of s=\", len(s)\n",
    "\n",
    "# First occurrence of \"a\" should be at index 8\n",
    "print \"The first occurrence of the letter a = \",s.index(\"a\")\n",
    "\n",
    "# Number of a's should be 2\n",
    "print \"number of a's\",  s.count(\"a\")\n",
    "\n",
    "# Slicing the string into bits\n",
    "print \"The first five characters are\", s[:5] # Start to 5\n",
    "print \"The next five characters are\", s[5:10] # 5 to 10\n",
    "print \"The thirteenth character is\", s[12] # Just number 12"
   ]
  },
  {
   "cell_type": "code",
   "execution_count": 68,
   "metadata": {
    "collapsed": false,
    "slideshow": {
     "slide_type": "slide"
    }
   },
   "outputs": [
    {
     "name": "stdout",
     "output_type": "stream",
     "text": [
      "number of times had occurs 2\n",
      "Mary had a little lamb called had\n",
      "MTry hTd T little lTmb cTlled hTd\n"
     ]
    }
   ],
   "source": [
    "example_string = 'Mary had a little lamb called had'\n",
    "word = 'had'\n",
    "number = example_string.count(word)\n",
    "print 'number of times had occurs', number\n",
    "print example_string.capitalize()\n",
    "example_string = example_string.replace('a', 'T')\n",
    "print example_string\n"
   ]
  },
  {
   "cell_type": "markdown",
   "metadata": {
    "slideshow": {
     "slide_type": "slide"
    }
   },
   "source": [
    "# Lists and Essential List Methods\n",
    "\n",
    "- Think of **list** as a container\n",
    "- You can simply create a empty list with the syntax: [] or list()"
   ]
  },
  {
   "cell_type": "markdown",
   "metadata": {
    "slideshow": {
     "slide_type": "fragment"
    }
   },
   "source": [
    "-Lists can have mixed data types"
   ]
  },
  {
   "cell_type": "code",
   "execution_count": 77,
   "metadata": {
    "collapsed": false,
    "slideshow": {
     "slide_type": "fragment"
    }
   },
   "outputs": [
    {
     "data": {
      "text/plain": [
       "[3, 7.0, 2, 'dog', True]"
      ]
     },
     "execution_count": 77,
     "metadata": {},
     "output_type": "execute_result"
    }
   ],
   "source": [
    "# A list in square brackets can be of any type ( integer, float, string, boolean)\n",
    "\n",
    "a = [3,7.0,2,'dog', True]\n",
    "a\n"
   ]
  },
  {
   "cell_type": "code",
   "execution_count": 78,
   "metadata": {
    "collapsed": false,
    "slideshow": {
     "slide_type": "slide"
    }
   },
   "outputs": [
    {
     "data": {
      "text/plain": [
       "[1, 2, [[3, 7.0, 2, 'dog', True]]]"
      ]
     },
     "execution_count": 78,
     "metadata": {},
     "output_type": "execute_result"
    }
   ],
   "source": [
    "# A list can have a list as an element\n",
    "alist=[1,2,[a]]\n",
    "alist"
   ]
  },
  {
   "cell_type": "markdown",
   "metadata": {
    "slideshow": {
     "slide_type": "slide"
    }
   },
   "source": [
    "### Indexing a List\n",
    "\n",
    "- This is very important. The first element in a list is given a location of zero\n",
    "- Pay attention to how indexing works in Python"
   ]
  },
  {
   "cell_type": "code",
   "execution_count": 79,
   "metadata": {
    "collapsed": false,
    "slideshow": {
     "slide_type": "fragment"
    }
   },
   "outputs": [
    {
     "name": "stdout",
     "output_type": "stream",
     "text": [
      "[3, 7.0, 2, 'dog', True]\n",
      "the first two elements are  3 and 7.0\n"
     ]
    }
   ],
   "source": [
    "print(a)\n",
    "print 'the first two elements are ', a[0],'and',a[1]"
   ]
  },
  {
   "cell_type": "markdown",
   "metadata": {
    "slideshow": {
     "slide_type": "slide"
    }
   },
   "source": [
    "### More List Slices "
   ]
  },
  {
   "cell_type": "code",
   "execution_count": 80,
   "metadata": {
    "collapsed": false,
    "slideshow": {
     "slide_type": "fragment"
    }
   },
   "outputs": [
    {
     "name": "stdout",
     "output_type": "stream",
     "text": [
      "['a', 'b']\n",
      "['b', 'c', 'd', 'e', 'f']\n",
      "['c', 'd', 'e']\n",
      "['b']\n",
      "b\n",
      "['z1', 'z2', 'c', 'd', 'e', 'f', 'g']\n",
      "['xxx', 'd', 'e', 'f', 'g']\n"
     ]
    }
   ],
   "source": [
    "mylist =['a','b','c','d', 'e','f','g']\n",
    "print mylist[0:2]  # print out a and b\n",
    "print mylist[1:-1] # prints out from location 1 to the end, but excludes the last\n",
    "print mylist[2:-2] # prints out from location 2  excluding the last two\n",
    "print mylist[1:2]\n",
    "print mylist[1]\n",
    "\n",
    "\n",
    "mylist[0:2] = 'z1','z2'\n",
    "\n",
    "print mylist\n",
    "\n",
    "mylist[0:3] = ['xxx']  ## This replaces the list ['a','b'] with the smaller list.....RHS must be a list\n",
    "\n",
    "print mylist"
   ]
  },
  {
   "cell_type": "code",
   "execution_count": 81,
   "metadata": {
    "collapsed": false,
    "slideshow": {
     "slide_type": "fragment"
    }
   },
   "outputs": [
    {
     "name": "stdout",
     "output_type": "stream",
     "text": [
      "[7.0, 2]\n",
      "a= [3, 7.0, 2, 'dog', True]\n",
      "c= [2, 'dog', True]\n",
      "d= [3, 7.0]\n"
     ]
    }
   ],
   "source": [
    "b = a[1:3]\n",
    "b\n",
    "print b\n",
    "print 'a=',a\n",
    "c = a[2:] # from the 'second' to the end ( start at zero not one.) \n",
    "print 'c=',c\n",
    "d = a[:2] # from the beginning to the second, not including the second\n",
    "print 'd=',d\n"
   ]
  },
  {
   "cell_type": "code",
   "execution_count": 83,
   "metadata": {
    "collapsed": false,
    "slideshow": {
     "slide_type": "slide"
    }
   },
   "outputs": [
    {
     "name": "stdout",
     "output_type": "stream",
     "text": [
      "Value available at index 2 : \n",
      "1997\n",
      "New value available at index 2 : \n",
      "2001\n",
      "['physics', 2001, 2000]\n"
     ]
    }
   ],
   "source": [
    "# You can modify a content or delete an element\n",
    "\n",
    "\n",
    "list_ = ['physics', 'chemistry', 1997, 2000];\n",
    "\n",
    "print \"Value available at index 2 : \"\n",
    "print list_[2]\n",
    "list_[2] = 2001;\n",
    "print \"New value available at index 2 : \"\n",
    "print list_[2]\n",
    "del list_[1]\n",
    "print list_"
   ]
  },
  {
   "cell_type": "markdown",
   "metadata": {
    "slideshow": {
     "slide_type": "slide"
    }
   },
   "source": [
    "- Assignment with an = on lists does not make a copy.\n",
    "- Instead, assignment makes the two variables point to the one list in memory. "
   ]
  },
  {
   "cell_type": "code",
   "execution_count": 84,
   "metadata": {
    "collapsed": false,
    "slideshow": {
     "slide_type": "fragment"
    }
   },
   "outputs": [
    {
     "name": "stdout",
     "output_type": "stream",
     "text": [
      "[999, 2001, 2000]\n"
     ]
    }
   ],
   "source": [
    "\n",
    "b = list_ # This does not  make a copy of a.\n",
    "list_[0] = 999\n",
    "print b\n"
   ]
  },
  {
   "cell_type": "markdown",
   "metadata": {
    "slideshow": {
     "slide_type": "slide"
    }
   },
   "source": [
    "## Some Basic List Methods\n",
    "- Here are some basic list methods.Methods on a list object are different from functions that that take the list as an argument."
   ]
  },
  {
   "cell_type": "markdown",
   "metadata": {
    "slideshow": {
     "slide_type": "fragment"
    }
   },
   "source": [
    "\n",
    "- Methods on a list object are different than functions that take the list as an argument."
   ]
  },
  {
   "cell_type": "markdown",
   "metadata": {
    "slideshow": {
     "slide_type": "fragment"
    }
   },
   "source": [
    "- list.append(elem) -- adds a single element to the end of the list. Common error: does not return the new list, just modifies the original.\n",
    "- list.insert(index, elem) -- inserts the element at the given index, shifting elements to the right.\n",
    "- list.extend(list2) adds the elements in list2 to the end of the list. Using + or += on a list is similar to using extend().\n",
    "- list.index(elem) -- searches for the given element from the start of the list and returns its index. Throws a ValueError if-   the element does not appear (use \"in\" to check without a ValueError).\n",
    "- lilist.sort() -- sorts the list in place (does not return it). (The sorted() function shown below is preferred.)\n",
    "- list.reverse() -- reverses the list in place (does not return it)\n",
    "- list.pop(index) -- removes and returns the element at the given index. Returns the rightmost element if index is omitted (roughly the opposite of append()).\n"
   ]
  },
  {
   "cell_type": "code",
   "execution_count": 86,
   "metadata": {
    "collapsed": false,
    "slideshow": {
     "slide_type": "slide"
    }
   },
   "outputs": [
    {
     "name": "stdout",
     "output_type": "stream",
     "text": [
      "[1, 2, 3, 'dog', 'cat']\n",
      "[1, 2, 'mouse', 3, 'dog', 'cat']\n"
     ]
    }
   ],
   "source": [
    "# Adding  to a list with append\n",
    "my_list =[1,2,3,'dog']\n",
    "my_list.append('cat')\n",
    "print my_list\n",
    "my_list.insert(2,'mouse') # insers in position 2\n",
    "print my_list"
   ]
  },
  {
   "cell_type": "markdown",
   "metadata": {
    "collapsed": false,
    "slideshow": {
     "slide_type": "slide"
    }
   },
   "source": [
    "- A common error. methods do not _return_ the modified list\n",
    "- They just _modify_ the original list"
   ]
  },
  {
   "cell_type": "code",
   "execution_count": 87,
   "metadata": {
    "collapsed": false
   },
   "outputs": [
    {
     "name": "stdout",
     "output_type": "stream",
     "text": [
      "None\n",
      "[1, 2, 3, 4, 4]\n"
     ]
    }
   ],
   "source": [
    "list = [1, 2, 3]\n",
    "print list.append(4)   ## NO, does not work, append() returns None\n",
    "## Correct pattern:\n",
    "list.append(4)\n",
    "print list  ## [1, 2, 3, 4]"
   ]
  },
  {
   "cell_type": "markdown",
   "metadata": {
    "collapsed": true,
    "slideshow": {
     "slide_type": "slide"
    }
   },
   "source": [
    "- One common pattern is to start a list a the empty list [], then use append() to add elements to it:"
   ]
  },
  {
   "cell_type": "code",
   "execution_count": null,
   "metadata": {
    "collapsed": false,
    "slideshow": {
     "slide_type": "fragment"
    }
   },
   "outputs": [],
   "source": [
    "a = [1,2,4]\n",
    "b =['dog','cat', 'mouse']\n",
    "list = []\n",
    "list.append('a')\n",
    "list.append('b')\n",
    "list"
   ]
  },
  {
   "cell_type": "code",
   "execution_count": 91,
   "metadata": {
    "collapsed": false,
    "slideshow": {
     "slide_type": "slide"
    }
   },
   "outputs": [
    {
     "name": "stdout",
     "output_type": "stream",
     "text": [
      "[1, 2, 'dog']\n",
      "length of a is 3\n"
     ]
    }
   ],
   "source": [
    "### Basic List Operations\n",
    "\n",
    "a=[1,2,'dog']\n",
    "print a\n",
    "\n",
    "print  'length of a is', len(a)  # gives the length of list a. \n",
    "# Note len() is a function not a method\n",
    "\n",
    "\n",
    "\n",
    "\n"
   ]
  },
  {
   "cell_type": "code",
   "execution_count": 92,
   "metadata": {
    "collapsed": false,
    "slideshow": {
     "slide_type": "fragment"
    }
   },
   "outputs": [
    {
     "name": "stdout",
     "output_type": "stream",
     "text": [
      "d is [1, 2, 3, 4, 5, 6]\n"
     ]
    }
   ],
   "source": [
    "# What happens if you add lists \n",
    "\n",
    "d= [1,2,3]+ [4,5,6]\n",
    "print 'd is',d\n",
    "\n"
   ]
  },
  {
   "cell_type": "code",
   "execution_count": 93,
   "metadata": {
    "collapsed": false,
    "slideshow": {
     "slide_type": "fragment"
    }
   },
   "outputs": [
    {
     "name": "stdout",
     "output_type": "stream",
     "text": [
      "is 3 in d True\n",
      "1\n",
      "2\n",
      "dog\n"
     ]
    }
   ],
   "source": [
    "# Can you check if an item is in a list?\n",
    "\n",
    "\n",
    "isit = 3 in d\n",
    "print 'is 3 in d', isit\n",
    "for x in a:\n",
    "    print x\n",
    "    "
   ]
  },
  {
   "cell_type": "code",
   "execution_count": 94,
   "metadata": {
    "collapsed": false,
    "slideshow": {
     "slide_type": "fragment"
    }
   },
   "outputs": [
    {
     "data": {
      "text/plain": [
       "[1, 4, 'dog', 1, 4, 'dog', 1, 4, 'dog', 1, 4, 'dog', 1, 4, 'dog']"
      ]
     },
     "execution_count": 94,
     "metadata": {},
     "output_type": "execute_result"
    }
   ],
   "source": [
    "# What happens if you multiply a list?\n",
    "\n",
    "my_list =[1,4,'dog']\n",
    "my_list*5"
   ]
  },
  {
   "cell_type": "code",
   "execution_count": 95,
   "metadata": {
    "collapsed": false,
    "slideshow": {
     "slide_type": "slide"
    }
   },
   "outputs": [
    {
     "name": "stdout",
     "output_type": "stream",
     "text": [
      "[[1, 2, 3], [4, 5, 6], [7, 8, 9]]\n"
     ]
    },
    {
     "data": {
      "text/plain": [
       "[7, 8, 9]"
      ]
     },
     "execution_count": 95,
     "metadata": {},
     "output_type": "execute_result"
    }
   ],
   "source": [
    "# Lists of Lists?\n",
    "\n",
    "a = [1,2,3]\n",
    "b =[4,5,6]\n",
    "c = [7,8,9]\n",
    "D = [a,b,c]\n",
    "print D\n",
    "\n",
    "# What does D[2] refer to?\n",
    "D[2]\n",
    "\n"
   ]
  },
  {
   "cell_type": "markdown",
   "metadata": {
    "slideshow": {
     "slide_type": "slide"
    }
   },
   "source": [
    "### For and In Statements "
   ]
  },
  {
   "cell_type": "code",
   "execution_count": 97,
   "metadata": {
    "collapsed": false,
    "slideshow": {
     "slide_type": "fragment"
    }
   },
   "outputs": [
    {
     "name": "stdout",
     "output_type": "stream",
     "text": [
      "30\n"
     ]
    }
   ],
   "source": [
    "squares = [1, 4, 9, 16]\n",
    "sum = 0\n",
    "for num in squares:\n",
    "    sum = sum + num\n",
    "print sum "
   ]
  },
  {
   "cell_type": "code",
   "execution_count": 98,
   "metadata": {
    "collapsed": false,
    "slideshow": {
     "slide_type": "fragment"
    }
   },
   "outputs": [
    {
     "name": "stdout",
     "output_type": "stream",
     "text": [
      "yay\n"
     ]
    }
   ],
   "source": [
    "list = ['larry', 'curly', 'moe']\n",
    "if 'curly' in list:\n",
    "    print 'yay'"
   ]
  },
  {
   "cell_type": "markdown",
   "metadata": {
    "slideshow": {
     "slide_type": "slide"
    }
   },
   "source": [
    "# Homework\n",
    "\n",
    "  1. Finish Codeacademy Tutorial!\n",
    "  2. Get Everything running on your Laptop\n",
    "  \n",
    "Extra Challenge:  http://www.codewars.com\n",
    "\n",
    "This Script can be Downloaded at https://github.com/neuroneuro15/SciPyCourse2016"
   ]
  },
  {
   "cell_type": "markdown",
   "metadata": {},
   "source": [
    "### Homework Question 1\n",
    "\n",
    "Your boss says that every week  he has to print out 100 graphs that have the same type of headings, but the title of each graph contains the name of a person from the list. he wants to automate the generation of the headings.\n",
    "\n",
    "he tells you the headings are of the form:\n",
    "\n",
    "Productivity report of SUBJECT NAME's data over Time\n",
    "\n",
    "Can you produce a list of Headings given the names below \n",
    "\n",
    "Names =[Jon, Jim, Jack, Kevin, Kay, Mary, Martha, Sally]\n",
    "\n",
    "\n",
    "\n",
    "\n",
    "\n"
   ]
  },
  {
   "cell_type": "code",
   "execution_count": null,
   "metadata": {
    "collapsed": false
   },
   "outputs": [],
   "source": [
    "# Step 1: Create a List\n",
    "\n",
    "Names =['Jon', 'Jim', 'Jack', 'Kevin', 'Kay', 'Mary', 'Martha', 'Sally']\n",
    "\n",
    "str = \"Productivity report of SUBJECT NAME's data over Time\"\n",
    "\n",
    "for name in Names:\n",
    "    str = \"Productivity report of SUBJECT NAME's data over Time\"\n",
    "    y = str.replace('SUBJECT NAME', name)\n",
    "    print y\n",
    "    \n",
    "\n"
   ]
  },
  {
   "cell_type": "markdown",
   "metadata": {},
   "source": [
    "## Homework  Question 2\n",
    "\n",
    "-Your boss is so impressed! Each staff member produces 3 reports labelled Rep1 Rep2 and Rep3. he wants you to redo the problem above but this time produce three headings for each member in her group.\n",
    "\n",
    "-So the title should be Productivity Report  oREPORT  TYPE by STAFF NAME over time \n",
    "\n",
    "-The staff members are [Jon, Jim, Jack, Kevin, Kay, Mary, Martha, Sally] and the report types are \n",
    "Reports =[Rep1, Rep2, Rep3]\n",
    "\n"
   ]
  },
  {
   "cell_type": "code",
   "execution_count": null,
   "metadata": {
    "collapsed": false,
    "scrolled": true
   },
   "outputs": [],
   "source": [
    "Names =['Jon', 'Jim', 'Jack', 'Kevin', 'Kay', 'Mary', 'Martha', 'Sally']\n",
    "Reports = ['Rep1','Rep2', 'Rep3']\n",
    "\n",
    "str = \"Productivity report  TYPE REPORT for  SUBJECT NAME's data over Time\"\n",
    "for name in Names:\n",
    "    str = \"Productivity report  TYPE REPORT for  SUBJECT NAME's data over Time\"\n",
    "    y = str.replace('SUBJECT NAME', name)\n",
    "    for rep in Reports:\n",
    "           y2 = y.replace('TYPE REPORT', rep)\n",
    "           print y2\n",
    "           \n",
    "           \n",
    "\n",
    "           \n",
    "           \n",
    "           \n",
    "           \n"
   ]
  },
  {
   "cell_type": "code",
   "execution_count": null,
   "metadata": {
    "collapsed": false
   },
   "outputs": [],
   "source": [
    "Names =['Jon', 'Jim', 'Jack', 'Kevin', 'Kay', 'Mary', 'Martha', 'Sally']\n",
    "Reports = ['Rep1','Rep2', 'Rep3']\n",
    "sub1 = 'NOP'\n",
    "sub2 = 'Rep'\n",
    "title = \"productive report: {sub2} for {sub1} over time\"\n",
    "\n",
    "for name in Names:\n",
    "    for reps in Reports:\n",
    "        y = title.format(sub1= name, sub2 = reps)\n",
    "        print y\n",
    "        "
   ]
  },
  {
   "cell_type": "markdown",
   "metadata": {},
   "source": [
    "# Homework Question 3\n",
    "\n",
    "-Your colleague sent you the data you needed, but in the text of an email!\n",
    "- Seriously, who sends data like that, it's ridiculous! \n",
    "- Well, now you need to make a list of numbers out of it.\n",
    "- How do you do that without typing them by hand?"
   ]
  },
  {
   "cell_type": "code",
   "execution_count": null,
   "metadata": {
    "collapsed": false
   },
   "outputs": [],
   "source": [
    "strdata = '12 40 89 100 41.2 41.2 0.45 1.1'\n",
    "# Your job is to take this string data and make a list of floats out of it\n",
    "# You can use the split method for strings \n",
    "# This takes in a string and splits it up whenever there is a space. so now we have \n",
    "# a list of strings that we need to convert to floating points \n",
    "\n",
    "\n",
    "y = strdata.split(' ')\n",
    "final =[]\n",
    "for x in y:\n",
    "    xt = float(x)\n",
    "    final.append(xt)\n",
    "    \n",
    "final\n",
    "    \n",
    "\n"
   ]
  },
  {
   "cell_type": "markdown",
   "metadata": {
    "collapsed": false,
    "slideshow": {
     "slide_type": "slide"
    }
   },
   "source": [
    "example_list = ['Python', 'Science', 'Awesome']\n",
    "\n",
    "new_list = example_list.reverse()\n",
    "print(new_list)\n",
    "example_list.append\n",
    "example_list.extend\n",
    "example_list.sort\n",
    "example_list.remove\n",
    "example_list.pop\n",
    "example_list.count\n"
   ]
  },
  {
   "cell_type": "markdown",
   "metadata": {},
   "source": [
    "## Homework Question 4\n",
    "\n",
    "The list of names you were given contains some floating values as well. Get rid of them and then arrange the new list in alphabetical order\n",
    "\n",
    "Names = ['Jon', 'Peter', 'Alex', 12.0,  'Zelda','Rocky', 17.9, 'Jim', 'Jack', 'Kevin', 'Kay', 'Alice', 'Mary', 'Martha', 'Sally']\n",
    "\n",
    "To do this problem you may want to use google in an intelligent way!"
   ]
  },
  {
   "cell_type": "code",
   "execution_count": null,
   "metadata": {
    "collapsed": false
   },
   "outputs": [],
   "source": [
    "test1 = 'a word'\n",
    "isinstance(test1, basestring)"
   ]
  },
  {
   "cell_type": "code",
   "execution_count": null,
   "metadata": {
    "collapsed": false
   },
   "outputs": [],
   "source": [
    "Names = ['Jon', 'Peter', 'Alex', 12.0,  'Zelda','Rocky', 17.9, 'Jim', 'Jack', 'Kevin', 'Kay', 'Alice', 'Mary', 'Martha', 'Sally']\n",
    "Names.sort()\n",
    "Final=[]\n",
    "for name in Names: \n",
    "    if isinstance(name, basestring):\n",
    "        Final.append(name)\n",
    "        \n",
    "        \n",
    "print Final\n",
    "\n"
   ]
  },
  {
   "cell_type": "markdown",
   "metadata": {},
   "source": [
    "## Homework Question 5\n",
    "\n",
    "-You have two lists:\n",
    "- LA =['c1','c5','c7']\n",
    "- LB = ['d2','d1','d3']\n",
    "- You need to create a _tupple_ whose first member is from LA and the second is from LB.\n",
    "- Use google to find out how to create a list of these tupples (pairs)\n",
    "\n",
    "-As an example list LA could be countries and List LB  could be capitals....\n",
    "\n",
    "Now if any pair has a 1 in it drop the pair \n"
   ]
  },
  {
   "cell_type": "code",
   "execution_count": null,
   "metadata": {
    "collapsed": false
   },
   "outputs": [],
   "source": [
    "# First we need to create the pairs ( tupples))\n",
    "\n",
    "LA =['c1','c2','c3'] \n",
    "LB = ['d1','d2','d3'] \n",
    "Newlist = zip(LA,LB)\n",
    "Newlist\n"
   ]
  },
  {
   "cell_type": "code",
   "execution_count": null,
   "metadata": {
    "collapsed": false
   },
   "outputs": [],
   "source": [
    "LA =['c1','c2','c3'] \n",
    "LB = ['d1','d2','d3'] \n",
    "Final =[]\n",
    "ival = [0,1,2]\n",
    "for i in ival:\n",
    "    temp=[LA[i],LB[i]]\n",
    "    Final.append(temp)\n",
    "    \n",
    "print Final \n",
    "    "
   ]
  },
  {
   "cell_type": "code",
   "execution_count": null,
   "metadata": {
    "collapsed": false
   },
   "outputs": [],
   "source": [
    "LA =['c1','c2','c3', 'c7', 'c1', 'c1'] \n",
    "LB = ['d1','d2','d3', 'd1','d1', 'd1']\n",
    "\n",
    "Final=[]\n",
    "for i in  xrange(0,6):  # Use the xrange command for successive integers from 0 to 5 in this case \n",
    "    temp=[LA[i],LB[i]]\n",
    "    Final.append(temp)\n",
    "    \n",
    "print Final "
   ]
  },
  {
   "cell_type": "markdown",
   "metadata": {},
   "source": [
    "### Now we want to get rid of those elements where  both the second values are the same \n"
   ]
  },
  {
   "cell_type": "code",
   "execution_count": null,
   "metadata": {
    "collapsed": false
   },
   "outputs": [],
   "source": [
    "FinalF =[]\n",
    "for item in Final:\n",
    "    y=   item[0]  # picks up the first element in item \n",
    "    z = item[1]   # picks up the second  element  in item \n",
    "   \n",
    "    y2 = float(y[1])    # picks up the second digit in the string y\n",
    "    z2 = float(z[1])    # picks up the second digit in the string z\n",
    "    \n",
    "    if (z2 != y2):\n",
    "        FinalF.append(item)\n",
    "        \n",
    "\n",
    "        \n",
    "        \n",
    "print FinalF\n",
    "   "
   ]
  },
  {
   "cell_type": "code",
   "execution_count": null,
   "metadata": {
    "collapsed": true
   },
   "outputs": [],
   "source": []
  },
  {
   "cell_type": "markdown",
   "metadata": {
    "slideshow": {
     "slide_type": "slide"
    }
   },
   "source": [
    "# Quick Review"
   ]
  }
 ],
 "metadata": {
  "celltoolbar": "Slideshow",
  "kernelspec": {
   "display_name": "Python 2",
   "language": "python",
   "name": "python2"
  },
  "language_info": {
   "codemirror_mode": {
    "name": "ipython",
    "version": 2
   },
   "file_extension": ".py",
   "mimetype": "text/x-python",
   "name": "python",
   "nbconvert_exporter": "python",
   "pygments_lexer": "ipython2",
   "version": "2.7.13"
  }
 },
 "nbformat": 4,
 "nbformat_minor": 0
}
