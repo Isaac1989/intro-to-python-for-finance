{
 "cells": [
  {
   "cell_type": "markdown",
   "metadata": {
    "slideshow": {
     "slide_type": "slide"
    }
   },
   "source": [
    "\n",
    "## Lecture 1b : More of the Same"
   ]
  },
  {
   "cell_type": "markdown",
   "metadata": {
    "slideshow": {
     "slide_type": "fragment"
    }
   },
   "source": [
    "1. Second time round is often helpful!\n",
    "2.  And we will add in some new features "
   ]
  },
  {
   "cell_type": "markdown",
   "metadata": {
    "slideshow": {
     "slide_type": "slide"
    }
   },
   "source": [
    "## 0. First Step in Python"
   ]
  },
  {
   "cell_type": "code",
   "execution_count": null,
   "metadata": {
    "collapsed": false,
    "slideshow": {
     "slide_type": "slide"
    }
   },
   "outputs": [],
   "source": [
    "print \" Hello World\""
   ]
  },
  {
   "cell_type": "markdown",
   "metadata": {
    "slideshow": {
     "slide_type": "slide"
    }
   },
   "source": [
    "## I. Variables and Expressions"
   ]
  },
  {
   "cell_type": "markdown",
   "metadata": {
    "slideshow": {
     "slide_type": "fragment"
    }
   },
   "source": [
    "### 1.1 Assign Value to Variable"
   ]
  },
  {
   "cell_type": "code",
   "execution_count": null,
   "metadata": {
    "collapsed": true,
    "slideshow": {
     "slide_type": "fragment"
    }
   },
   "outputs": [],
   "source": [
    "n = 17\n",
    "pi = 3.1415926\n",
    "# If you want to define a string variable, you have to define it within ' ' or \" \"\n",
    "msg = 'BAFI 492' # you can also define it as: msg=\"MSFI 491\""
   ]
  },
  {
   "cell_type": "markdown",
   "metadata": {
    "slideshow": {
     "slide_type": "fragment"
    }
   },
   "source": [
    "- As you can see, the line starting  with \"#\" is a  comment lines in Python\n",
    "- If you want to make a comment  paragraph, you can start with three \" ' \" \n",
    "- and end with three \" ' \"\n"
   ]
  },
  {
   "cell_type": "code",
   "execution_count": null,
   "metadata": {
    "collapsed": false,
    "slideshow": {
     "slide_type": "slide"
    }
   },
   "outputs": [],
   "source": [
    "print 'n=',n, 'pi =', pi, 'msg=', msg "
   ]
  },
  {
   "cell_type": "code",
   "execution_count": null,
   "metadata": {
    "collapsed": false,
    "slideshow": {
     "slide_type": "fragment"
    }
   },
   "outputs": [],
   "source": [
    "# To identify  the type of variable use the type command\n",
    "type (n)"
   ]
  },
  {
   "cell_type": "code",
   "execution_count": null,
   "metadata": {
    "collapsed": false,
    "slideshow": {
     "slide_type": "fragment"
    }
   },
   "outputs": [],
   "source": [
    "type (pi)"
   ]
  },
  {
   "cell_type": "code",
   "execution_count": null,
   "metadata": {
    "collapsed": false,
    "slideshow": {
     "slide_type": "fragment"
    }
   },
   "outputs": [],
   "source": [
    "type (msg)"
   ]
  },
  {
   "cell_type": "code",
   "execution_count": null,
   "metadata": {
    "collapsed": false,
    "slideshow": {
     "slide_type": "fragment"
    }
   },
   "outputs": [],
   "source": [
    "# You can also change data type as: \n",
    "n_float = float(n)\n",
    "# Here we change an int variable (17) to a float variable (17.0)\n",
    "print n_float"
   ]
  },
  {
   "cell_type": "markdown",
   "metadata": {
    "slideshow": {
     "slide_type": "slide"
    }
   },
   "source": [
    "- In Python, upper case and lower case are different."
   ]
  },
  {
   "cell_type": "code",
   "execution_count": null,
   "metadata": {
    "collapsed": false,
    "slideshow": {
     "slide_type": "fragment"
    }
   },
   "outputs": [],
   "source": [
    "a = 28.6; A = 42.5  # Note multiple commands on one line are separated by a semicolon.\n",
    "print a, A"
   ]
  },
  {
   "cell_type": "markdown",
   "metadata": {
    "slideshow": {
     "slide_type": "slide"
    }
   },
   "source": [
    "### 1.2 Basic Operators"
   ]
  },
  {
   "cell_type": "markdown",
   "metadata": {
    "slideshow": {
     "slide_type": "fragment"
    }
   },
   "source": [
    "+,-,*,/,() work the same in Python as that in other programming languages, such as VBA"
   ]
  },
  {
   "cell_type": "code",
   "execution_count": null,
   "metadata": {
    "collapsed": false,
    "slideshow": {
     "slide_type": "slide"
    }
   },
   "outputs": [],
   "source": [
    "# Basic Math ( enter real numbers  with decimals)\n",
    "x = 2.\n",
    "y = 3.\n",
    "z = x + y\n",
    "z           # same as print."
   ]
  },
  {
   "cell_type": "markdown",
   "metadata": {
    "slideshow": {
     "slide_type": "slide"
    }
   },
   "source": [
    "- There are two special cases about operators in Python"
   ]
  },
  {
   "cell_type": "code",
   "execution_count": null,
   "metadata": {
    "collapsed": false,
    "slideshow": {
     "slide_type": "fragment"
    }
   },
   "outputs": [],
   "source": [
    "# Special Case I:\n",
    "# in Python 2, the division operator might not do what you expect. When both of the operands are integers, the result is \n",
    "#also an integer.\n",
    "t = 1\n",
    "n = 12\n",
    "dt = t / n\n",
    "print dt"
   ]
  },
  {
   "cell_type": "code",
   "execution_count": null,
   "metadata": {
    "collapsed": false,
    "slideshow": {
     "slide_type": "fragment"
    }
   },
   "outputs": [],
   "source": [
    "# If either of the operands are integers, the result will be an integer. \n",
    "# Therefore we can change data type of one operand before division.\n",
    "dt = float (t) / n\n",
    "print dt"
   ]
  },
  {
   "cell_type": "code",
   "execution_count": null,
   "metadata": {
    "collapsed": false,
    "slideshow": {
     "slide_type": "slide"
    }
   },
   "outputs": [],
   "source": [
    "# Special Case II:\n",
    "# When you want to power calculation, \"**\" is used instead \"^\" in Python\n",
    "# If we want to calculate 2 to the power of 3, which is 8\n",
    "2 ** 3"
   ]
  },
  {
   "cell_type": "code",
   "execution_count": null,
   "metadata": {
    "collapsed": false,
    "slideshow": {
     "slide_type": "slide"
    }
   },
   "outputs": [],
   "source": [
    "x = 10.0\n",
    "y = log(x)\n",
    "print y"
   ]
  },
  {
   "cell_type": "code",
   "execution_count": null,
   "metadata": {
    "collapsed": false,
    "slideshow": {
     "slide_type": "slide"
    }
   },
   "outputs": [],
   "source": [
    "x = 10.0\n",
    "y = 12.0\n",
    "z = max(x,y)\n",
    "z"
   ]
  },
  {
   "cell_type": "code",
   "execution_count": null,
   "metadata": {
    "collapsed": false,
    "slideshow": {
     "slide_type": "slide"
    }
   },
   "outputs": [],
   "source": [
    "x = 1.0\n",
    "y = exp(x)\n",
    "y"
   ]
  },
  {
   "cell_type": "code",
   "execution_count": null,
   "metadata": {
    "collapsed": false,
    "slideshow": {
     "slide_type": "fragment"
    }
   },
   "outputs": [],
   "source": [
    "x = 9.0\n",
    "y = sqrt(x)\n",
    "y"
   ]
  },
  {
   "cell_type": "code",
   "execution_count": null,
   "metadata": {
    "collapsed": true,
    "slideshow": {
     "slide_type": "fragment"
    }
   },
   "outputs": [],
   "source": [
    "# There are very few math functions built into python.\n",
    "# You need to import the math functions using packages.\n",
    "# The packages most often used are math and numpy"
   ]
  },
  {
   "cell_type": "markdown",
   "metadata": {
    "slideshow": {
     "slide_type": "slide"
    }
   },
   "source": [
    "# 1.2 Advanced Operators using packages"
   ]
  },
  {
   "cell_type": "markdown",
   "metadata": {
    "slideshow": {
     "slide_type": "fragment"
    }
   },
   "source": [
    "- There are many advanced functions that we used by import other packages, such as numpy and math. Here we used the example of math package"
   ]
  },
  {
   "cell_type": "markdown",
   "metadata": {
    "slideshow": {
     "slide_type": "fragment"
    }
   },
   "source": [
    "- In Python, if you want to import functions, there are two ways. "
   ]
  },
  {
   "cell_type": "code",
   "execution_count": null,
   "metadata": {
    "collapsed": false,
    "slideshow": {
     "slide_type": "slide"
    }
   },
   "outputs": [],
   "source": [
    "# First, you can just import the function, log for instance, from math\n",
    "# If you do this then you can refer to these functions directly.\n",
    "from math import exp\n",
    "exp (1)"
   ]
  },
  {
   "cell_type": "markdown",
   "metadata": {
    "slideshow": {
     "slide_type": "fragment"
    }
   },
   "source": [
    "If you want to import all functions from this packages one time, you can write: from math import *"
   ]
  },
  {
   "cell_type": "code",
   "execution_count": null,
   "metadata": {
    "collapsed": false,
    "slideshow": {
     "slide_type": "fragment"
    }
   },
   "outputs": [],
   "source": [
    "# Second, you can import the package, then you use \"<package name>.<function name>\" to call the function\n",
    "import math\n",
    "math.sqrt(9)"
   ]
  },
  {
   "cell_type": "markdown",
   "metadata": {
    "slideshow": {
     "slide_type": "slide"
    }
   },
   "source": [
    "### 1.3 Comparison Operator"
   ]
  },
  {
   "cell_type": "markdown",
   "metadata": {
    "slideshow": {
     "slide_type": "fragment"
    }
   },
   "source": [
    "In Python, <,<=,>,>=,==,!= are used for ..."
   ]
  },
  {
   "cell_type": "code",
   "execution_count": null,
   "metadata": {
    "collapsed": false,
    "slideshow": {
     "slide_type": "fragment"
    }
   },
   "outputs": [],
   "source": [
    "5 >= 3"
   ]
  },
  {
   "cell_type": "code",
   "execution_count": null,
   "metadata": {
    "collapsed": false,
    "slideshow": {
     "slide_type": "fragment"
    }
   },
   "outputs": [],
   "source": [
    "# not equal comparison \n",
    "# is 2 not equal to 1\n",
    "2 != 1"
   ]
  },
  {
   "cell_type": "markdown",
   "metadata": {
    "slideshow": {
     "slide_type": "slide"
    }
   },
   "source": [
    "### 1.4 Logic Operators"
   ]
  },
  {
   "cell_type": "markdown",
   "metadata": {
    "slideshow": {
     "slide_type": "fragment"
    }
   },
   "source": [
    "- In Python, &，|，not are used for logical ....."
   ]
  },
  {
   "cell_type": "code",
   "execution_count": null,
   "metadata": {
    "collapsed": false,
    "slideshow": {
     "slide_type": "fragment"
    }
   },
   "outputs": [],
   "source": [
    "# & is BOTH:  Are both true \n",
    "(3 >= 1) & ( 2 <= 5)"
   ]
  },
  {
   "cell_type": "code",
   "execution_count": null,
   "metadata": {
    "collapsed": false,
    "slideshow": {
     "slide_type": "fragment"
    }
   },
   "outputs": [],
   "source": [
    "(3 >= 1) | ( 2 != 5)"
   ]
  },
  {
   "cell_type": "code",
   "execution_count": null,
   "metadata": {
    "collapsed": false,
    "slideshow": {
     "slide_type": "fragment"
    }
   },
   "outputs": [],
   "source": [
    "# Below we check if either 3>= 1 or is 2 is not equal to 5.  Since 2 is not equal to 5 is true  the statement is true. \n",
    "# But  we are asking  if it is not true so the answer should be False.\n",
    "not ((3 >= 1) | ( 2 != 5))"
   ]
  },
  {
   "cell_type": "markdown",
   "metadata": {
    "slideshow": {
     "slide_type": "slide"
    }
   },
   "source": [
    "### 1.5 User Defined Input"
   ]
  },
  {
   "cell_type": "code",
   "execution_count": 7,
   "metadata": {
    "collapsed": false,
    "slideshow": {
     "slide_type": "fragment"
    }
   },
   "outputs": [
    {
     "name": "stdout",
     "output_type": "stream",
     "text": [
      "give me a number between 0 and 10: 9\n",
      "who is your best friend ? Jon\n"
     ]
    }
   ],
   "source": [
    "# here we let user define variable value using the raw_input command \n",
    "\n",
    "a = raw_input('give me a number between 0 and 10: ')\n",
    "msg = raw_input('who is your best friend ? ')"
   ]
  },
  {
   "cell_type": "code",
   "execution_count": null,
   "metadata": {
    "collapsed": false,
    "slideshow": {
     "slide_type": "fragment"
    }
   },
   "outputs": [],
   "source": [
    "print msg"
   ]
  },
  {
   "cell_type": "code",
   "execution_count": null,
   "metadata": {
    "collapsed": false,
    "slideshow": {
     "slide_type": "fragment"
    }
   },
   "outputs": [],
   "source": [
    "type (a)"
   ]
  },
  {
   "cell_type": "markdown",
   "metadata": {
    "slideshow": {
     "slide_type": "fragment"
    }
   },
   "source": [
    "- The data type of raw input is string for sure. Here if we check the type of a, although the input is an integer. It is stored as string variable. We have to use float(a) to transfer it to integer values. "
   ]
  },
  {
   "cell_type": "markdown",
   "metadata": {
    "slideshow": {
     "slide_type": "slide"
    }
   },
   "source": [
    "## 2. Data Structures"
   ]
  },
  {
   "cell_type": "markdown",
   "metadata": {
    "slideshow": {
     "slide_type": "slide"
    }
   },
   "source": [
    "## 2.1 Working with Strings"
   ]
  },
  {
   "cell_type": "markdown",
   "metadata": {
    "slideshow": {
     "slide_type": "fragment"
    }
   },
   "source": [
    "-Here we will introduce some basic operation commands on  string variables."
   ]
  },
  {
   "cell_type": "code",
   "execution_count": null,
   "metadata": {
    "collapsed": true,
    "slideshow": {
     "slide_type": "fragment"
    }
   },
   "outputs": [],
   "source": [
    "t = 'Weatherhead School of Management'"
   ]
  },
  {
   "cell_type": "code",
   "execution_count": null,
   "metadata": {
    "collapsed": false,
    "slideshow": {
     "slide_type": "fragment"
    }
   },
   "outputs": [],
   "source": [
    "# if we want to split it into several components\n",
    "t.split()"
   ]
  },
  {
   "cell_type": "code",
   "execution_count": null,
   "metadata": {
    "collapsed": false,
    "slideshow": {
     "slide_type": "slide"
    }
   },
   "outputs": [],
   "source": [
    "# if we want to find something in string variable\n",
    "# if it is found, its location will return. \n",
    "t.find('ool')"
   ]
  },
  {
   "cell_type": "code",
   "execution_count": null,
   "metadata": {
    "collapsed": false,
    "slideshow": {
     "slide_type": "fragment"
    }
   },
   "outputs": [],
   "source": [
    "# if it is not found, numerial value \"-1\" will returned\n",
    "t.find('friend')"
   ]
  },
  {
   "cell_type": "code",
   "execution_count": null,
   "metadata": {
    "collapsed": false,
    "slideshow": {
     "slide_type": "fragment"
    }
   },
   "outputs": [],
   "source": [
    "# if we want to replace something in string variable\n",
    "# here we replace space with '|'\n",
    "t.replace (' ', '|')\n"
   ]
  },
  {
   "cell_type": "code",
   "execution_count": null,
   "metadata": {
    "collapsed": false,
    "slideshow": {
     "slide_type": "slide"
    }
   },
   "outputs": [],
   "source": [
    "# string variable can be added to another string variable. Here the \"add\" means to connect two string variable together.\n",
    "a = \"Case Western Reserve \"\n",
    "b = \"University\"\n",
    "a + b"
   ]
  },
  {
   "cell_type": "code",
   "execution_count": null,
   "metadata": {
    "collapsed": false,
    "slideshow": {
     "slide_type": "fragment"
    }
   },
   "outputs": [],
   "source": [
    "# if we add a string variable to a nemerical variable, Python will complain\n",
    "c = \"Add string to numbers \"\n",
    "d = 15\n",
    "c+d"
   ]
  },
  {
   "cell_type": "code",
   "execution_count": null,
   "metadata": {
    "collapsed": false,
    "slideshow": {
     "slide_type": "slide"
    }
   },
   "outputs": [],
   "source": [
    "# We can also combine the string with our numerical result for output\n",
    "print ('in %d years I have %g %s.' % (3,0.1,'camels'))"
   ]
  },
  {
   "cell_type": "markdown",
   "metadata": {
    "slideshow": {
     "slide_type": "fragment"
    }
   },
   "source": [
    "- Here %d means int variables, %g means float variables, and %s means string variables.\n",
    "- The order should be matched exactly."
   ]
  },
  {
   "cell_type": "markdown",
   "metadata": {
    "slideshow": {
     "slide_type": "slide"
    }
   },
   "source": [
    "### 2.2 Lists"
   ]
  },
  {
   "cell_type": "code",
   "execution_count": null,
   "metadata": {
    "collapsed": true,
    "slideshow": {
     "slide_type": "fragment"
    }
   },
   "outputs": [],
   "source": [
    "# create a new list using square brackets\n",
    "l = [1 , 2, 3 , 4, 5]\n",
    "l2 = [3, 'Jon', 3.124, 'yes']\n",
    "names =[\"Red\", \"yellow\", \"blue\", 'green']\n"
   ]
  },
  {
   "cell_type": "code",
   "execution_count": null,
   "metadata": {
    "collapsed": false,
    "slideshow": {
     "slide_type": "fragment"
    }
   },
   "outputs": [],
   "source": [
    "names[2]"
   ]
  },
  {
   "cell_type": "code",
   "execution_count": null,
   "metadata": {
    "collapsed": false,
    "slideshow": {
     "slide_type": "slide"
    }
   },
   "outputs": [],
   "source": [
    "# List value can be called by its index order. In Python, the order starts from zero.\n",
    "print names[0]\n",
    "print names[:3] # up to but not including 3 ( ie 0 1 and 2)\n",
    "print names[2:4] # start at 2 ( blue) and end at the position before 4\n",
    "print names[-1]  #the last one\n",
    "print names[-2:] #the last two names\n",
    "print names"
   ]
  },
  {
   "cell_type": "code",
   "execution_count": null,
   "metadata": {
    "collapsed": false,
    "slideshow": {
     "slide_type": "fragment"
    }
   },
   "outputs": [],
   "source": [
    "names.append('gold')\n",
    "names"
   ]
  },
  {
   "cell_type": "code",
   "execution_count": null,
   "metadata": {
    "collapsed": false,
    "slideshow": {
     "slide_type": "fragment"
    }
   },
   "outputs": [],
   "source": [
    "# add new value to the list\n",
    "# In list, we can store variable from different data type\n",
    "l.append('date')\n",
    "l"
   ]
  },
  {
   "cell_type": "code",
   "execution_count": null,
   "metadata": {
    "collapsed": false,
    "slideshow": {
     "slide_type": "slide"
    }
   },
   "outputs": [],
   "source": [
    "# remove data from the list\n",
    "l.remove('date')\n",
    "l"
   ]
  },
  {
   "cell_type": "code",
   "execution_count": null,
   "metadata": {
    "collapsed": false,
    "slideshow": {
     "slide_type": "fragment"
    }
   },
   "outputs": [],
   "source": [
    "# List elements can be anything, even other lists\n",
    "mylist = [ 1, 'dogs', 3.15, ['cats', 'lions', 'cheetahs', 5], 10]\n",
    "mylist"
   ]
  },
  {
   "cell_type": "markdown",
   "metadata": {
    "slideshow": {
     "slide_type": "slide"
    }
   },
   "source": [
    "### 2.3 Tuple"
   ]
  },
  {
   "cell_type": "code",
   "execution_count": null,
   "metadata": {
    "collapsed": false,
    "slideshow": {
     "slide_type": "fragment"
    }
   },
   "outputs": [],
   "source": [
    "t_tuple =(1,2,3.5)\n",
    "type(t_tuple)"
   ]
  },
  {
   "cell_type": "code",
   "execution_count": null,
   "metadata": {
    "collapsed": false,
    "slideshow": {
     "slide_type": "fragment"
    }
   },
   "outputs": [],
   "source": [
    "# Tuple variable can be called by index order. It order also begins with zero. \n",
    "t_tuple[0]"
   ]
  },
  {
   "cell_type": "code",
   "execution_count": null,
   "metadata": {
    "collapsed": false,
    "slideshow": {
     "slide_type": "slide"
    }
   },
   "outputs": [],
   "source": [
    "# Use  round () to build tuples\n",
    "stock = ('GOOG',100, 490.10)\n",
    "address =('www.python.org',80)\n",
    "print stock\n",
    "print address"
   ]
  },
  {
   "cell_type": "code",
   "execution_count": null,
   "metadata": {
    "collapsed": false,
    "slideshow": {
     "slide_type": "fragment"
    }
   },
   "outputs": [],
   "source": [
    "# Using tuples on the LHS allows you to extract fields\n",
    "name, shares, price = stock\n",
    "host, port = address\n",
    "print 'Contact %s at %d' %(host, port)"
   ]
  },
  {
   "cell_type": "markdown",
   "metadata": {
    "slideshow": {
     "slide_type": "slide"
    }
   },
   "source": [
    "### 2.4 Dictionaries"
   ]
  },
  {
   "cell_type": "markdown",
   "metadata": {
    "slideshow": {
     "slide_type": "fragment"
    }
   },
   "source": [
    "Dictionaries are key-value stores. They are unordered and unsortable. They can be called by keys."
   ]
  },
  {
   "cell_type": "code",
   "execution_count": null,
   "metadata": {
    "collapsed": false,
    "slideshow": {
     "slide_type": "fragment"
    }
   },
   "outputs": [],
   "source": [
    "# Create a dict variable\n",
    "d = {'Name':'Amy', 'Age':15, 'Grade': 78 }\n",
    "type (d)"
   ]
  },
  {
   "cell_type": "code",
   "execution_count": null,
   "metadata": {
    "collapsed": false,
    "slideshow": {
     "slide_type": "slide"
    }
   },
   "outputs": [],
   "source": [
    "# Check keys\n",
    "d.keys()"
   ]
  },
  {
   "cell_type": "code",
   "execution_count": null,
   "metadata": {
    "collapsed": false,
    "slideshow": {
     "slide_type": "fragment"
    }
   },
   "outputs": [],
   "source": [
    "# Check values of each key\n",
    "d.values()"
   ]
  },
  {
   "cell_type": "markdown",
   "metadata": {
    "slideshow": {
     "slide_type": "slide"
    }
   },
   "source": [
    "- Note that the output values and keys are both unordered."
   ]
  },
  {
   "cell_type": "code",
   "execution_count": null,
   "metadata": {
    "collapsed": false,
    "slideshow": {
     "slide_type": "fragment"
    }
   },
   "outputs": [],
   "source": [
    "d.items()"
   ]
  },
  {
   "cell_type": "code",
   "execution_count": null,
   "metadata": {
    "collapsed": false,
    "slideshow": {
     "slide_type": "slide"
    }
   },
   "outputs": [],
   "source": [
    "capital_country = {\"United States\" : \"Washington\", \n",
    "                   \"US\" : \"Washington\", \n",
    "                   \"Canada\" : \"Ottawa\",\n",
    "                   \"Germany\": \"Berlin\",\n",
    "                   \"France\" : \"Paris\",\n",
    "                   \"England\" : \"London\",\n",
    "                   \"UK\" : \"London\",\n",
    "                   \"Switzerland\" : \"Bern\",\n",
    "                   \"Austria\" : \"Vienna\",\n",
    "                   \"Netherlands\" : \"Amsterdam\"}\n",
    "\n",
    "print(\"Countries and their capitals:\")\n",
    "for c in capital_country:\n",
    "    print(\"{country}: {capital}\".format(country=c, capital=capital_country[c]))"
   ]
  },
  {
   "cell_type": "code",
   "execution_count": null,
   "metadata": {
    "collapsed": false
   },
   "outputs": [],
   "source": [
    "dica ={'A': 10, 'B': 12, 'C': 4}\n",
    "for total in dica:\n",
    "    print(dica[total]) \n"
   ]
  },
  {
   "cell_type": "code",
   "execution_count": null,
   "metadata": {
    "collapsed": false
   },
   "outputs": [],
   "source": [
    "dica = {'A': 10, 'B': 12, 'C': 4}\n",
    "# We can get the values right away as follows\n",
    "for total in dica.values():\n",
    "    print total\n",
    "    "
   ]
  },
  {
   "cell_type": "code",
   "execution_count": null,
   "metadata": {
    "collapsed": false
   },
   "outputs": [],
   "source": [
    "dica = {'A': 10, 'B': 12, 'C': 4}\n",
    "for  XXX, YYY in dica.items():\n",
    "    print('{} Subjects were in System {}'.format(YYY, XXX))"
   ]
  },
  {
   "cell_type": "code",
   "execution_count": null,
   "metadata": {
    "collapsed": false
   },
   "outputs": [],
   "source": [
    "dica = {(1,2,3): 'abc', 3.2: 'balls'}"
   ]
  },
  {
   "cell_type": "markdown",
   "metadata": {
    "slideshow": {
     "slide_type": "slide"
    }
   },
   "source": [
    "'A dictionary is unordered groups. The only association is through keys.\n",
    "'They are mutable so you can add to them, change them etc."
   ]
  },
  {
   "cell_type": "code",
   "execution_count": null,
   "metadata": {
    "collapsed": false
   },
   "outputs": [],
   "source": [
    "Gradebook = {'Peter': 94, 'David': 67, 'Dick': 45}\n",
    "print(Gradebook['David'])\n"
   ]
  },
  {
   "cell_type": "code",
   "execution_count": null,
   "metadata": {
    "collapsed": false
   },
   "outputs": [],
   "source": [
    "Gradebook['David']= 54\n",
    "print(Gradebook)"
   ]
  },
  {
   "cell_type": "code",
   "execution_count": null,
   "metadata": {
    "collapsed": false
   },
   "outputs": [],
   "source": [
    "Gradebook['Danny']= 99\n",
    "print(Gradebook)"
   ]
  },
  {
   "cell_type": "code",
   "execution_count": null,
   "metadata": {
    "collapsed": false
   },
   "outputs": [],
   "source": [
    "del Gradebook['Dick']\n",
    "print(Gradebook)"
   ]
  },
  {
   "cell_type": "code",
   "execution_count": 3,
   "metadata": {
    "collapsed": false
   },
   "outputs": [
    {
     "name": "stdout",
     "output_type": "stream",
     "text": [
      "k2\n",
      "k1\n",
      "3\n",
      "1\n",
      "('k2', 3)\n",
      "('k1', 1)\n"
     ]
    }
   ],
   "source": [
    "dica = {'k1': 1, 'k2': 3}\n",
    "for k in dica.iterkeys():\n",
    "    print k\n",
    "for k in dica.itervalues():\n",
    "    print k\n",
    "for k in dica.iteritems():\n",
    "    print k\n"
   ]
  },
  {
   "cell_type": "code",
   "execution_count": 4,
   "metadata": {
    "collapsed": false
   },
   "outputs": [
    {
     "data": {
      "text/plain": [
       "dict_items([('k2', 3), ('k1', 1)])"
      ]
     },
     "execution_count": 4,
     "metadata": {},
     "output_type": "execute_result"
    }
   ],
   "source": [
    "dica.viewitems()"
   ]
  },
  {
   "cell_type": "code",
   "execution_count": 5,
   "metadata": {
    "collapsed": false
   },
   "outputs": [
    {
     "name": "stdout",
     "output_type": "stream",
     "text": [
      "{'Peter': [94, 39], 'Dick': [45, 65], 'David': [67, 92]}\n",
      "[94, 39]\n",
      "94\n"
     ]
    }
   ],
   "source": [
    "# There is a second test so we started off with say\n",
    "Gradebook = {'Peter': 94, 'David': 67, 'Dick': 45}\n",
    "# But now we have \n",
    "Gradebook = {'Peter': [94,39], \n",
    "             'David': [67,92], \n",
    "             'Dick': [45, 65]}\n",
    "print Gradebook \n",
    "print Gradebook['Peter']\n",
    "print Gradebook['Peter'][0]"
   ]
  },
  {
   "cell_type": "raw",
   "metadata": {
    "slideshow": {
     "slide_type": "slide"
    }
   },
   "source": [
    "# Writing a Program for student grades \n",
    "\n",
    "dic_sec = {'Peter':'phr', 'Grader': 'pass'}\n",
    "# This is a security with names ( logins or keys  ) and passwords \n",
    "\n",
    "\n",
    "\n",
    "\n",
    "def mymain():\n",
    "    print( \"\"\"\n",
    "    Welcome to Grade Central for this class\n",
    "    \n",
    "    [1] Enter Student\n",
    "    [2] Remove Student\n",
    "    [3] Enter Grade for Student\n",
    "    [4] Compute Student Average Grade\n",
    "    \"\"\" )\n",
    "    \n",
    "    action= input('What would you like to do? ( Enter a number) ' )\n",
    "    if action == 1:\n",
    "        print '1'\n",
    "    elif action == 2:\n",
    "        print '2'\n",
    "    elif action == 3:\n",
    "        print '3'\n",
    "    elif action == 4:\n",
    "        print '4'\n",
    "    else:\n",
    "        print( 'You have made a Fatal error. The world may end')\n",
    "        \n",
    "    \n",
    "     \n",
    "\n",
    "login = input('Enter Username:  ') \n",
    "password =  input('Password:  ')\n",
    "\n",
    "if login in dic_sec:\n",
    "    if dic_sec[login] == password:\n",
    "        print('Welcome', 'login')\n",
    "        while True:\n",
    "            main()\n",
    "    else:\n",
    "        print(\"Invalid Password.\")\n",
    "else:\n",
    "    print('Invalid uswername')\n",
    "              \n",
    " \n",
    "              \n",
    "mymain()\n",
    "              \n",
    "              \n",
    "              \n",
    "              \n",
    "    \n"
   ]
  },
  {
   "cell_type": "markdown",
   "metadata": {
    "slideshow": {
     "slide_type": "slide"
    }
   },
   "source": [
    "\n",
    "## 3. Homework"
   ]
  },
  {
   "cell_type": "markdown",
   "metadata": {
    "slideshow": {
     "slide_type": "fragment"
    }
   },
   "source": [
    "(1) Let the user  define an input radius value. Then you have to compute  the calculation of circumference and area of the circle with this radius. At last, you have to use two print statement to output your calculation result (please round the results to two decimal points)."
   ]
  },
  {
   "cell_type": "markdown",
   "metadata": {
    "slideshow": {
     "slide_type": "fragment"
    }
   },
   "source": [
    "Hint 1: You can change a variable mn to float type by: float(mn). You can change a variable mn to string type by: str(mn)"
   ]
  },
  {
   "cell_type": "markdown",
   "metadata": {
    "slideshow": {
     "slide_type": "fragment"
    }
   },
   "source": [
    "Hint 2: You can use round function to round your result."
   ]
  },
  {
   "cell_type": "markdown",
   "metadata": {
    "slideshow": {
     "slide_type": "fragment"
    }
   },
   "source": [
    "Hint 3: Pi is stored in math package."
   ]
  }
 ],
 "metadata": {
  "kernelspec": {
   "display_name": "Python 2",
   "language": "python",
   "name": "python2"
  },
  "language_info": {
   "codemirror_mode": {
    "name": "ipython",
    "version": 2
   },
   "file_extension": ".py",
   "mimetype": "text/x-python",
   "name": "python",
   "nbconvert_exporter": "python",
   "pygments_lexer": "ipython2",
   "version": "2.7.13"
  }
 },
 "nbformat": 4,
 "nbformat_minor": 0
}
