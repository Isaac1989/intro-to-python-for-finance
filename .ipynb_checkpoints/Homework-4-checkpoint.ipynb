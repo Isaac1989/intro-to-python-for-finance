{
 "cells": [
  {
   "cell_type": "markdown",
   "metadata": {},
   "source": [
    "# Imports"
   ]
  },
  {
   "cell_type": "code",
   "execution_count": 9,
   "metadata": {
    "collapsed": true
   },
   "outputs": [],
   "source": [
    "import matplotlib.pyplot as plt\n",
    "import numpy as np\n",
    "import seaborn as sns\n",
    "import pandas as pd"
   ]
  },
  {
   "cell_type": "code",
   "execution_count": 2,
   "metadata": {
    "collapsed": true
   },
   "outputs": [],
   "source": [
    "%matplotlib inline"
   ]
  },
  {
   "cell_type": "markdown",
   "metadata": {},
   "source": [
    "# Data to be used in this project"
   ]
  },
  {
   "cell_type": "code",
   "execution_count": 197,
   "metadata": {
    "collapsed": true
   },
   "outputs": [],
   "source": [
    "drinks=pd.read_csv('http://bit.ly/drinksbycountry')  # Alcohol comsumption by country\n",
    "titanic = sns.load_dataset('titanic')                # Data about the tittanic tragedy\n",
    "titanic = titanic[titanic.age.notnull()]\n",
    "iris  = sns.load_dataset('iris')                     # Data about the three flowers in the iris dataset"
   ]
  },
  {
   "cell_type": "markdown",
   "metadata": {},
   "source": [
    "# Helpful tips for dataframes manipulation \n",
    "1. if column name of dataframe `A` has space in it like \"column names\", use\n",
    "```python\n",
    "A[\"column names\"]  # gets column `column name`\n",
    "```\n",
    "\n",
    "2. If columns name of dataframe has no space in it like \"column_name\", use the dot notation or the approach in 1.\n",
    "```python\n",
    "A.column_name    # gets column `column_name`\n",
    "```\n",
    "3. The first few columns of data set A\n",
    "```python\n",
    "A.head(n = 5)  # the argument n can be any number up to the number of observations in the data set\n",
    "```\n",
    "\n",
    "4. Columns of data set A that need droping\n",
    "\n",
    "```python\n",
    "ind, = np.nonzero(np.array([x.name for x in A.dtypes.values]) == 'object')\n",
    "to_drop = [x for i,x in enumerate(A.dtypes.index.values) if i in ind]\n",
    "# dropping columns to_drop\n",
    "A.drop(to_drop, axis = 1, inplace = True)\n",
    "```\n",
    "\n",
    "5. Dimension of data set A\n",
    "\n",
    "```python\n",
    "A.shape   # return a tuple (nrows, ncols). Example (34,4)\n",
    "```"
   ]
  },
  {
   "cell_type": "markdown",
   "metadata": {},
   "source": [
    "# Problem 1\n",
    "Some of the names of the plotting function in seaborn can be a little confusing, example the `jointplot` which is popuplar known for scatter plotting is not as intuitive as one may think.\n",
    "\n",
    "- Create a function called `scatterplot`, takes two arguments `x` and `y`, `kind`.\n",
    "    - The function should wrap around the `jointplot`.\n",
    "    - The `kind` parameter should have values \"scatter\" or \"hex\" to return a scatter or hexbin plot. Here note that you may want to consider using the hexbin matplotlib namespace or the \"kind\" parameter in jointplot\n",
    "    \n",
    "Here is something to get you started:\n",
    "\n",
    "```python\n",
    "def scatterplot(x, y, kind = None):\n",
    "    if kind is None:\n",
    "        pass  # implement scatter plot stuff here\n",
    "    else:\n",
    "        pass # implement hexbin stuff here\n",
    "```\n",
    "- Test your code with columns `beer_servings` and `wine_servings` in the `drinks` data set"
   ]
  },
  {
   "cell_type": "code",
   "execution_count": null,
   "metadata": {
    "collapsed": true
   },
   "outputs": [],
   "source": []
  },
  {
   "cell_type": "markdown",
   "metadata": {},
   "source": [
    "# Problem 2\n",
    "\n",
    "We are going to create our own **`pairplot-like`** function.\n",
    "Using seaborns style settings `whitegrid`, create a function using matplotlib's `scatter` function to create function called `pairPlot`. \n",
    "\n",
    "Guidlines:\n",
    "1. It should take in the argument `data`, `s`, `c` and `**kw`\n",
    "2. Determine the number of numerical columns and call it `ncol`\n",
    "3. Create square subplots of size `ncol by ncol`\n",
    "4. Plot each pair of variable on each axes.\n",
    "5. return the axes objects\n",
    "6. Test your function with the **iris** data set\n"
   ]
  },
  {
   "cell_type": "code",
   "execution_count": null,
   "metadata": {
    "collapsed": true
   },
   "outputs": [],
   "source": []
  },
  {
   "cell_type": "markdown",
   "metadata": {},
   "source": [
    "# Problem 3\n",
    "\n",
    "In this problem we are going to stimulate a random walk of stock price\n",
    "\n",
    "RANDOM WALK:\n",
    "    For every time step, the stock moves up or down by $\\pm 1$. Here the distance it moves is per time (seconds) is 1. We assume that the stock always starts at time 0 with no step taken. Thus it starts at point (0,0)\n",
    "    \n",
    "1. Create a function **`random_walk`** that takes in the number of time step and distance as parameter\n",
    "2. Stimulate your random walk for the following\n",
    "    1. steps: 1, 0.5, 0.3, 0.1\n",
    "    2. total time: 1min = 60sec, 2mins, 1.5mins\n",
    "    \n",
    "    Note you shold have 12 graphs \n",
    "3. Simulte your random walk for the steps in 2.A on the same graph for the total_time 10mins\n",
    "4. Make sure your graph is well labeled for both the x and y axis. give it a title and while you at it provide a legend when necessary"
   ]
  },
  {
   "cell_type": "code",
   "execution_count": null,
   "metadata": {
    "collapsed": true
   },
   "outputs": [],
   "source": []
  },
  {
   "cell_type": "markdown",
   "metadata": {},
   "source": [
    "# Problem 4\n",
    "\n",
    "This next problem is aimed at exploring the titanic data set. If you have run the third cell of this notebook, you should have the __`titanic`__ dataframe in your namespace.\n",
    "\n",
    "1. Using seaborn _`countplot`_ function, make a bar graph of __`class`__ by __`sex`__ \n",
    "2. Using seaborn _`barplot`_ function, make a bar graph of __`class`__ by __`survived`__ and further segmented by  __`sex`__. What do you notice? Can you explain why?\n",
    "3. Using seaborn _`distplot`_, function make both the kernel density graph and histogram of the __`age`__ variable. Also make the rug plot on the same graph. What do you notice?\n",
    "4. make a comparison between the distribution of the **`age`** by **`sex`**. Use a __boxplot__. What do you notice?\n",
    "5. Make a _`violinplot`_ of __`fare`__ by __`class`__ and overlay/color it by __`sex`__. Next make a swarm plot on the same graph. Make a comment on what you see\n",
    "6. Using the code below:\n",
    "   1. Among the **`survived`**, make a plot indicating the distribution (Boxplot) of **`age`** by **`sex`**. Do same for those that are **`dead`** and plot both on the same canvas. Comment on what you see\n",
    "   2. Make plot of the fare distribution (kernel density plot) of both survived and dead on the same canvas Comment on what you see\n",
    "  \n",
    "  \n",
    "```python\n",
    "survived = titanic.loc[titanic.survived == 1,:]\n",
    "dead = titanic.loc[titanic.survived == 0,:]\n",
    "```\n",
    "  "
   ]
  },
  {
   "cell_type": "code",
   "execution_count": null,
   "metadata": {
    "collapsed": true
   },
   "outputs": [],
   "source": []
  }
 ],
 "metadata": {
  "kernelspec": {
   "display_name": "Python 2",
   "language": "python",
   "name": "python2"
  },
  "language_info": {
   "codemirror_mode": {
    "name": "ipython",
    "version": 2
   },
   "file_extension": ".py",
   "mimetype": "text/x-python",
   "name": "python",
   "nbconvert_exporter": "python",
   "pygments_lexer": "ipython2",
   "version": "2.7.13"
  }
 },
 "nbformat": 4,
 "nbformat_minor": 2
}
