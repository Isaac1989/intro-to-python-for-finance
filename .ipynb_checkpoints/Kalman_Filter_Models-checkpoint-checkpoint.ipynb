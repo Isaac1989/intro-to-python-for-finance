{
 "cells": [
  {
   "cell_type": "markdown",
   "metadata": {},
   "source": [
    "## Example of the Kalman Filter\n",
    "\n",
    "1. We have a 2-D  Geometric Wiener Process\n",
    "2. Our observations are the sum and the difference\n",
    "3. We fitsr simulate some data\n",
    "4. We then use the data to estimate the parameters \n",
    "\n",
    "$$X_{t+1} = Ax_t + a + \\sigma Z_{t+1} $$\n",
    "\n",
    "There are 8 parameters  specified in the list L.\n",
    "\n",
    "where $a_{11}, $a_{12}$, $a_{21}$ and $a_{22}$. We also have $\\sigma_{11}$, $\\sigma_{21}$ and $\\sigma_{22}$ \n",
    "\n",
    "The measurement errors are $sigm_1$ and $sigm_2$. \n",
    "\n",
    "We assume the initial values are (10,10), assumed to be known\n",
    "\n",
    "We simulate data from this process for 100 periods. So we have 100 observations.\n",
    "\n",
    "At each period we have two measures, namely the sum and the difference. Both are measured with error. Sp Y is 100 by 2\n",
    "\n",
    "We store this data as a csv file and then we try and estimate the parameters. lets see how well we do.\n"
   ]
  },
  {
   "cell_type": "markdown",
   "metadata": {},
   "source": [
    "## Step 0: Import modules that will be needed\n"
   ]
  },
  {
   "cell_type": "code",
   "execution_count": 1,
   "metadata": {
    "collapsed": true
   },
   "outputs": [],
   "source": [
    "import scipy.optimize as sco\n",
    "from scipy import optimize\n",
    "from numpy import  linalg\n",
    "from numpy.linalg import inv\n",
    "import matplotlib.pyplot as plt\n",
    "import pandas as pd\n",
    "import numpy as np, numpy.linalg as la"
   ]
  },
  {
   "cell_type": "code",
   "execution_count": null,
   "metadata": {
    "collapsed": true
   },
   "outputs": [],
   "source": [
    "%matplotlib inline"
   ]
  },
  {
   "cell_type": "code",
   "execution_count": 1,
   "metadata": {
    "collapsed": false
   },
   "outputs": [
    {
     "data": {
      "application/json": {
       "cell": {
        "!": "OSMagics",
        "HTML": "Other",
        "SVG": "Other",
        "bash": "Other",
        "capture": "ExecutionMagics",
        "debug": "ExecutionMagics",
        "file": "Other",
        "html": "DisplayMagics",
        "javascript": "DisplayMagics",
        "js": "DisplayMagics",
        "latex": "DisplayMagics",
        "perl": "Other",
        "prun": "ExecutionMagics",
        "pypy": "Other",
        "python": "Other",
        "python2": "Other",
        "python3": "Other",
        "ruby": "Other",
        "script": "ScriptMagics",
        "sh": "Other",
        "svg": "DisplayMagics",
        "sx": "OSMagics",
        "system": "OSMagics",
        "time": "ExecutionMagics",
        "timeit": "ExecutionMagics",
        "writefile": "OSMagics"
       },
       "line": {
        "alias": "OSMagics",
        "alias_magic": "BasicMagics",
        "autocall": "AutoMagics",
        "automagic": "AutoMagics",
        "autosave": "KernelMagics",
        "bookmark": "OSMagics",
        "cat": "Other",
        "cd": "OSMagics",
        "clear": "KernelMagics",
        "colors": "BasicMagics",
        "config": "ConfigMagics",
        "connect_info": "KernelMagics",
        "cp": "Other",
        "debug": "ExecutionMagics",
        "dhist": "OSMagics",
        "dirs": "OSMagics",
        "doctest_mode": "BasicMagics",
        "ed": "Other",
        "edit": "KernelMagics",
        "env": "OSMagics",
        "gui": "BasicMagics",
        "hist": "Other",
        "history": "HistoryMagics",
        "killbgscripts": "ScriptMagics",
        "ldir": "Other",
        "less": "KernelMagics",
        "lf": "Other",
        "lk": "Other",
        "ll": "Other",
        "load": "CodeMagics",
        "load_ext": "ExtensionMagics",
        "loadpy": "CodeMagics",
        "logoff": "LoggingMagics",
        "logon": "LoggingMagics",
        "logstart": "LoggingMagics",
        "logstate": "LoggingMagics",
        "logstop": "LoggingMagics",
        "ls": "Other",
        "lsmagic": "BasicMagics",
        "lx": "Other",
        "macro": "ExecutionMagics",
        "magic": "BasicMagics",
        "man": "KernelMagics",
        "matplotlib": "PylabMagics",
        "mkdir": "Other",
        "more": "KernelMagics",
        "mv": "Other",
        "notebook": "BasicMagics",
        "page": "BasicMagics",
        "pastebin": "CodeMagics",
        "pdb": "ExecutionMagics",
        "pdef": "NamespaceMagics",
        "pdoc": "NamespaceMagics",
        "pfile": "NamespaceMagics",
        "pinfo": "NamespaceMagics",
        "pinfo2": "NamespaceMagics",
        "popd": "OSMagics",
        "pprint": "BasicMagics",
        "precision": "BasicMagics",
        "profile": "BasicMagics",
        "prun": "ExecutionMagics",
        "psearch": "NamespaceMagics",
        "psource": "NamespaceMagics",
        "pushd": "OSMagics",
        "pwd": "OSMagics",
        "pycat": "OSMagics",
        "pylab": "PylabMagics",
        "qtconsole": "KernelMagics",
        "quickref": "BasicMagics",
        "recall": "HistoryMagics",
        "rehashx": "OSMagics",
        "reload_ext": "ExtensionMagics",
        "rep": "Other",
        "rerun": "HistoryMagics",
        "reset": "NamespaceMagics",
        "reset_selective": "NamespaceMagics",
        "rm": "Other",
        "rmdir": "Other",
        "run": "ExecutionMagics",
        "save": "CodeMagics",
        "sc": "OSMagics",
        "set_env": "OSMagics",
        "store": "StoreMagics",
        "sx": "OSMagics",
        "system": "OSMagics",
        "tb": "ExecutionMagics",
        "time": "ExecutionMagics",
        "timeit": "ExecutionMagics",
        "unalias": "OSMagics",
        "unload_ext": "ExtensionMagics",
        "who": "NamespaceMagics",
        "who_ls": "NamespaceMagics",
        "whos": "NamespaceMagics",
        "xdel": "NamespaceMagics",
        "xmode": "BasicMagics"
       }
      },
      "text/plain": [
       "Available line magics:\n",
       "%alias  %alias_magic  %autocall  %automagic  %autosave  %bookmark  %cat  %cd  %clear  %colors  %config  %connect_info  %cp  %debug  %dhist  %dirs  %doctest_mode  %ed  %edit  %env  %gui  %hist  %history  %killbgscripts  %ldir  %less  %lf  %lk  %ll  %load  %load_ext  %loadpy  %logoff  %logon  %logstart  %logstate  %logstop  %ls  %lsmagic  %lx  %macro  %magic  %man  %matplotlib  %mkdir  %more  %mv  %notebook  %page  %pastebin  %pdb  %pdef  %pdoc  %pfile  %pinfo  %pinfo2  %popd  %pprint  %precision  %profile  %prun  %psearch  %psource  %pushd  %pwd  %pycat  %pylab  %qtconsole  %quickref  %recall  %rehashx  %reload_ext  %rep  %rerun  %reset  %reset_selective  %rm  %rmdir  %run  %save  %sc  %set_env  %store  %sx  %system  %tb  %time  %timeit  %unalias  %unload_ext  %who  %who_ls  %whos  %xdel  %xmode\n",
       "\n",
       "Available cell magics:\n",
       "%%!  %%HTML  %%SVG  %%bash  %%capture  %%debug  %%file  %%html  %%javascript  %%js  %%latex  %%perl  %%prun  %%pypy  %%python  %%python2  %%python3  %%ruby  %%script  %%sh  %%svg  %%sx  %%system  %%time  %%timeit  %%writefile\n",
       "\n",
       "Automagic is ON, % prefix IS NOT needed for line magics."
      ]
     },
     "execution_count": 1,
     "metadata": {},
     "output_type": "execute_result"
    }
   ],
   "source": [
    "%config\n"
   ]
  },
  {
   "cell_type": "markdown",
   "metadata": {},
   "source": [
    "## Step 1: Simulate the data "
   ]
  },
  {
   "cell_type": "markdown",
   "metadata": {},
   "source": [
    "## Lets simulate our problem \n",
    "1. We will simulate the dynamics for 100 periods\n",
    "2. We will simulate measurements for forecasts \n",
    "3. we will Use Kalman filter to see how well we can estimate.\n",
    "\n",
    "\n"
   ]
  },
  {
   "cell_type": "code",
   "execution_count": 2,
   "metadata": {
    "collapsed": false
   },
   "outputs": [
    {
     "data": {
      "image/png": "[encoded data removed]",
      "text/plain": [
       "<matplotlib.figure.Figure at 0x471d5c0>"
      ]
     },
     "metadata": {},
     "output_type": "display_data"
    }
   ],
   "source": [
    "# Example \n",
    "# Check kalman filter using a simple problem \n",
    "T=100    #time period\n",
    "n_obs =100   #no. of observation points\n",
    "n_states = 2\n",
    "\n",
    "# There are 9 parameters that have to be estimated\n",
    "\n",
    "L = [ 1.0,0.0, 0.0,1.0,   1.0,0.0,1.0,  0.01,0.02]\n",
    "\n",
    "X=np.zeros((n_states, n_obs))\n",
    "X[:,0]= 10.0\n",
    "\n",
    "\n",
    "t_ax=np.linspace(0,T,n_obs)\n",
    "\n",
    "##State process  X = 2d standard BM\n",
    "A=np.eye(2)   #State transition X_{k+1}=FX_k+f+sqrt(Q)z\n",
    "a=0\n",
    "A = np.array([[L[0], L[1]],[L[2], L[3]]])\n",
    "\n",
    "\n",
    "Sigma = np.array([[L[4], 0],[L[5],L[6]]])\n",
    "Q = np.dot(Sigma, Sigma.T)\n",
    "Z=np.random.normal(0,1,2*n_obs)\n",
    "Z = np.reshape(Z, (2,n_obs))\n",
    "\n",
    "for i in range(0,n_obs-1):\n",
    "    X[:,i+1]= np.dot(A,X[:,i])   +a  +np.dot(Sigma,Z[:,i])\n",
    "\n",
    "\n",
    "plt.plot(t_ax,X[0,:],t_ax, X[1,:]) \n",
    "\n",
    "# Save the X data \n",
    "df = pd.DataFrame(X)\n",
    "df.to_csv(\"mydataX.csv\", header = None)\n",
    "#print X[1,:]"
   ]
  },
  {
   "cell_type": "code",
   "execution_count": 3,
   "metadata": {
    "collapsed": false
   },
   "outputs": [
    {
     "data": {
      "image/png": "[encoded data removed]",
      "text/plain": [
       "<matplotlib.figure.Figure at 0x8997e48>"
      ]
     },
     "metadata": {},
     "output_type": "display_data"
    }
   ],
   "source": [
    "#Measurement process Y =[X[1,:]+X[2,:]; X[1,:]-X[2,:]]\n",
    "# We save the data in a file \n",
    "\n",
    "H=np.array([[1, 1],[1,-1] ])\n",
    "h=np.zeros((2,1))\n",
    "\n",
    "R=np.eye(2)\n",
    "R[0,0]= L[7]\n",
    "R[1,1] = L[8]\n",
    "\n",
    "Z2 = np.random.normal(0,1,2*n_obs)\n",
    "Z2 = np.reshape(Z2,(2,n_obs))\n",
    "\n",
    "chol_R = la.cholesky(R)\n",
    "\n",
    "meas_noise= np.dot(chol_R, Z2)\n",
    "\n",
    "Y= np.dot(H,X) + h + meas_noise\n",
    "\n",
    "plt.plot(t_ax, Y[0,:], t_ax,Y[1,:] )\n",
    "\n",
    "# Save the Y data \n",
    "df = pd.DataFrame(Y)\n",
    "df.to_csv(\"mydataY1.csv\", header = None)\n"
   ]
  },
  {
   "cell_type": "markdown",
   "metadata": {},
   "source": [
    "# The Kalman Filter"
   ]
  },
  {
   "cell_type": "markdown",
   "metadata": {},
   "source": [
    "# This program does Kalman Filter for the following problem \n",
    "$$ X_{t+1} = AX_t + a + \\sqrt{Q}Z_{t+1}$$\n",
    "\n",
    "The measurements have the form \n",
    "\n",
    "$$ Y_t = HX_t + h + RW_t$$\n",
    "\n",
    "Q is n_states  by n_states, R is n_measures by nmeasures (diagonal), Z and W are uncorrelated normals \n",
    "\n",
    "We have n_obs by n_measures matrix of observations \n",
    "\n",
    "Step 1:\n",
    "We specify A, a, h and H, R and all the parameters in a dictionary\n",
    "\n",
    "Step 2\n",
    "We initialize a bunch of stuff and read in the data \n",
    "\n",
    "Step 3\n",
    "We do the optimization calling the likelihood function\n",
    "\n",
    "Step 4\n",
    "We tidy up the output and present the results \n"
   ]
  },
  {
   "cell_type": "markdown",
   "metadata": {},
   "source": [
    "## Step 1:  Bring the data into a numpy array and make it global "
   ]
  },
  {
   "cell_type": "code",
   "execution_count": 4,
   "metadata": {
    "collapsed": false
   },
   "outputs": [
    {
     "name": "stdout",
     "output_type": "stream",
     "text": [
      "[ 20.02702346  -0.08154218]\n",
      "100\n",
      "2\n"
     ]
    }
   ],
   "source": [
    "# I am assuming the data file is in the current directory where this file is located.\n",
    "\n",
    "def func_data():\n",
    "    # Data is a matrix Y. This routine reads in mydataY into a pandas dataframe\n",
    "    global Y\n",
    "    df=pd.read_csv('mydataY.csv', sep=',',header=None)\n",
    "    Y = df.values\n",
    "     \n",
    "    n_obs = np.int(Y.shape[1] )           #This counts the number of columns \n",
    "    n_measures = np.int(Y.shape[0])       # This counts the number of rows\n",
    "    # delete the first column which is 0,1   \n",
    "    Y = np.delete(Y, 0, axis = 1)\n",
    "    n_obs = n_obs-1\n",
    "    return n_obs, n_measures\n",
    "\n",
    "\n",
    "\n",
    "\n",
    "# Testing  function\n",
    "n_obs,n_measures= func_data()\n",
    "print Y[:,0]\n",
    "print n_obs\n",
    "print n_measures\n",
    "\n"
   ]
  },
  {
   "cell_type": "markdown",
   "metadata": {},
   "source": [
    "## Step 2: Make a dictionary with all the  initial parameters and appropriate matrices"
   ]
  },
  {
   "cell_type": "code",
   "execution_count": 5,
   "metadata": {
    "collapsed": false
   },
   "outputs": [],
   "source": [
    "def make_dict(pars, SP, n_obs, n_states, n_measures):\n",
    "    '''This routine creates a dictionary of all the information needed'''\n",
    "# Specify smaple size and dimensions\n",
    "# Make sure SP is set up as an empty dict before calling this routine\n",
    "\n",
    "                        #input('how many observations in your time series?')\n",
    "                        # input( 'how many state variables?')\n",
    "                        # input('how many different measures do you have?')\n",
    "    a11 = pars[0]\n",
    "    a12 = pars[1]\n",
    "    a21 = pars[2]\n",
    "    a22 = pars[3]\n",
    "   \n",
    "    sig11 = pars[4]\n",
    "    sig21 = pars[5]\n",
    "    sig22 = pars[6]\n",
    "    \n",
    "    sigm1 = pars[7]\n",
    "    sigm2 = pars[8]\n",
    "    \n",
    "    \n",
    "# Specify a and A       \n",
    "    a = np.array([0,0])\n",
    "    A = np.zeros((2,2))\n",
    "    A[0,0] = a11\n",
    "    A[0,1] = a12\n",
    "    A[1,0] = a21\n",
    "    A[1,1] = a22\n",
    "\n",
    "# Specify Q\n",
    "    Sig = np.zeros((2,2))\n",
    "    Sig[0,0] = sig11\n",
    "    Sig[0,1] = 0.0\n",
    "    Sig[1,0] = sig21\n",
    "    Sig[1,1] = sig22\n",
    "    Q = np.dot(Sig,Sig)\n",
    "    \n",
    "        \n",
    "# Specify H and h\n",
    "    H = np.array([[1,1], [1,-1]])\n",
    "    h =  np.array([0,0])\n",
    "   \n",
    "        \n",
    "# Create R\n",
    "    R = np.eye(2)\n",
    "    R[0,0]= sigm1\n",
    "    R[1,1] = sigm2\n",
    "    \n",
    "# Create P_init and x_init\n",
    "        \n",
    "    P_init = np.eye(2)\n",
    "        \n",
    "    x_init = np.array([10,10])\n",
    "\n",
    "# Put everything in a dictionary\n",
    "        \n",
    "   \n",
    "    SP[\"params\"]= pars\n",
    "    SP[\"A\"]= A\n",
    "    SP[\"a\"] = a\n",
    "    SP['Q'] = Q\n",
    "    SP[\"H\"] = H\n",
    "    SP[\"h\"]= h\n",
    "    SP[\"x\"]= x_init\n",
    "    SP[\"P\"] = P_init\n",
    "    SP[\"R\"]= R\n",
    "    SP[\"n_obs\"]= n_obs\n",
    "    SP['n_states']= n_states\n",
    "    SP['n_measures'] = n_measures\n",
    "    return SP\n",
    "        \n",
    "#Test this function\n",
    "\n",
    "#print init_pars\n",
    "SP = {}\n",
    "pars =  [1.,1.,1.,1.,0.1,0.2, 0.5, 0.02,0.01] \n",
    "\n",
    "n_states = 2\n",
    "make_dict(pars, SP, n_obs,n_states, n_measures)\n",
    "#print SP \n",
    "nobs = SP['n_obs']\n",
    "#print 'nobs',n_obs"
   ]
  },
  {
   "cell_type": "code",
   "execution_count": 6,
   "metadata": {
    "collapsed": false
   },
   "outputs": [],
   "source": [
    "def nearPSD(A,epsilon=0):\n",
    "   n = A.shape[0]\n",
    "   eigval, eigvec = np.linalg.eig(A)\n",
    "   val = np.matrix(np.maximum(eigval,epsilon))\n",
    "   vec = np.matrix(eigvec)\n",
    "   T = 1/(np.multiply(vec,vec) * val.T)\n",
    "   T = np.matrix(np.sqrt(np.diag(np.array(T).reshape((n)) )))\n",
    "   B = T * vec * np.diag(np.array(np.sqrt(val)).reshape((n)))\n",
    "   out = B*B.T\n",
    "   return(out)\n",
    "\n",
    "#nearPSD(np.matrix([[2,-1,0,0],[-1,2,-1,0],[0,-1,2,-1],[0,0,-1,2]]),epsilon=0)"
   ]
  },
  {
   "cell_type": "markdown",
   "metadata": {},
   "source": [
    "## Step 3: This is the Kalman Filter routines\n",
    "1. Predict, Update and Likelihood  for each time slice \n",
    "2. Time series for total Likelihood"
   ]
  },
  {
   "cell_type": "markdown",
   "metadata": {},
   "source": [
    "### Step 3a: Routines for each time slice"
   ]
  },
  {
   "cell_type": "code",
   "execution_count": 9,
   "metadata": {
    "collapsed": false
   },
   "outputs": [
    {
     "name": "stdout",
     "output_type": "stream",
     "text": [
      " initial x [10 10] (2L,)\n",
      "x out of Predict is  [ 20.  20.]\n",
      "x enters update as [ 20.  20.]\n",
      "IM [ 40.   0.] (2L,)\n",
      "K [[ 0.49728797  0.46449704]\n",
      " [ 0.50024655 -0.46646943]] (2L, 2L)\n",
      " y - IM [-17.70670588  -0.10603948] (2L,)\n",
      "x is now [ 20.  20.]\n",
      "zeta [-8.85458682 -8.80825432] (2L,)\n",
      "x about to leave update is  [ 11.14541318  11.19174568]\n",
      "y [ 22.29329412  -0.10603948]\n",
      "x is  [ 11.14541318  11.19174568]  The shape of x is H  (2L,)\n",
      "zeta [ 22.33715886  -0.0463325 ] (2L,)\n",
      "H [[ 1  1]\n",
      " [ 1 -1]] (2L, 2L)\n",
      "err [-0.04386474 -0.05970698]\n",
      "x after update is  [ 11.14541318  11.19174568]\n",
      "x out of Predict is  [ 22.33715886  22.33715886]\n",
      "x enters update as [ 22.33715886  22.33715886]\n",
      "IM [ 44.67431771   0.        ] (2L,)\n",
      "K [[ 0.49853254  0.4654927 ]\n",
      " [ 0.50013341 -0.46655994]] (2L, 2L)\n",
      " y - IM [-22.38102359  -0.10603948] (2L,)\n",
      "x is now [ 22.33715886  22.33715886]\n",
      "zeta [[-11.20702915 -11.14402377]] (1L, 2L)\n",
      "x about to leave update is  [[ 11.1301297   11.19313509]]\n",
      "y [ 22.29329412  -0.10603948]\n",
      "x is  [[ 11.1301297   11.19313509]]  The shape of x is H  (1L, 2L)\n"
     ]
    },
    {
     "ename": "ValueError",
     "evalue": "shapes (2,2) and (1,2) not aligned: 2 (dim 1) != 1 (dim 0)",
     "output_type": "error",
     "traceback": [
      "\u001b[0;31m---------------------------------------------------------------------------\u001b[0m",
      "\u001b[0;31mValueError\u001b[0m                                Traceback (most recent call last)",
      "\u001b[0;32m<ipython-input-9-eadf888dbb7b>\u001b[0m in \u001b[0;36m<module>\u001b[0;34m()\u001b[0m\n\u001b[1;32m    123\u001b[0m \u001b[1;33m\u001b[0m\u001b[0m\n\u001b[1;32m    124\u001b[0m \u001b[1;32mprint\u001b[0m \u001b[1;34m'x out of Predict is '\u001b[0m\u001b[1;33m,\u001b[0m \u001b[0mx\u001b[0m\u001b[1;33m\u001b[0m\u001b[0m\n\u001b[0;32m--> 125\u001b[0;31m \u001b[0mx\u001b[0m\u001b[1;33m,\u001b[0m \u001b[0mP\u001b[0m\u001b[1;33m,\u001b[0m \u001b[0mLH\u001b[0m \u001b[1;33m=\u001b[0m \u001b[0mkf_update\u001b[0m\u001b[1;33m(\u001b[0m\u001b[0mx\u001b[0m\u001b[1;33m,\u001b[0m\u001b[0mP\u001b[0m\u001b[1;33m,\u001b[0m\u001b[0my\u001b[0m\u001b[1;33m,\u001b[0m\u001b[0mH\u001b[0m\u001b[1;33m,\u001b[0m\u001b[0mh\u001b[0m\u001b[1;33m,\u001b[0m \u001b[0mR\u001b[0m\u001b[1;33m)\u001b[0m\u001b[1;33m\u001b[0m\u001b[0m\n\u001b[0m",
      "\u001b[0;32m<ipython-input-9-eadf888dbb7b>\u001b[0m in \u001b[0;36mkf_update\u001b[0;34m(x, P, y, H, h, R)\u001b[0m\n\u001b[1;32m     77\u001b[0m     \u001b[1;32mprint\u001b[0m \u001b[1;34m'y'\u001b[0m\u001b[1;33m,\u001b[0m\u001b[0my\u001b[0m\u001b[1;33m\u001b[0m\u001b[0m\n\u001b[1;32m     78\u001b[0m     \u001b[1;32mprint\u001b[0m \u001b[1;34m'x is '\u001b[0m\u001b[1;33m,\u001b[0m\u001b[0mx\u001b[0m\u001b[1;33m,\u001b[0m \u001b[1;34m' The shape of x is H '\u001b[0m\u001b[1;33m,\u001b[0m \u001b[0mx\u001b[0m\u001b[1;33m.\u001b[0m\u001b[0mshape\u001b[0m\u001b[1;33m\u001b[0m\u001b[0m\n\u001b[0;32m---> 79\u001b[0;31m     \u001b[0mzeta\u001b[0m \u001b[1;33m=\u001b[0m \u001b[0mnp\u001b[0m\u001b[1;33m.\u001b[0m\u001b[0mdot\u001b[0m\u001b[1;33m(\u001b[0m\u001b[0mH\u001b[0m\u001b[1;33m,\u001b[0m \u001b[0mx\u001b[0m\u001b[1;33m)\u001b[0m\u001b[1;33m\u001b[0m\u001b[0m\n\u001b[0m\u001b[1;32m     80\u001b[0m     \u001b[1;32mprint\u001b[0m \u001b[1;34m'zeta'\u001b[0m\u001b[1;33m,\u001b[0m\u001b[0mzeta\u001b[0m\u001b[1;33m,\u001b[0m \u001b[0mzeta\u001b[0m\u001b[1;33m.\u001b[0m\u001b[0mshape\u001b[0m\u001b[1;33m\u001b[0m\u001b[0m\n\u001b[1;32m     81\u001b[0m     \u001b[1;32mprint\u001b[0m \u001b[1;34m'H'\u001b[0m\u001b[1;33m,\u001b[0m \u001b[0mH\u001b[0m\u001b[1;33m,\u001b[0m \u001b[0mH\u001b[0m\u001b[1;33m.\u001b[0m\u001b[0mshape\u001b[0m\u001b[1;33m\u001b[0m\u001b[0m\n",
      "\u001b[0;31mValueError\u001b[0m: shapes (2,2) and (1,2) not aligned: 2 (dim 1) != 1 (dim 0)"
     ]
    }
   ],
   "source": [
    "#%%debug\n",
    "\n",
    "def kf_predict(x, P, A, a, Q):\n",
    "    \n",
    "    # x_{k+1}=Ax_k+a +sqrt{Q}z\n",
    "    \n",
    "    xnew = np.dot(A,x) + a  # I believe the first vector is stored as a row vector so a must be a row vector.\n",
    "    P = np.dot(A, np.dot(P,A.T) ) + Q                                \n",
    "    \n",
    "    \n",
    "    # Make sure P is positive definite    \n",
    "    try:\n",
    "        Ptest =la.cholesky(P)  #check if P is positive definite\n",
    "        # print 'THis is good'\n",
    "    except:\n",
    "        # P=nearestPD(P)  # if it is not then execute this code \n",
    "        P=nearPSD(P)\n",
    "        #  print 'P IS NOT POSITIVE DEF'\n",
    "   \n",
    "    return xnew,P\n",
    "\n",
    "#------------------------------------------------------\n",
    "def kf_update(x,P,y,H,h, R):\n",
    "    \n",
    "    #y_k=Hx_k+h+sqrt{R}z\n",
    "    #y must be M x 1 matrix\n",
    "    #OUTPUT:\n",
    "    #       x  the best x, P the best P, K,the kalman gain\n",
    "    #       IM,the prediction of y IS, the covariance matrix of Y, the likelihood  LH\n",
    "    \n",
    "    print 'x enters update as', x\n",
    "    \n",
    "    Hprime= np.transpose(H)   # H is 2 by 2\n",
    "    \n",
    "    IM = np.dot(H,x) + h # mean of Y \n",
    "    print 'IM', IM, IM.shape\n",
    "    \n",
    "    IS = R + np.dot(H, np.dot(P, Hprime))  #.....Cov of mean of Y\n",
    "    K = np.dot(P,np.dot(Hprime, inv(IS))) \n",
    "    \n",
    "    print \"K\", K, K.shape\n",
    "    yminusIM = y - IM\n",
    "    print ' y - IM', yminusIM, yminusIM.shape \n",
    "    print 'x is now',x\n",
    "    \n",
    "    \n",
    "    # This next line I think is problematic K is 2 by 2  y -Im is a row vector\n",
    "    \n",
    "    zeta = np.dot(K, y-IM)\n",
    "    \n",
    "    zeta.reshape(1,2) # Added this row...Not sure why it is needed\n",
    "    \n",
    "    print 'zeta', zeta, zeta.shape # 1 row 2 cols\n",
    "   # zetarow = zeta.T\n",
    "    \n",
    "    x = x + zeta\n",
    "    \n",
    "    \n",
    "    \n",
    "    \n",
    "    \n",
    "   # x = x + np.dot(K, (y-IM)) \n",
    "    print 'x about to leave update is ',x\n",
    "    #xtest = x +np.dot(K, (y-IM))\n",
    "    #print 'xtest', xtest\n",
    "    #print 'x',x\n",
    "    \n",
    "    P = P - np.dot(K, np.dot(IS, K.T)) \n",
    "    try:\n",
    "        check_pd=la.cholesky(P)  #check if P is positive definite\n",
    "#        print 'This is update good'\n",
    "    except:\n",
    "        #P=nearestPD(P)\n",
    "        P=nearPSD(P)\n",
    "#        print 'this is update bad'\n",
    "    \n",
    "    print 'y',y\n",
    "    print 'x is ',x, ' The shape of x is H ', x.shape\n",
    "    zeta = np.dot(H, x)\n",
    "    print 'zeta',zeta, zeta.shape\n",
    "    print 'H', H, H.shape\n",
    "    \n",
    "    err = y - zeta   # np.dot(H,x)\n",
    "    print 'err', err\n",
    "    LH = 0.0\n",
    "    LH = gauss_pdf(err, IS)\n",
    "    \n",
    "   \n",
    "    \n",
    "    return x, P, LH\n",
    "\n",
    "\n",
    "def gauss_pdf(err, IS):\n",
    "    ISinv = inv(IS)\n",
    "    LH = -0.5*np.log(2*np.pi) - 0.5* np.dot(err, np.dot(ISinv, err))\n",
    "    return LH\n",
    "  \n",
    "\n",
    "\n",
    "    \n",
    "    \n",
    "    \n",
    "# Testing these function \n",
    "P = SP['P']\n",
    "x = SP['x']\n",
    "y = Y[:,1]\n",
    "H = SP['H']\n",
    "h = SP['h']\n",
    "R = SP['R']\n",
    "A = SP['A']\n",
    "a= SP['a']\n",
    "Q = SP['Q']\n",
    "\n",
    "print ' initial x', x, x.shape\n",
    "x,P =  kf_predict(x, P, A,a,Q) \n",
    "print 'x out of Predict is ', x\n",
    "x, P, LH = kf_update(x,P,y,H,h, R)\n",
    "print 'x after update is ' ,x \n",
    "\n",
    "\n",
    "\n",
    "x,P =  kf_predict(x, P, A,a,Q) \n",
    "\n",
    "print 'x out of Predict is ', x\n",
    "x, P, LH = kf_update(x,P,y,H,h, R)"
   ]
  },
  {
   "cell_type": "code",
   "execution_count": null,
   "metadata": {
    "collapsed": true
   },
   "outputs": [],
   "source": []
  },
  {
   "cell_type": "markdown",
   "metadata": {},
   "source": [
    "### Step 3b: Compute Likelihood over all time slices"
   ]
  },
  {
   "cell_type": "code",
   "execution_count": null,
   "metadata": {
    "collapsed": false
   },
   "outputs": [],
   "source": [
    "def  KF_logLL(params,Y, SP,n_obs,n_states,n_measures):\n",
    "##\n",
    "#INPUTS: This takes in Y_obs, and the dictionary \n",
    "#OUTPUTS: is the log likelihood.\n",
    "\n",
    "# Routine for Log Likelihood Function that is to be maximized\n",
    "# before using this routine we need to set up params\n",
    "#The dictionary contains A, a, Q, R, H, h and the parameters of the problem\n",
    "# Step 1: get all the matrices you need as well as the parameters \n",
    "    \n",
    "    make_dict(params, SP, n_obs, n_states,n_measures)\n",
    "    A = SP['A']\n",
    "    a = SP['a']\n",
    "    H = SP['H']\n",
    "    h = SP['h']\n",
    "    Q = SP['Q']\n",
    "    R = SP['R'] \n",
    "    x = SP['x']\n",
    "    P = SP['P']\n",
    "    n_obs      = SP[\"n_obs\"]\n",
    "    n_states   = SP['n_states']\n",
    "    n_measures = SP['n_measures'] \n",
    "\n",
    "\n",
    "  \n",
    "# Now  initialize variables X_f is the filtered  time series   \n",
    "   \n",
    "    X_f=np.zeros((n_obs,n_states))\n",
    "    #print 'X_f',X_f[:,1]\n",
    "    #print 'starting X', x\n",
    "    X_f[0,:]=x\n",
    "    #print ' xf at zero', X_f[:,0]\n",
    "    sumT=0.0\n",
    "    \n",
    "# Now   do Kalman    \n",
    "    \n",
    "    for k in range(1,n_obs):\n",
    "        y = Y[:,k]   # This is a row vector ( an array)\n",
    "        \n",
    "        #Step 1.predict\n",
    "        x,P = kf_predict(x, P, A,a,Q)\n",
    "        print 'x comes out of predict as ', x\n",
    "        \n",
    "        #Step 2: update\n",
    "        x,P,LH = kf_update(x,P,y,H,h, R)\n",
    "        print 'x comes out of update as', x\n",
    "        \n",
    "        \n",
    "        #Step 3 add to Likelihood\n",
    "        sumT = sumT + LH\n",
    "        \n",
    "        X_f[k,:] = x \n",
    "        print 'X_f......', X_f[k,:]\n",
    "        print 'x ', x, x.shape\n",
    "        print 'k',k\n",
    "        \n",
    "\n",
    "# We have computed the sum for this parameter set.\n",
    "#print(\"*\")\n",
    "\n",
    "    return X_f, sumT\n",
    "\n",
    "# Test this cell:\n",
    "\n",
    "\n",
    "X_f=np.zeros((n_states,n_obs))\n",
    "X_f, sumT = KF_logLL(pars,Y, SP,n_obs,n_states,n_measures)"
   ]
  },
  {
   "cell_type": "markdown",
   "metadata": {},
   "source": [
    "## Step 4: Perform the optimization: This is the main program \n",
    "\n",
    "3.0 Read in the data for Y.\n",
    "3.1 Define PR_func(params) It takes in params and returns the -ve Log Likelihood  function that is to be minimized.\n",
    "3.2 Use scipy optimizer to solve the problem\n",
    "3.3 Make sure the data Y is global?\n",
    "\n"
   ]
  },
  {
   "cell_type": "code",
   "execution_count": null,
   "metadata": {
    "collapsed": false
   },
   "outputs": [],
   "source": [
    "def PR_func(params):\n",
    "    K_f, sumT   =  KF_logLL(params,Y, SP)\n",
    "    return sumT\n",
    "\n",
    "\n",
    "#Step 1: Read in the data into a global variable\n",
    "n_obs, n_measures = func_data()\n",
    "\n",
    "# Step 2:  Set the initial values for the parameters\n",
    "init_pars =  [1.,1.,1.,1.,0.1,0.2, 0.5, 0.02,0.01] \n",
    "\n",
    "# Step 3: make the dictionary:\n",
    "SP = {}\n",
    "X_f=np.zeros((n_states,n_obs))\n",
    "SP = make_dict(init_pars, SP, n_obs, n_measures)\n",
    "PR_func(pars)\n",
    "\n",
    "# Step 4: Perform the optimization\n",
    "            \n",
    "result = sco.minimize(PR_func, init_pars, method='nelder-mead',options={'xtol': 1e-8, 'disp': True}) \n",
    "\n",
    "print result.x \n"
   ]
  },
  {
   "cell_type": "code",
   "execution_count": null,
   "metadata": {
    "collapsed": false
   },
   "outputs": [],
   "source": [
    "#For this data set lets estimate the parameters \n",
    "\n",
    "X_init=X[:,0]      #initial state for filtering is(but need not be) actual initial state \n",
    "P_init=np.eye(2)\n",
    "\n"
   ]
  },
  {
   "cell_type": "code",
   "execution_count": null,
   "metadata": {
    "collapsed": false
   },
   "outputs": [],
   "source": [
    "# Now do the Kalman filter with this data\n",
    "\n",
    "X[0,0] = 0.04; X[1,0] = 0.041; X[2,0]= 100\n",
    "X_init = [0.04,0.041,100.0]\n",
    "P_init = np.eye(3)\n",
    "L_true =[0.5,0.3,0.04,0.02,0.01,0.01,0.005,0.004,0.003, 0.001]\n",
    "Lstart =[0.5,0.3,0.04,0.02,0.01,0.01,0.005,0.004,0.003, 0.001]\n",
    "\n",
    "state_params = make_parameters(pars)\n",
    "print X_init"
   ]
  },
  {
   "cell_type": "code",
   "execution_count": null,
   "metadata": {
    "collapsed": false
   },
   "outputs": [],
   "source": [
    "# Routine for Log Likelihood Function that is to be maximized\n",
    "\n",
    "\n",
    "def  KF_logLL(Y, X_init, P_init,state_params):\n",
    "##\n",
    "#INPUTS: This takes in Y_obs, the initial X and P and the vector of state parameters \n",
    "#OUTPUTS: is the log likelihood.\n",
    "##\n",
    "\n",
    "    Delta=0.25\n",
    "\n",
    "    A=A_func(Delta,state_params)\n",
    "    print 'A',A\n",
    "    a=a_func(Delta,state_params)\n",
    "    print 'a',a\n",
    "    Q=Q_func(Delta,state_params)\n",
    "    sig_m=state_params[\"sig_m\"]\n",
    "    sig_bc = state_params[\"sig_bc\"]\n",
    "\n",
    "    nbc = 5\n",
    "    Nobs = len(Y)\n",
    "    R=(sig_m**2)*np.eye(nbc)\n",
    "    Nstates=3\n",
    "\n",
    "    X_f=np.zeros((Nstates,Nobs))\n",
    "\n",
    "    x=X_init\n",
    "    \n",
    "    P=P_init\n",
    "    X_f[:,0]=x\n",
    "\n",
    "    I=np.eye(3)\n",
    "    sumT=0.0\n",
    "    for k in range(0,Nobs):\n",
    "        #Step 1.predict\n",
    "        tfirst =np.dot(A,x)\n",
    "        print 'tfirst',np.transpose(tfirst)\n",
    "       \n",
    "        xprime = np.transpose(x)\n",
    "        print 'xprime',xprime\n",
    "        x=np.dot(A,xprime) + a\n",
    "        print 'xp',x\n",
    "        # P=A*P*A'+Q\n",
    "        temp1 = np.dot(A,P)\n",
    "        temp2 = np.dot(temp1,np.transpose(A))\n",
    "        P = temp2 + Q\n",
    "\n",
    "        try:\n",
    "            check_pd=la.cholesky(P) #check if P is positive definite   \n",
    "        except:\n",
    "            # P=nearestPD(P)  # if it is not then execute this code \n",
    "            P=nearPSD(P)    \n",
    "        \n",
    "        #Step 2: update\n",
    "        H=H_meas(nbc,k,state_params) #H_meas(NBC[k],k)\n",
    "        H_tr=np.transpose(H)\n",
    "        h=h_meas(nbc,k,state_params) #h_meas(NBC[k],k)\n",
    "\n",
    "        #F=(H*P*H_tr+R)\n",
    "\n",
    "        Temp1 = np.dot(H,P)\n",
    "        Hprime = np.transpose(H)\n",
    "        Temp2 = np.dot(Temp1,Hprime)\n",
    "        F = Temp2+ R\n",
    "\n",
    "        #K_g = P*H_tr/F\n",
    "        temp1 = np.dot(P,Hprime)\n",
    "        Finv = la.inv(F)\n",
    "        K_g = np.dot(temp1, Finv)\n",
    "\n",
    "        #B=I‐K_g*H\n",
    "        B = I -np.dot(K_g, H)\n",
    "\n",
    "\n",
    "        #P=B*P*B'+K_g*R*K_g'\n",
    "        temp1 = np.dot(B,P)\n",
    "        Bprime = np.transpose(B)\n",
    "        T1 = np.dot(temp1,Bprime)\n",
    "        temp2 = np.dot(K_g,R)\n",
    "        T2 = np.dot(temp2,np.transpose(K_g))\n",
    "        P = T1+T2\n",
    "\n",
    "        try:\n",
    "            check_pd=la.cholesky(P) #check if P is positive definite\n",
    "        except:\n",
    "            P=nearPSD(P)\n",
    "\n",
    "\n",
    "        \n",
    "        Ta= Y[:,k] \n",
    "        print 'Ta',Ta\n",
    "        print 'H',H\n",
    "        print 'x',x\n",
    "        Tb = np.dot(H,x) \n",
    "        Tc = h\n",
    "        print 'Tb', Tb\n",
    "        print 'Tc',Tc\n",
    "        d = Ta-(Tb+Tc)\n",
    "        x = x+np.dot(K_g,d)\n",
    "        X_f[:,k]=x\n",
    "        Quadt1 =np.dot(np.transpose(d),Finv)\n",
    "        Quadt2 = np.dot(Quadt1, d)\n",
    "        sumT=sumT+ np.log(np.abs(np.det(F)))+ Quadt2\n",
    "\n",
    "    # We have computed the sum for this parameter set.\n",
    "    print(\"*\")\n",
    "    return X_f, sumT\n",
    "\n",
    "\n",
    "X_f, sumT = KF_logLL(Y_obs, X_init, P_init,state_params)\n"
   ]
  },
  {
   "cell_type": "code",
   "execution_count": null,
   "metadata": {
    "collapsed": true
   },
   "outputs": [],
   "source": [
    "\n",
    "\n",
    "\n",
    "def f_opt_tr(tr_pars):\n",
    "    #This function automatically builds in constraints o n the parameters \n",
    "   \n",
    "    pars = inv_transform_pars(tr_pars,a,b)\n",
    "    state_params=make_parameters(pars)\n",
    "    X_f,LL=KF_logLL(Y_obs, X_init, P_init,state_params)\n",
    "    return LL\n",
    "    \n"
   ]
  },
  {
   "cell_type": "code",
   "execution_count": null,
   "metadata": {
    "collapsed": false
   },
   "outputs": [],
   "source": [
    "def  transform_pars(pars, a,b):\n",
    "    #  Transforms parameters to turn constrained optimization into unconstrained.\n",
    "    #  Specifically, if we constrain a<x<b, then x=pars is transformed to X=tr_pars\n",
    "    #  where x=(b‐a)/(1+e^{‐X})+a\n",
    "    #  The function inv_transform_pars inverts this transformation\n",
    "    zz = np.zeros(11)\n",
    "    for i in range(0,11):\n",
    "        zz[i] = -np.log((b[i] - pars[i])/(pars[i] - a[i]))\n",
    "    \n",
    "    print zz\n",
    "     \n",
    "    return zz\n",
    "\n",
    "def inv_transform_pars(tr_pars, a,b):\n",
    "    #Inverse of function transform_pars\n",
    "    return (b - a)/(1+ np.exp(-tr_pars))\n"
   ]
  },
  {
   "cell_type": "code",
   "execution_count": null,
   "metadata": {
    "collapsed": false
   },
   "outputs": [],
   "source": [
    "import scipy.optimize as sco\n",
    "from scipy import optimize\n",
    "\n",
    "\n",
    "true_pars=pars\n",
    "#Initial point for optimization\n",
    "true_pars=pars\n",
    "init_pars=[0.2,0.3,\n",
    "           0.05,\n",
    "           0.05,\n",
    "           0.01,0.01,\n",
    "           0.01,0.01,0.01,\n",
    "           0.01,\n",
    "          0.012] \n",
    "\n",
    "a = np.zeros(11)\n",
    "b = [1.0,1.0,\n",
    "         0.06,\n",
    "        0.25,\n",
    "        0.1,0.25,\n",
    "        0.10,0.10,0.25,\n",
    "        0.015,\n",
    "        0.015]\n",
    "\n",
    "\n",
    "tr_init_pars = transform_pars(init_pars,a,b)\n",
    "print tr_init_pars\n",
    "\n",
    "result = sco.minimize(f_opt_tr, tr_init_pars, method='nelder-mead',\n",
    "                options={'xtol': 1e-8, 'disp': True}) \n",
    "\n"
   ]
  },
  {
   "cell_type": "code",
   "execution_count": null,
   "metadata": {
    "collapsed": true
   },
   "outputs": [],
   "source": []
  },
  {
   "cell_type": "code",
   "execution_count": null,
   "metadata": {
    "collapsed": false
   },
   "outputs": [],
   "source": [
    "B = np.array([[1,2],[3,4]])\n",
    "xx = np.array([[1],[2]])\n",
    "\n",
    "CC = np.dot(B,xx)\n",
    "CC"
   ]
  },
  {
   "cell_type": "code",
   "execution_count": null,
   "metadata": {
    "collapsed": true
   },
   "outputs": [],
   "source": []
  },
  {
   "cell_type": "code",
   "execution_count": null,
   "metadata": {
    "collapsed": false
   },
   "outputs": [],
   "source": [
    "# Scrap\n",
    "\n",
    "\n",
    "\n",
    "x1 =np.array([[1], [2]])\n",
    "x2 = np.array([3,4])\n",
    "x3 = np.array([[3],[4]])\n",
    "\n",
    "print 'sum of column vectors',x1+ x3\n",
    "x2col = x2[np.newaxis]\n",
    "print 'x2col',x2col\n",
    "y1 = x1+ x2col\n",
    "print x2col\n",
    "\n",
    "np.add(x1.T,x2)"
   ]
  },
  {
   "cell_type": "code",
   "execution_count": null,
   "metadata": {
    "collapsed": false
   },
   "outputs": [],
   "source": [
    "aq = np.arange(0,40,10)\n",
    "bq = np.array([0,1,2,3])\n",
    "print 'sum of rowv',aq+ bq\n",
    "aq.shape\n",
    "aqcol = aq[:,np.newaxis]\n",
    "bqcol = bq[:, np.newaxis]\n",
    "print ' sum of cols', aqcol+bqcol\n",
    "\n",
    "\n",
    "\n",
    "\n",
    "\n",
    "\n"
   ]
  },
  {
   "cell_type": "code",
   "execution_count": null,
   "metadata": {
    "collapsed": false
   },
   "outputs": [],
   "source": [
    "a1 = np.array([5,4])[np.newaxis]\n",
    "print a1\n",
    "print a1.T\n",
    "\n",
    "a2 = np.array([[5],[4]])\n",
    "print a2\n",
    "print a2.T"
   ]
  },
  {
   "cell_type": "code",
   "execution_count": null,
   "metadata": {
    "collapsed": true
   },
   "outputs": [],
   "source": []
  },
  {
   "cell_type": "code",
   "execution_count": null,
   "metadata": {
    "collapsed": true
   },
   "outputs": [],
   "source": []
  },
  {
   "cell_type": "code",
   "execution_count": null,
   "metadata": {
    "collapsed": false
   },
   "outputs": [],
   "source": [
    "L = np.arange(3,7)\n",
    "print L"
   ]
  },
  {
   "cell_type": "code",
   "execution_count": null,
   "metadata": {
    "collapsed": false
   },
   "outputs": [],
   "source": [
    "L = np.linspace(0,10,11)\n",
    "print L"
   ]
  },
  {
   "cell_type": "code",
   "execution_count": null,
   "metadata": {
    "collapsed": true
   },
   "outputs": [],
   "source": []
  },
  {
   "cell_type": "code",
   "execution_count": null,
   "metadata": {
    "collapsed": false
   },
   "outputs": [],
   "source": [
    "def tester(dick):\n",
    "    G =np.array([[1,2,3], [4,5,7]])\n",
    "    dick = {'G': G}\n",
    "    dick['t']= 'hello'\n",
    "    dick['G']= G\n",
    "    return dick\n",
    "dick = {}\n",
    "dick = tester(dick)\n",
    "print dick['G']\n",
    "print dick['t']"
   ]
  },
  {
   "cell_type": "code",
   "execution_count": null,
   "metadata": {
    "collapsed": false
   },
   "outputs": [],
   "source": [
    "# A great example. You have to be careful\n",
    "\n",
    "xcol = np.array([[1], [2]])\n",
    "xrow = np.array([1,2])\n",
    "atest =np.array([1,7])\n",
    "#print xrow\n",
    "Atest = np.array([[1,0], [1,-1]])\n",
    "xrow = np.dot(Atest,xrow) + atest\n",
    "print xrow\n",
    "xcol = np.dot(Atest,xcol) + atest\n",
    "print xcol\n",
    "ab =atest[np.newaxis]\n",
    "print ab\n",
    "print ab.T\n",
    "#acoltest = np.transpose(atest)\n",
    "#print acoltest\n",
    "# This shows that numpy does not really distinguish between a row vector and a coumn vector. It turns the row vector into a column"
   ]
  },
  {
   "cell_type": "code",
   "execution_count": null,
   "metadata": {
    "collapsed": false
   },
   "outputs": [],
   "source": [
    "L = range(1,10)\n",
    "print L"
   ]
  },
  {
   "cell_type": "code",
   "execution_count": null,
   "metadata": {
    "collapsed": true
   },
   "outputs": [],
   "source": []
  },
  {
   "cell_type": "code",
   "execution_count": null,
   "metadata": {
    "collapsed": true
   },
   "outputs": [],
   "source": []
  }
 ],
 "metadata": {
  "kernelspec": {
   "display_name": "Python 2",
   "language": "python",
   "name": "python2"
  },
  "language_info": {
   "codemirror_mode": {
    "name": "ipython",
    "version": 2
   },
   "file_extension": ".py",
   "mimetype": "text/x-python",
   "name": "python",
   "nbconvert_exporter": "python",
   "pygments_lexer": "ipython2",
   "version": "2.7.13"
  }
 },
 "nbformat": 4,
 "nbformat_minor": 0
}
