{
 "cells": [
  {
   "cell_type": "markdown",
   "metadata": {
    "slideshow": {
     "slide_type": "slide"
    }
   },
   "source": [
    "## Numpy: Working with Matrices\n",
    "1. We will learn how to work with matrices \n",
    "2. Numpy is very useful and we will be using it a lot.\n"
   ]
  },
  {
   "cell_type": "code",
   "execution_count": 1,
   "metadata": {
    "collapsed": false,
    "slideshow": {
     "slide_type": "slide"
    }
   },
   "outputs": [
    {
     "name": "stdout",
     "output_type": "stream",
     "text": [
      "[1, 2, 3, 1, 2, 3]\n"
     ]
    }
   ],
   "source": [
    "#Recall  what happens when we operate on a List\n",
    "\n",
    "L = [1,2,3]\n",
    "print 2*L\n"
   ]
  },
  {
   "cell_type": "code",
   "execution_count": 2,
   "metadata": {
    "collapsed": true,
    "slideshow": {
     "slide_type": "slide"
    }
   },
   "outputs": [],
   "source": [
    "# We want to work with vectors and matrices \n",
    "import numpy as np"
   ]
  },
  {
   "cell_type": "code",
   "execution_count": 4,
   "metadata": {
    "collapsed": true,
    "slideshow": {
     "slide_type": "fragment"
    }
   },
   "outputs": [],
   "source": [
    "# We can convert a List into a vector\n",
    "A = np.array(L)"
   ]
  },
  {
   "cell_type": "code",
   "execution_count": 6,
   "metadata": {
    "collapsed": false,
    "slideshow": {
     "slide_type": "fragment"
    }
   },
   "outputs": [
    {
     "name": "stdout",
     "output_type": "stream",
     "text": [
      "[1 2 3]\n",
      "[2 4 6]\n",
      " A is a vector\n"
     ]
    }
   ],
   "source": [
    "print A\n",
    "print 2*A\n",
    "print ' A is a vector'"
   ]
  },
  {
   "cell_type": "code",
   "execution_count": 7,
   "metadata": {
    "collapsed": false,
    "slideshow": {
     "slide_type": "slide"
    }
   },
   "outputs": [
    {
     "data": {
      "text/plain": [
       "array([[ 1.,  2.,  3.],\n",
       "       [ 4.,  5.,  6.]])"
      ]
     },
     "execution_count": 7,
     "metadata": {},
     "output_type": "execute_result"
    }
   ],
   "source": [
    "# We can define a matrix as follows\n",
    "A = np.array([[1.,2.,3.],[4.,5.,6.]])\n",
    "A\n"
   ]
  },
  {
   "cell_type": "code",
   "execution_count": 8,
   "metadata": {
    "collapsed": false,
    "slideshow": {
     "slide_type": "fragment"
    }
   },
   "outputs": [
    {
     "data": {
      "text/plain": [
       "array([ 1.,  4.])"
      ]
     },
     "execution_count": 8,
     "metadata": {},
     "output_type": "execute_result"
    }
   ],
   "source": [
    "# We can specify the first column of A as follows\n",
    "# Note it produces a row of values...\n",
    "temp = A[:,0]\n",
    "temp"
   ]
  },
  {
   "cell_type": "code",
   "execution_count": 9,
   "metadata": {
    "collapsed": false,
    "slideshow": {
     "slide_type": "fragment"
    }
   },
   "outputs": [
    {
     "data": {
      "text/plain": [
       "array([ 4.,  5.,  6.])"
      ]
     },
     "execution_count": 9,
     "metadata": {},
     "output_type": "execute_result"
    }
   ],
   "source": [
    "# Rows are easily referred to:\n",
    "A[1]"
   ]
  },
  {
   "cell_type": "code",
   "execution_count": 10,
   "metadata": {
    "collapsed": false,
    "slideshow": {
     "slide_type": "slide"
    }
   },
   "outputs": [
    {
     "data": {
      "text/plain": [
       "array([[  2.,   4.,   6.],\n",
       "       [  8.,  10.,  12.]])"
      ]
     },
     "execution_count": 10,
     "metadata": {},
     "output_type": "execute_result"
    }
   ],
   "source": [
    "# What happens if you multiply a matrix with a scalar\n",
    "B = A*2\n",
    "B"
   ]
  },
  {
   "cell_type": "code",
   "execution_count": 11,
   "metadata": {
    "collapsed": false,
    "slideshow": {
     "slide_type": "fragment"
    }
   },
   "outputs": [
    {
     "data": {
      "text/plain": [
       "array([[  1.,   4.,   9.],\n",
       "       [ 16.,  25.,  36.]])"
      ]
     },
     "execution_count": 11,
     "metadata": {},
     "output_type": "execute_result"
    }
   ],
   "source": [
    "# What happens if you square a matrix?\n",
    "B = A**2\n",
    "B\n",
    "# It squares each element of the matrix"
   ]
  },
  {
   "cell_type": "code",
   "execution_count": 12,
   "metadata": {
    "collapsed": false,
    "slideshow": {
     "slide_type": "slide"
    }
   },
   "outputs": [
    {
     "data": {
      "text/plain": [
       "numpy.ndarray"
      ]
     },
     "execution_count": 12,
     "metadata": {},
     "output_type": "execute_result"
    }
   ],
   "source": [
    "type(A)"
   ]
  },
  {
   "cell_type": "code",
   "execution_count": 13,
   "metadata": {
    "collapsed": false,
    "slideshow": {
     "slide_type": "fragment"
    }
   },
   "outputs": [
    {
     "data": {
      "text/plain": [
       "True"
      ]
     },
     "execution_count": 13,
     "metadata": {},
     "output_type": "execute_result"
    }
   ],
   "source": [
    "# Since A is an object we can do many operations\n",
    "5 in A"
   ]
  },
  {
   "cell_type": "code",
   "execution_count": 14,
   "metadata": {
    "collapsed": false,
    "slideshow": {
     "slide_type": "fragment"
    }
   },
   "outputs": [
    {
     "data": {
      "text/plain": [
       "(2L, 3L)"
      ]
     },
     "execution_count": 14,
     "metadata": {},
     "output_type": "execute_result"
    }
   ],
   "source": [
    "A.shape\n"
   ]
  },
  {
   "cell_type": "code",
   "execution_count": 15,
   "metadata": {
    "collapsed": false,
    "slideshow": {
     "slide_type": "fragment"
    }
   },
   "outputs": [
    {
     "data": {
      "text/plain": [
       "2"
      ]
     },
     "execution_count": 15,
     "metadata": {},
     "output_type": "execute_result"
    }
   ],
   "source": [
    "# How many dimensions does A have ( It could have 3 dimensions but we will not go there)\n",
    "A.ndim"
   ]
  },
  {
   "cell_type": "code",
   "execution_count": 16,
   "metadata": {
    "collapsed": false,
    "scrolled": true,
    "slideshow": {
     "slide_type": "slide"
    }
   },
   "outputs": [
    {
     "name": "stdout",
     "output_type": "stream",
     "text": [
      "A [[ 1.  2.  3.]\n",
      " [ 4.  5.  6.]]\n",
      "B [[ 2.  3.]\n",
      " [ 5.  6.]]\n"
     ]
    }
   ],
   "source": [
    "# We can pick up selected rows and columns \n",
    "B = A[0:2, 1:3]\n",
    "print 'A', A\n",
    "print 'B',B"
   ]
  },
  {
   "cell_type": "code",
   "execution_count": 17,
   "metadata": {
    "collapsed": false,
    "slideshow": {
     "slide_type": "slide"
    }
   },
   "outputs": [
    {
     "data": {
      "text/plain": [
       "array([ 0.,  1.,  2.,  3.,  4.,  5.,  6.,  7.,  8.,  9.])"
      ]
     },
     "execution_count": 17,
     "metadata": {},
     "output_type": "execute_result"
    }
   ],
   "source": [
    "# We can create an array easily.\n",
    "\n",
    "B = np.array(range(10), dtype = np.float)\n",
    "B"
   ]
  },
  {
   "cell_type": "code",
   "execution_count": 18,
   "metadata": {
    "collapsed": false,
    "slideshow": {
     "slide_type": "slide"
    }
   },
   "outputs": [
    {
     "data": {
      "text/plain": [
       "array([[ 0.,  1.],\n",
       "       [ 2.,  3.],\n",
       "       [ 4.,  5.],\n",
       "       [ 6.,  7.],\n",
       "       [ 8.,  9.]])"
      ]
     },
     "execution_count": 18,
     "metadata": {},
     "output_type": "execute_result"
    }
   ],
   "source": [
    "# We can reshape this vector into a 5 by 2 matrix\n",
    "B1 = B.reshape((5,2))\n",
    "B1"
   ]
  },
  {
   "cell_type": "code",
   "execution_count": 19,
   "metadata": {
    "collapsed": false,
    "slideshow": {
     "slide_type": "fragment"
    }
   },
   "outputs": [
    {
     "name": "stdout",
     "output_type": "stream",
     "text": [
      "[[1 2 3 4]\n",
      " [1 0 1 0]]\n",
      "[[1 4]\n",
      " [1 0]]\n"
     ]
    }
   ],
   "source": [
    "l1 = [1,2,3,4]\n",
    "l2 = [1,0,1,0]\n",
    "B = np.array([l1,l2])\n",
    "print B\n",
    "\n",
    "# Now select some arbitrary columns eg first and fourth\n",
    "C = B[:,[0,3]]\n",
    "\n",
    "print C\n"
   ]
  },
  {
   "cell_type": "code",
   "execution_count": 20,
   "metadata": {
    "collapsed": false,
    "slideshow": {
     "slide_type": "slide"
    }
   },
   "outputs": [
    {
     "data": {
      "text/plain": [
       "array([[ 99.,   1.],\n",
       "       [  2.,   3.],\n",
       "       [  4.,   5.],\n",
       "       [  6.,   7.],\n",
       "       [  8.,   9.]])"
      ]
     },
     "execution_count": 20,
     "metadata": {},
     "output_type": "execute_result"
    }
   ],
   "source": [
    "B2 = B1\n",
    "#Now change B2[0,0]\n",
    "B2[0,0] = 99\n",
    "B2"
   ]
  },
  {
   "cell_type": "code",
   "execution_count": 23,
   "metadata": {
    "collapsed": false,
    "slideshow": {
     "slide_type": "fragment"
    }
   },
   "outputs": [
    {
     "data": {
      "text/plain": [
       "array([[ 99.,   1.],\n",
       "       [  2.,   3.],\n",
       "       [  4.,   5.],\n",
       "       [  6.,   7.],\n",
       "       [  8.,   9.]])"
      ]
     },
     "execution_count": 23,
     "metadata": {},
     "output_type": "execute_result"
    }
   ],
   "source": [
    "# Let us see what B1 is\n",
    "B1"
   ]
  },
  {
   "cell_type": "code",
   "execution_count": 25,
   "metadata": {
    "collapsed": false,
    "slideshow": {
     "slide_type": "fragment"
    }
   },
   "outputs": [
    {
     "name": "stdout",
     "output_type": "stream",
     "text": [
      "99 1\n"
     ]
    }
   ],
   "source": [
    "#OUCH.\n",
    "# Ouch, this hurts....B2 just references the same \"box' as B1\n",
    "# If you want a separate 'box' for B2 then you need to make a copy\n",
    "A = np.array([1,2,3])\n",
    "B = A\n",
    "C = A.copy()\n",
    "A[0] = 99\n",
    "print B[0], C[0]"
   ]
  },
  {
   "cell_type": "code",
   "execution_count": 26,
   "metadata": {
    "collapsed": false,
    "slideshow": {
     "slide_type": "slide"
    }
   },
   "outputs": [
    {
     "name": "stdout",
     "output_type": "stream",
     "text": [
      "[2 4 6]\n",
      "[1, 2, 3, 1, 2, 3]\n"
     ]
    }
   ],
   "source": [
    "# We have seen how arrays can be created from Lists.\n",
    "# Sometimes we may want to create a LIST from an array\n",
    "\n",
    "A = np.array([1,2,3])\n",
    "B = 2*A\n",
    "print B\n",
    "\n",
    "L = A.tolist()\n",
    "L2= 2*L\n",
    "print L2\n",
    "\n"
   ]
  },
  {
   "cell_type": "code",
   "execution_count": 34,
   "metadata": {
    "collapsed": false,
    "slideshow": {
     "slide_type": "slide"
    }
   },
   "outputs": [
    {
     "data": {
      "text/plain": [
       "array([[1, 2, 3],\n",
       "       [4, 5, 6]])"
      ]
     },
     "execution_count": 34,
     "metadata": {},
     "output_type": "execute_result"
    }
   ],
   "source": [
    "R1 = [1,2,3]\n",
    "R2 = [4,5,6]\n",
    "A = np.array([R1,R2])\n",
    "A"
   ]
  },
  {
   "cell_type": "code",
   "execution_count": 35,
   "metadata": {
    "collapsed": false,
    "slideshow": {
     "slide_type": "fragment"
    }
   },
   "outputs": [
    {
     "data": {
      "text/plain": [
       "[[1, 2, 3], [4, 5, 6]]"
      ]
     },
     "execution_count": 35,
     "metadata": {},
     "output_type": "execute_result"
    }
   ],
   "source": [
    "LA = A.tolist()\n",
    "LA"
   ]
  },
  {
   "cell_type": "code",
   "execution_count": 36,
   "metadata": {
    "collapsed": false,
    "slideshow": {
     "slide_type": "fragment"
    }
   },
   "outputs": [
    {
     "name": "stdout",
     "output_type": "stream",
     "text": [
      "[[1 2 3]\n",
      " [4 5 6]]\n",
      "[[1, 2, 3], [4, 5, 6]]\n"
     ]
    },
    {
     "data": {
      "text/plain": [
       "1"
      ]
     },
     "execution_count": 36,
     "metadata": {},
     "output_type": "execute_result"
    }
   ],
   "source": [
    "R1 = [1,2,3]\n",
    "R2 = [4,5,6]\n",
    "A = np.array([R1,R2])\n",
    "print A\n",
    "AL = A.tolist()\n",
    "print AL\n",
    "# It converts each row into a List,so we end up with a List ofLists.\n",
    "# I am not sure how you can efficiently convert a list of lists into one list.\n",
    "y = AL[0]\n",
    "y[0]"
   ]
  },
  {
   "cell_type": "markdown",
   "metadata": {
    "slideshow": {
     "slide_type": "slide"
    }
   },
   "source": [
    "### Making Special Matrices \n",
    "1. A matrix of zeros\n",
    "2. A matrix of constants\n",
    "3. A diagonal matrix "
   ]
  },
  {
   "cell_type": "code",
   "execution_count": 37,
   "metadata": {
    "collapsed": false,
    "slideshow": {
     "slide_type": "fragment"
    }
   },
   "outputs": [
    {
     "data": {
      "text/plain": [
       "array([[ 0.,  0.],\n",
       "       [ 0.,  0.],\n",
       "       [ 0.,  0.]])"
      ]
     },
     "execution_count": 37,
     "metadata": {},
     "output_type": "execute_result"
    }
   ],
   "source": [
    "A = np.zeros((3,2))\n",
    "A"
   ]
  },
  {
   "cell_type": "code",
   "execution_count": 38,
   "metadata": {
    "collapsed": false,
    "slideshow": {
     "slide_type": "fragment"
    }
   },
   "outputs": [
    {
     "data": {
      "text/plain": [
       "array([[ 6.,  6.],\n",
       "       [ 6.,  6.],\n",
       "       [ 6.,  6.]])"
      ]
     },
     "execution_count": 38,
     "metadata": {},
     "output_type": "execute_result"
    }
   ],
   "source": [
    "A.fill(6)\n",
    "A"
   ]
  },
  {
   "cell_type": "code",
   "execution_count": 39,
   "metadata": {
    "collapsed": false,
    "slideshow": {
     "slide_type": "fragment"
    }
   },
   "outputs": [
    {
     "data": {
      "text/plain": [
       "array([[ 1.,  0.,  0.],\n",
       "       [ 0.,  1.,  0.],\n",
       "       [ 0.,  0.,  1.]])"
      ]
     },
     "execution_count": 39,
     "metadata": {},
     "output_type": "execute_result"
    }
   ],
   "source": [
    "B = np.eye(3)\n",
    "B"
   ]
  },
  {
   "cell_type": "code",
   "execution_count": 40,
   "metadata": {
    "collapsed": false,
    "slideshow": {
     "slide_type": "slide"
    }
   },
   "outputs": [
    {
     "data": {
      "text/plain": [
       "array([[ 0.,  1.],\n",
       "       [ 2.,  3.],\n",
       "       [ 4.,  5.],\n",
       "       [ 6.,  7.],\n",
       "       [ 8.,  9.]])"
      ]
     },
     "execution_count": 40,
     "metadata": {},
     "output_type": "execute_result"
    }
   ],
   "source": [
    "B = np.array(range(0,10), float)\n",
    "B = B.reshape(5,2)\n",
    "B"
   ]
  },
  {
   "cell_type": "code",
   "execution_count": 41,
   "metadata": {
    "collapsed": false,
    "slideshow": {
     "slide_type": "fragment"
    }
   },
   "outputs": [
    {
     "data": {
      "text/plain": [
       "array([[ 1.,  1.,  1.],\n",
       "       [ 1.,  1.,  1.]])"
      ]
     },
     "execution_count": 41,
     "metadata": {},
     "output_type": "execute_result"
    }
   ],
   "source": [
    "# We can make a matrix of ones as\n",
    "B = np.ones((2,3))\n",
    "B"
   ]
  },
  {
   "cell_type": "code",
   "execution_count": 43,
   "metadata": {
    "collapsed": false,
    "slideshow": {
     "slide_type": "slide"
    }
   },
   "outputs": [
    {
     "name": "stdout",
     "output_type": "stream",
     "text": [
      "[1 2 3 4 5 6]\n"
     ]
    },
    {
     "data": {
      "text/plain": [
       "array([[1, 2, 3],\n",
       "       [4, 5, 6]])"
      ]
     },
     "execution_count": 43,
     "metadata": {},
     "output_type": "execute_result"
    }
   ],
   "source": [
    "# We can use the arange() command in numpy to make some matrices \n",
    "A = np.arange(1,7)\n",
    "print A\n",
    "B = A.reshape((2,3))\n",
    "B"
   ]
  },
  {
   "cell_type": "markdown",
   "metadata": {
    "slideshow": {
     "slide_type": "slide"
    }
   },
   "source": [
    "## Working with Matrices\n",
    "1. Adding matrices\n",
    "2. pointwise multiplication when sizes are the same \n",
    "3. multiplying matrices ( pointwise) when sizes are the same \n",
    "4. some built in functions for matrices\n",
    "\n"
   ]
  },
  {
   "cell_type": "code",
   "execution_count": 44,
   "metadata": {
    "collapsed": false,
    "slideshow": {
     "slide_type": "slide"
    }
   },
   "outputs": [
    {
     "name": "stdout",
     "output_type": "stream",
     "text": [
      "A= [[ 1.  2.]\n",
      " [ 0.  1.]]\n",
      "\n",
      "B = [[ 1.  2.]\n",
      " [ 4.  5.]]\n",
      "\n",
      "D = [[ 2.  4.]\n",
      " [ 4.  6.]]\n",
      "\n",
      "E = [[ 1.  4.]\n",
      " [ 0.  5.]]\n"
     ]
    }
   ],
   "source": [
    "A = np.array([[1.,2.],[0,1.]])\n",
    "B = np.array([[1.,2.], [4.,5.]])\n",
    "\n",
    "# Pointwise addition\n",
    "D = A+B\n",
    "\n",
    "# Pointwise multiplication\n",
    "E = A*B\n",
    "\n",
    "\n",
    "print 'A=', A   \n",
    "print\n",
    "print 'B =',B\n",
    "print\n",
    "print 'D =',D\n",
    "print\n",
    "print 'E =',E\n",
    "\n",
    "              "
   ]
  },
  {
   "cell_type": "code",
   "execution_count": null,
   "metadata": {
    "collapsed": false,
    "slideshow": {
     "slide_type": "slide"
    }
   },
   "outputs": [],
   "source": [
    "Acubed= A**3\n",
    "print A\n",
    "print Acubed"
   ]
  },
  {
   "cell_type": "code",
   "execution_count": 45,
   "metadata": {
    "collapsed": false
   },
   "outputs": [
    {
     "name": "stdout",
     "output_type": "stream",
     "text": [
      "[[ 0.          1.        ]\n",
      " [ 1.41421356  1.73205081]]\n"
     ]
    }
   ],
   "source": [
    "B = np.array(range(0,4), float)\n",
    "B = B.reshape(2,2)\n",
    "sqrtB = np.sqrt(B)\n",
    "print sqrtB"
   ]
  },
  {
   "cell_type": "code",
   "execution_count": 46,
   "metadata": {
    "collapsed": false,
    "slideshow": {
     "slide_type": "slide"
    }
   },
   "outputs": [
    {
     "name": "stdout",
     "output_type": "stream",
     "text": [
      "[[ 2.71828183  7.3890561 ]\n",
      " [ 1.          2.71828183]]\n"
     ]
    }
   ],
   "source": [
    "C = np.array([[0, 1], [1,2]])\n",
    "temp = np.exp(A)\n",
    "print temp"
   ]
  },
  {
   "cell_type": "code",
   "execution_count": 47,
   "metadata": {
    "collapsed": false,
    "slideshow": {
     "slide_type": "slide"
    }
   },
   "outputs": [
    {
     "name": "stdout",
     "output_type": "stream",
     "text": [
      "[[ 1.  2.]\n",
      " [ 0.  1.]]\n"
     ]
    },
    {
     "data": {
      "text/plain": [
       "array([ 3.,  1.])"
      ]
     },
     "execution_count": 47,
     "metadata": {},
     "output_type": "execute_result"
    }
   ],
   "source": [
    "# If you want to sum the rows use axis = 1\n",
    "# If you want to sume the columns axis = 0\n",
    "print A\n",
    "A.sum(axis=1)"
   ]
  },
  {
   "cell_type": "code",
   "execution_count": null,
   "metadata": {
    "collapsed": false,
    "slideshow": {
     "slide_type": "fragment"
    }
   },
   "outputs": [],
   "source": [
    "\n",
    "#A. then hit tab brings up a list of possible methods that are available.\n",
    "\n",
    "A.std(axis=1)"
   ]
  },
  {
   "cell_type": "code",
   "execution_count": null,
   "metadata": {
    "collapsed": true,
    "slideshow": {
     "slide_type": "slide"
    }
   },
   "outputs": [],
   "source": []
  },
  {
   "cell_type": "markdown",
   "metadata": {
    "slideshow": {
     "slide_type": "slide"
    }
   },
   "source": [
    "###  Practice Problem 1\n",
    "1. Set up a matrix of size 5 by 10.\n",
    "2. Then pick a matrix of the odd column numbers\n",
    "3. Compute the means and std deviations in each column\n"
   ]
  },
  {
   "cell_type": "code",
   "execution_count": null,
   "metadata": {
    "collapsed": false,
    "slideshow": {
     "slide_type": "slide"
    }
   },
   "outputs": [],
   "source": [
    "# Step 1: Build a matrix \n",
    "A = np.arange(1,51)\n",
    "B = A.reshape((5,10))\n",
    "# Step 2 Pick columns from matrix\n",
    "C = B[:,[1,3,5,7,9]]\n",
    "print C\n",
    "# Step 3: Compute statistics \n",
    "means = C.mean(axis = 0)\n",
    "stdev = C.std(axis=0)\n",
    "print means\n",
    "print stdev"
   ]
  },
  {
   "cell_type": "markdown",
   "metadata": {
    "slideshow": {
     "slide_type": "slide"
    }
   },
   "source": [
    "### Practice Problem 2\n",
    "1. I will give you a random matrix\n",
    "2. I want you to use google to find out how to sort the rows of the matrix from lowest to highest.\n",
    "3. Then sort the colums from lowest to highest"
   ]
  },
  {
   "cell_type": "code",
   "execution_count": 48,
   "metadata": {
    "collapsed": false
   },
   "outputs": [
    {
     "name": "stdout",
     "output_type": "stream",
     "text": [
      "[[-1.40409361 -1.8777629   1.14336604]\n",
      " [-0.19163221  0.24990796  0.22752854]\n",
      " [-0.16725814  0.77240565 -0.14409718]\n",
      " [-0.02197819  1.70190688 -0.27188245]\n",
      " [ 0.13874887  0.2185892  -0.46649399]]\n"
     ]
    }
   ],
   "source": [
    "# I generate a random matrix ( We will learm how to do this later)\n",
    "A = np.random.standard_normal((5,3))\n",
    "print A"
   ]
  },
  {
   "cell_type": "code",
   "execution_count": 49,
   "metadata": {
    "collapsed": false,
    "slideshow": {
     "slide_type": "slide"
    }
   },
   "outputs": [
    {
     "data": {
      "text/plain": [
       "array([[-1.40409361, -1.8777629 , -0.46649399],\n",
       "       [-0.19163221,  0.2185892 , -0.27188245],\n",
       "       [-0.16725814,  0.24990796, -0.14409718],\n",
       "       [-0.02197819,  0.77240565,  0.22752854],\n",
       "       [ 0.13874887,  1.70190688,  1.14336604]])"
      ]
     },
     "execution_count": 49,
     "metadata": {},
     "output_type": "execute_result"
    }
   ],
   "source": [
    "Aoriginal = A.copy()\n",
    "A.sort(0)\n",
    "A"
   ]
  },
  {
   "cell_type": "code",
   "execution_count": null,
   "metadata": {
    "collapsed": false,
    "slideshow": {
     "slide_type": "subslide"
    }
   },
   "outputs": [],
   "source": [
    "# Now if we do the following we will get the wrong answer\n",
    "A.sort(1)\n",
    "A"
   ]
  },
  {
   "cell_type": "code",
   "execution_count": null,
   "metadata": {
    "collapsed": false,
    "slideshow": {
     "slide_type": "slide"
    }
   },
   "outputs": [],
   "source": [
    "# We have to go back to Aoriginal\n",
    "\n",
    "Aoriginal.sort(1)\n",
    "Aoriginal"
   ]
  },
  {
   "cell_type": "markdown",
   "metadata": {
    "slideshow": {
     "slide_type": "slide"
    }
   },
   "source": [
    "## Other properties \n",
    "1. Transpose of a matrix\n",
    "2. Flattening a matrix\n",
    "3. Combining Matrices "
   ]
  },
  {
   "cell_type": "code",
   "execution_count": 50,
   "metadata": {
    "collapsed": false,
    "slideshow": {
     "slide_type": "slide"
    }
   },
   "outputs": [
    {
     "data": {
      "text/plain": [
       "array([[ 0.,  1.],\n",
       "       [ 2.,  3.],\n",
       "       [ 4.,  5.],\n",
       "       [ 6.,  7.],\n",
       "       [ 8.,  9.]])"
      ]
     },
     "execution_count": 50,
     "metadata": {},
     "output_type": "execute_result"
    }
   ],
   "source": [
    "B = np.array(range(0,10), float)\n",
    "B = B.reshape(5,2)\n",
    "B"
   ]
  },
  {
   "cell_type": "code",
   "execution_count": 55,
   "metadata": {
    "collapsed": false,
    "slideshow": {
     "slide_type": "fragment"
    }
   },
   "outputs": [
    {
     "name": "stdout",
     "output_type": "stream",
     "text": [
      "[[ 0.  2.  4.  6.  8.]\n",
      " [ 1.  3.  5.  7.  9.]]\n",
      "[[ 0.  2.  4.  6.  8.]\n",
      " [ 1.  3.  5.  7.  9.]]\n"
     ]
    }
   ],
   "source": [
    "# We want the transpose of this matrix\n",
    "BT = B.transpose()\n",
    "print BT\n",
    "\n",
    "#or \n",
    "BTT = np.transpose(B)\n",
    "print BTT"
   ]
  },
  {
   "cell_type": "code",
   "execution_count": 56,
   "metadata": {
    "collapsed": false,
    "slideshow": {
     "slide_type": "slide"
    }
   },
   "outputs": [
    {
     "data": {
      "text/plain": [
       "array([ 0.,  2.,  4.,  6.,  8.,  1.,  3.,  5.,  7.,  9.])"
      ]
     },
     "execution_count": 56,
     "metadata": {},
     "output_type": "execute_result"
    }
   ],
   "source": [
    "# We want to flatten this array\n",
    "BTFlat = BT.flatten()\n",
    "BTFlat"
   ]
  },
  {
   "cell_type": "code",
   "execution_count": 57,
   "metadata": {
    "collapsed": false,
    "slideshow": {
     "slide_type": "slide"
    }
   },
   "outputs": [
    {
     "data": {
      "text/plain": [
       "array([11, 12, 13, 21, 22, 23])"
      ]
     },
     "execution_count": 57,
     "metadata": {},
     "output_type": "execute_result"
    }
   ],
   "source": [
    "# Combining matrices\n",
    "A = np.array([11, 12])\n",
    "B = np.array([13])\n",
    "C = np.array([21,22])\n",
    "D = np.array([23])\n",
    "A1 = np.concatenate((A,B), axis = 0)\n",
    "C1 = np.concatenate((C,D), axis = 0)\n",
    "Final = np.concatenate((A1,C1), axis = 0)\n",
    "Final"
   ]
  },
  {
   "cell_type": "code",
   "execution_count": 58,
   "metadata": {
    "collapsed": false
   },
   "outputs": [
    {
     "name": "stdout",
     "output_type": "stream",
     "text": [
      "A1 [[1 2]\n",
      " [3 4]]\n",
      "B1 [[7 7]\n",
      " [8 8]]\n",
      "[[1 2 7 7]\n",
      " [3 4 8 8]]\n"
     ]
    }
   ],
   "source": [
    "# We can stack arrays horizontally\n",
    "A1 = np.array([[1,2], [3,4]])\n",
    "B1 = np.array([[7,7],[ 8,8]])\n",
    "print 'A1',A1\n",
    "print 'B1',B1\n",
    "Stack_hor = np.hstack((A1, B1))\n",
    "print Stack_hor"
   ]
  },
  {
   "cell_type": "code",
   "execution_count": 59,
   "metadata": {
    "collapsed": false
   },
   "outputs": [
    {
     "name": "stdout",
     "output_type": "stream",
     "text": [
      "A1 [[1 2]\n",
      " [3 4]]\n",
      "B1 [[7 7]\n",
      " [8 8]]\n",
      "[[1 2]\n",
      " [3 4]\n",
      " [7 7]\n",
      " [8 8]]\n"
     ]
    }
   ],
   "source": [
    "# We can stack arrays vertically\n",
    "A1 = np.array([[1,2], [3,4]])\n",
    "B1 = np.array([[7,7],[ 8,8]])\n",
    "print 'A1',A1\n",
    "print 'B1',B1\n",
    "Stack_vert = np.vstack((A1, B1))\n",
    "print Stack_vert"
   ]
  },
  {
   "cell_type": "code",
   "execution_count": 61,
   "metadata": {
    "collapsed": false,
    "slideshow": {
     "slide_type": "slide"
    }
   },
   "outputs": [
    {
     "name": "stdout",
     "output_type": "stream",
     "text": [
      "[[1 2]\n",
      " [3 4]\n",
      " [5 6]]\n",
      "[1 2]\n",
      "[3 4]\n",
      "[5 6]\n"
     ]
    }
   ],
   "source": [
    "a= np.array([[1,2], [3,4], [5,6]])\n",
    "print a\n",
    "for x in a:   # Refers to a row\n",
    "    print x"
   ]
  },
  {
   "cell_type": "code",
   "execution_count": null,
   "metadata": {
    "collapsed": false,
    "slideshow": {
     "slide_type": "fragment"
    }
   },
   "outputs": [],
   "source": [
    "a= np.array([[1,2], [3,4], [5,6]])\n",
    "for (x,y) in a:  # refers to elements in the row.\n",
    "    print x*y"
   ]
  },
  {
   "cell_type": "code",
   "execution_count": null,
   "metadata": {
    "collapsed": false,
    "slideshow": {
     "slide_type": "slide"
    }
   },
   "outputs": [],
   "source": [
    "suma =a.sum()  # sums all elements in a \n",
    "suma\n"
   ]
  },
  {
   "cell_type": "code",
   "execution_count": null,
   "metadata": {
    "collapsed": false,
    "slideshow": {
     "slide_type": "fragment"
    }
   },
   "outputs": [],
   "source": [
    "a.prod()"
   ]
  },
  {
   "cell_type": "code",
   "execution_count": null,
   "metadata": {
    "collapsed": false,
    "slideshow": {
     "slide_type": "slide"
    }
   },
   "outputs": [],
   "source": [
    "# elements in an array typically have to be numbers  or spcial characters \n",
    "A = np.array([1,np.NaN, np.Inf])\n",
    "A"
   ]
  },
  {
   "cell_type": "markdown",
   "metadata": {
    "slideshow": {
     "slide_type": "slide"
    }
   },
   "source": [
    "## Vector and Matrix Mathematics\n",
    "1. Matrix multiplication\n",
    "2. Determinants \n",
    "3. Eigenvalues and Eigenvectors \n",
    "4. Inverse of Matrices \n",
    "5 Special Topics "
   ]
  },
  {
   "cell_type": "code",
   "execution_count": null,
   "metadata": {
    "collapsed": false,
    "slideshow": {
     "slide_type": "slide"
    }
   },
   "outputs": [],
   "source": [
    "# Multiplying two vectors \n",
    "a = np.array([1,2,3],float)\n",
    "b = np.array([0,1,1],float)\n",
    "ab = np.dot(a,b)\n",
    "ab"
   ]
  },
  {
   "cell_type": "code",
   "execution_count": null,
   "metadata": {
    "collapsed": false,
    "slideshow": {
     "slide_type": "slide"
    }
   },
   "outputs": [],
   "source": [
    "# Multiplying two compatable matrices \n",
    "\n",
    "A1 = np.array([ [1,2],[1,1] ])\n",
    "B1 = np.array([ [1,2],[1,0] ])\n",
    "A1B1 = np.dot(A1,B1)\n",
    "A1B1"
   ]
  },
  {
   "cell_type": "code",
   "execution_count": null,
   "metadata": {
    "collapsed": false,
    "slideshow": {
     "slide_type": "slide"
    }
   },
   "outputs": [],
   "source": [
    "# There is a submodule linalg that allows for linear algebra calculations\n",
    "A = np.array([[1, 2], [ 3, 4]], float)\n",
    "np.linalg.det(A)"
   ]
  },
  {
   "cell_type": "code",
   "execution_count": null,
   "metadata": {
    "collapsed": false,
    "slideshow": {
     "slide_type": "slide"
    }
   },
   "outputs": [],
   "source": [
    "# One can also find eigenvalues and eigenvectors of a matrix\n",
    "vals, vecs = np.linalg.eig(A)\n",
    "vals"
   ]
  },
  {
   "cell_type": "code",
   "execution_count": null,
   "metadata": {
    "collapsed": false,
    "slideshow": {
     "slide_type": "fragment"
    }
   },
   "outputs": [],
   "source": [
    "vecs"
   ]
  },
  {
   "cell_type": "code",
   "execution_count": null,
   "metadata": {
    "collapsed": false,
    "slideshow": {
     "slide_type": "slide"
    }
   },
   "outputs": [],
   "source": [
    "invA = np.linalg.inv(A)\n",
    "invA"
   ]
  },
  {
   "cell_type": "code",
   "execution_count": null,
   "metadata": {
    "collapsed": false,
    "slideshow": {
     "slide_type": "fragment"
    }
   },
   "outputs": [],
   "source": [
    "test = np.dot(invA, A)\n",
    "test"
   ]
  },
  {
   "cell_type": "markdown",
   "metadata": {
    "slideshow": {
     "slide_type": "slide"
    }
   },
   "source": [
    "# Alternative to np.array: np.matrix\n",
    "\n",
    "1. I do  not recommend you ever use these matrix commands so I will not go through them\n",
    "2. If you use them remember that the output from them may be inconsistent with the arrays produced by numpy.\n",
    "3. So once you use these you will need to convert these  matrices to numpy arrays using np.asarray(mymatrix) where mymatrix is a matrix object."
   ]
  },
  {
   "cell_type": "markdown",
   "metadata": {
    "slideshow": {
     "slide_type": "fragment"
    }
   },
   "source": [
    "### Arrays can do everything, but numpy also has a matrix type for doing matrix math specifically.\n",
    "1. This can be formed using np.matrix, np.mat, or np.asmatrix\n"
   ]
  },
  {
   "cell_type": "code",
   "execution_count": null,
   "metadata": {
    "collapsed": false,
    "slideshow": {
     "slide_type": "slide"
    }
   },
   "outputs": [],
   "source": [
    "M = np.matrix([[1,0],[1,2]])\n",
    "M"
   ]
  },
  {
   "cell_type": "code",
   "execution_count": null,
   "metadata": {
    "collapsed": false,
    "slideshow": {
     "slide_type": "fragment"
    }
   },
   "outputs": [],
   "source": [
    "M*M"
   ]
  },
  {
   "cell_type": "code",
   "execution_count": null,
   "metadata": {
    "collapsed": false,
    "slideshow": {
     "slide_type": "slide"
    }
   },
   "outputs": [],
   "source": [
    "# To get the inverse of the matrix we use\n",
    "Minv = M.I\n",
    "Minv"
   ]
  },
  {
   "cell_type": "code",
   "execution_count": null,
   "metadata": {
    "collapsed": false,
    "slideshow": {
     "slide_type": "fragment"
    }
   },
   "outputs": [],
   "source": [
    "# You can convert a matrix to an array\n",
    "G = np.array(M)\n",
    "G"
   ]
  },
  {
   "cell_type": "markdown",
   "metadata": {
    "slideshow": {
     "slide_type": "slide"
    }
   },
   "source": [
    "## Broadcasting \n",
    "1. This is a very important tool\n",
    "2. Say you have a matrix of N rows and 3 columns. You want to transform the columns to create new variables \n",
    "3. So you want to \"multiply the matrix  of size N by 3  by a vector of size 3\n",
    "4. This would be an example of broadcasting.\n",
    "5. It is called broadcasting because conceptually the the 3 by 1 matrix is copied N times to make a  N by 3 matrix\n",
    "   and then  pointwise multiplication is done.\n",
    "6.  This idea is extended  here.\n",
    "   \n"
   ]
  },
  {
   "cell_type": "code",
   "execution_count": null,
   "metadata": {
    "collapsed": false
   },
   "outputs": [],
   "source": [
    "# Create a matrix of size 7 by 3\n",
    "A = np.full((7,3), 4.0)\n",
    "# So we have a \"big\" matrix\n",
    "# Now define a transform eg\n",
    "rowvector = np.array([1,0,2])\n",
    "# Now we can multiply the Big matrix with the row vector \n",
    "C = A*rowvector\n",
    "C\n",
    "#Obviously the dimension of the row vector must match the number of columns used, otherwise broadcasting\n",
    "# will be unsuccessful"
   ]
  },
  {
   "cell_type": "markdown",
   "metadata": {
    "slideshow": {
     "slide_type": "slide"
    }
   },
   "source": [
    "- We have used broadcasting already.\n",
    "- We multiplied a  row vector by a scalar\n",
    "\n",
    "<img src=\"S31.png\",width=300,height=400>"
   ]
  },
  {
   "cell_type": "markdown",
   "metadata": {
    "slideshow": {
     "slide_type": "fragment"
    }
   },
   "source": [
    "-Now we have \n",
    "<img src=\"Sex2.png\",width=300,height=400>"
   ]
  },
  {
   "cell_type": "markdown",
   "metadata": {
    "slideshow": {
     "slide_type": "slide"
    }
   },
   "source": [
    "1. In the above each row of the \"big\" matrix multiplied pointwise with the one row we specified\n",
    "2. Now lets see what would happen if we had a big array and did the  same thing with a matrix"
   ]
  },
  {
   "cell_type": "code",
   "execution_count": null,
   "metadata": {
    "collapsed": false,
    "slideshow": {
     "slide_type": "slide"
    }
   },
   "outputs": [],
   "source": [
    "# lets create a 20 by 2 matrix and fill it with numbers\n",
    "A = np.full((20,2),7.0)\n",
    "#Now lets create a matrix which is 2 by 2\n",
    "B = np.eye(2)\n",
    "# Now lets think how broadcasting might work\n",
    "# If there was one row this would be great. Each element ( row) in the column of the big matrix would multiply by one specific number.\n",
    "# But with two rows in B, it is difficult to see how this could be generalized. Which number should be multiplied...\n",
    "# One could devise rules, but this could get quite complicated, so broadcasting will not work here.\n",
    "C = A*B"
   ]
  },
  {
   "cell_type": "code",
   "execution_count": null,
   "metadata": {
    "collapsed": false,
    "slideshow": {
     "slide_type": "slide"
    }
   },
   "outputs": [],
   "source": [
    "# Now lets start off with a column vector. Call this the big vector\n",
    "Big_column = np.array([[1],[2],[3],[4]])\n",
    "\n",
    "# And lets assume we have a  row vector \n",
    "rowvec = np.array([1,2,3])\n",
    "# What do you think  Big_Column* rowvec  means \n",
    "# We can \" conceptually\" broadcast the rowvector  so that it has N=4 rows \n",
    "# So now we have  and N by 1 vector and an N by 3 matrix.\n",
    "# And we can broadcast the column vector by duplicating it so that it has 3 columns\n",
    "# Now we have a N by 3 matrix and N by 3 matrix which we can multiply pointwise.\n",
    "\n",
    "# So what has been accomplished. Each element of the column vector is multiplied by each element of the row vector \n",
    "# to create a N by 3 matrix.\n",
    "\n",
    "# lets see what happens\n",
    "print Big_column\n",
    "print rowvec\n",
    "\n",
    "C = Big_column*rowvec\n",
    "C"
   ]
  },
  {
   "cell_type": "markdown",
   "metadata": {
    "slideshow": {
     "slide_type": "slide"
    }
   },
   "source": [
    "- Now we have \n",
    "<img src=\"Sex3.png\",width=300,height=400>"
   ]
  },
  {
   "cell_type": "markdown",
   "metadata": {
    "collapsed": false,
    "slideshow": {
     "slide_type": "skip"
    }
   },
   "source": [
    "\n",
    "<img src=\"Snip1.png\",width=300,height=400>"
   ]
  },
  {
   "cell_type": "markdown",
   "metadata": {},
   "source": [
    "# Example of Broadcasting\n",
    "1. You have distances along a route. We start at A go to B. Then go to C and then Go to D. The distances traveled are summarized in a four by one vector [0, 100, 201, 302]. \n",
    "2. Set up a matrix of distances between each pair.\n",
    "\n"
   ]
  },
  {
   "cell_type": "code",
   "execution_count": null,
   "metadata": {
    "collapsed": false
   },
   "outputs": [],
   "source": [
    "Distance_c = np.array([[0], [100],[201],[302]])\n",
    "Distance_r = np.transpose(Distance_c)\n",
    "Distance_array = np.abs(Distance_c-Distance_r)\n",
    "Distance_array"
   ]
  },
  {
   "cell_type": "code",
   "execution_count": null,
   "metadata": {
    "collapsed": false
   },
   "outputs": [],
   "source": [
    "# We can get a visula impression of a matrix.\n",
    "# We will look at this later. The lighter the color the further apart are the points.\n",
    "\n",
    "import matplotlib.pyplot as plt\n",
    "#from IPython.display import HTML, Image\n",
    "#We will need a few packages\n",
    "# We need the  package for data visualization\n",
    "import matplotlib.pyplot as plt\n",
    "% matplotlib inline \n",
    "# This line of code is used to display pictures in Jupyter Notebook\n",
    "\n",
    "plt.imshow(Distance_array, interpolation='nearest')\n",
    "plt.colorbar()\n",
    "\n"
   ]
  },
  {
   "cell_type": "code",
   "execution_count": 9,
   "metadata": {
    "collapsed": false
   },
   "outputs": [
    {
     "name": "stdout",
     "output_type": "stream",
     "text": [
      "x [1 1] (2L,)\n",
      "xT [1 1] (2L,)\n",
      "xc [[1]\n",
      " [1]] (2L, 1L)\n",
      "[3 0]\n",
      "[3 0]\n",
      "[[3]\n",
      " [0]]\n",
      "F1 [4 2]\n",
      "F2 [4 2]\n",
      "Fc [[4 5]\n",
      " [1 2]]\n"
     ]
    }
   ],
   "source": [
    "import numpy as np\n",
    "\n",
    "a = np.array([1,2]) # This is a row vector\n",
    "A = np.array([[1,2], [1,-1]])\n",
    "x = np.array([1,1])\n",
    "xT = x.T\n",
    "print 'x', x,  x.shape\n",
    "print 'xT',xT, xT.shape\n",
    "# SO transposing a vector does nothing\n",
    "\n",
    "xc =np.array([ [1], [1]])\n",
    "\n",
    "print 'xc', xc, xc.shape\n",
    "\n",
    "# Now lets do some tests\n",
    "\n",
    "b1 = np.dot(A, x)\n",
    "b2 = np.dot(A, xT)\n",
    "bc = np.dot(A, xc)\n",
    "print b1\n",
    "print b2\n",
    "print bc\n",
    "\n",
    "# So we have learned that the dot product of a matrix with a row vector leads to a valid row vector.\n",
    "# Now leta add the results \n",
    "\n",
    "F1 = a + b1\n",
    "F2 = a+b2\n",
    "Fc = a +bc\n",
    "print 'F1',F1\n",
    "print 'F2', F2\n",
    "print 'Fc', Fc\n"
   ]
  },
  {
   "cell_type": "code",
   "execution_count": null,
   "metadata": {
    "collapsed": true
   },
   "outputs": [],
   "source": []
  }
 ],
 "metadata": {
  "celltoolbar": "Slideshow",
  "kernelspec": {
   "display_name": "Python 2",
   "language": "python",
   "name": "python2"
  },
  "language_info": {
   "codemirror_mode": {
    "name": "ipython",
    "version": 2
   },
   "file_extension": ".py",
   "mimetype": "text/x-python",
   "name": "python",
   "nbconvert_exporter": "python",
   "pygments_lexer": "ipython2",
   "version": "2.7.13"
  }
 },
 "nbformat": 4,
 "nbformat_minor": 2
}
