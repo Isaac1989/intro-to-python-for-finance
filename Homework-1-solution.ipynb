{
 "cells": [
  {
   "cell_type": "markdown",
   "metadata": {},
   "source": [
    "### Problem 1\n",
    "\n",
    "1. Which python built-in data types mutable?\n",
    "2. Which python built-in data types are immutables?\n",
    "3. consider `var1 = (1,2,3)` and `var2 = [1,2,3]`\n",
    "   is `var1[0] = 2` valid? how about `var2[0] = 2`?\n",
    "   which of the above variables are mutable?\n",
    "4. create the following variables:\n",
    "   - `a = 52`\n",
    "   - `b = 6.25`\n",
    "   - `c = 'string'`\n",
    "   -  convert `a` to a type string and then to type float\n",
    "   -  convert `b` to string. Can the result be convert to integer? why or why not?\n",
    "   -  how can we concatenate `a` and `c`? Now combinte `a` and `c` into one string\n",
    "   "
   ]
  },
  {
   "cell_type": "markdown",
   "metadata": {
    "collapsed": true
   },
   "source": [
    "### Solution\n",
    "1. lists, dictitionaries, sets\n",
    "2. tuples, strings\n",
    "3. var1[0] is not valid because tuples are immutables. var2 is mutable\n"
   ]
  },
  {
   "cell_type": "code",
   "execution_count": 1,
   "metadata": {},
   "outputs": [
    {
     "data": {
      "text/plain": [
       "'52.0string'"
      ]
     },
     "execution_count": 1,
     "metadata": {},
     "output_type": "execute_result"
    }
   ],
   "source": [
    "a = 52\n",
    "b = 6.25\n",
    "c = 'string'\n",
    "# `a` and `b` to string\n",
    "a , b = str(a), str(b)\n",
    "\n",
    "# a to float\n",
    "a = float(a)\n",
    "\n",
    "# b cannot be converted to an integer because the quoted object is a float. Python would know what to do with\n",
    "# the trailing .*\n",
    "\n",
    "# `a` and `c` can be concatenated by first converting a to a string type and then using `+` to finish off, like\n",
    "# so \n",
    "str(a) + c"
   ]
  },
  {
   "cell_type": "markdown",
   "metadata": {},
   "source": [
    "### Problem 2\n",
    "```python\n",
    "par = \"\"\"\n",
    "Little >< bunny Foo Foo %% \\n\n",
    "# Went hopping through the forest \\n\n",
    "Scooping :) up the field mice # \\n\n",
    "And bopping them on the head \\n\n",
    "#Down came the :< Good Fairy, and she said \\n\n",
    "\"Little bunny Foo Foo \\n\n",
    "I don't want to ? see you \\n\n",
    "# Scooping up the field mice \\n\n",
    "And bopping **: them on the head.\" \\n\n",
    "# I'll give you @ three chances, \\n\n",
    "And if you don't ^^[ behave, I will turn you into a goon!\" \\n\n",
    "And the [^] next day $\n",
    "\"\"\"\n",
    "```\n",
    "\n",
    "In this excercise, we are going to try to:\n",
    "- Create a file\n",
    "- Read from a file\n",
    "- clean the string.\n",
    "\n",
    "Now answer the following questions:\n",
    "\n",
    "1. Write the file to `par.txt` and make sure you close the file.\n",
    "2. Read the content of the file and reference it with variable `par_string`. Note there are various options.[hint: look at readline, read] \n",
    "3. Using the methods `strip` and `split`, break paragraph `par` into a list of lines and referrenced it to `par_string_list` [Hint: sep = \"\\n' or '\\r\\n' or '\\r' for unix and windows operating systems respectively]\n",
    "\n",
    "    ```python\n",
    "     \n",
    "     # You may find the following code snippet useful\n",
    "     # Make sure you have a list called `par_string_list` before using the codes below\n",
    "     # if you used `read` method\n",
    "     par_string_list = [x for x in par_string_list if bool(x)] \n",
    "    ```\n",
    "\n",
    "4.  Remove any odd characters puctuations: `%%, #, ? ,@ ,$,<,>,:,*,[,],)`\n",
    "\n",
    "    Hint: you may wanto to look into `replace`\n",
    "    \n",
    "5.  Put the list of string of line back together as a complete paragraph reference the output to variable `par`\n",
    "\n",
    "Note:  Once again don't forget to close the file "
   ]
  },
  {
   "cell_type": "markdown",
   "metadata": {},
   "source": [
    "### Solution"
   ]
  },
  {
   "cell_type": "code",
   "execution_count": 58,
   "metadata": {},
   "outputs": [
    {
     "name": "stdout",
     "output_type": "stream",
     "text": [
      "!\"#$%&'()*+,-./:;<=>?@[\\]^_`{|}~\n",
      "Little  bunny Foo Foo\n",
      "Went hopping through the forest\n",
      "Scooping  up the field mice\n",
      "And bopping them on the head\n",
      "Down came the  Good Fairy and she said\n",
      "Little bunny Foo Foo\n",
      "I dont want to  see you\n",
      "Scooping up the field mice\n",
      "And bopping  them on the head\n",
      "Ill give you  three chances\n",
      "And if you dont  behave I will turn you into a goon\n",
      "And the  next day\n"
     ]
    }
   ],
   "source": [
    "from string import punctuation\n",
    "print punctuation\n",
    "par = \"\"\"\n",
    "Little >< bunny Foo Foo %% \\n\n",
    "# Went hopping through the forest \\n\n",
    "Scooping :) up the field mice # \\n\n",
    "And bopping them on the head \\n\n",
    "#Down came the :< Good Fairy, and she said \\n\n",
    "\"Little bunny Foo Foo \\n\n",
    "I don't want to ? see you \\n\n",
    "# Scooping up the field mice \\n\n",
    "And bopping **: them on the head.\" \\n\n",
    "# I'll give you @ three chances, \\n\n",
    "And if you don't ^^[ behave, I will turn you into a goon!\" \\n\n",
    "And the [^] next day $\n",
    "\"\"\"\n",
    "# Writing par to file called `par.txt`\n",
    "output = open('par.txt', mode = 'w')\n",
    "output.writelines(par)\n",
    "output.close()\n",
    "\n",
    "# Reading par from a `par.txt`\n",
    "par = open('par.txt', mode = 'r')\n",
    "\n",
    "# Reads the contents of the file and outputs it as a string\n",
    "par_string = par.read()\n",
    "\n",
    "# Breaking the string by \\n\n",
    "par_string_list = par_string.split('\\n')\n",
    "\n",
    "# Remove any empty lines\n",
    "par_string_list = [x for x in par_string_list if bool(x)] \n",
    "par_string_list\n",
    "\n",
    "\n",
    "#----------------------------\n",
    "## Alternative to lines 24 - 30\n",
    "# par_string_list = par.readlines()\n",
    "# par_string_list = [x.strip() for x in par_string_list]\n",
    "# par_string_list = [x for x in par_string_list if bool(x)]\n",
    "# print par_string_list\n",
    "\n",
    "#-----------------------------\n",
    "\n",
    "# Cleaning the lines\n",
    "# I am using a loop here but you can use indexing to clean the lines manually\n",
    "for i, line in enumerate(par_string_list):\n",
    "    # removing all punctuations from the file\n",
    "    for p in punctuation:\n",
    "        if p in line:\n",
    "           line = line.replace(p,'')\n",
    "    par_string_list[i] = line\n",
    "            \n",
    "# removing trailing empty spaces\n",
    "par_string_list = [x.strip() for x in par_string_list]\n",
    "\n",
    "# Putting the lines back to form a paragraph\n",
    "par = '\\n'.join(par_string_list)\n",
    "\n",
    "print par"
   ]
  },
  {
   "cell_type": "markdown",
   "metadata": {},
   "source": [
    "### Problem 3\n",
    "\n",
    "1. invoke `help` on  `range`\n",
    "2. Create a list of integers starting from 0 to 100 with step of 2 and reference it to `list50`\n",
    "3. Reverse the list inplace.\n",
    "4. Run the code below\n",
    "```python\n",
    "for i,num in enumerate(list50):\n",
    "    my_var[i] = str(num)\n",
    "```\n",
    "\n",
    "5. Combine the strings in my `list50` into one giant string called `num_str`. [hint: use `join`]\n",
    "6. Convert the above result into a number and reference to `num_str`.\n",
    "7. What is the difference bet `xrange` and `range`? How is `xrange` useful?\n",
    "  "
   ]
  },
  {
   "cell_type": "markdown",
   "metadata": {},
   "source": [
    "### solution"
   ]
  },
  {
   "cell_type": "code",
   "execution_count": 69,
   "metadata": {},
   "outputs": [
    {
     "name": "stdout",
     "output_type": "stream",
     "text": [
      "98969492908886848280787674727068666462605856545250484644424038363432302826242220181614121086420\n"
     ]
    }
   ],
   "source": [
    "#1. help(range)\n",
    "\n",
    "#2. \n",
    "# Creating a list starting at 0, ending at 98 inclusive with steps of 2\n",
    "list50 = range(0,100,2)\n",
    "\n",
    "#3. assigning reverse list\n",
    "list50.reverse()   \n",
    "\n",
    "for i,num in enumerate(list50):\n",
    "    list50[i] = str(num)\n",
    "\n",
    "#5. Join the numbers\n",
    "num_str = ''.join(list50)\n",
    "\n",
    "#6.  Convert into huge integer\n",
    "num_str = int(num_str)\n",
    "print num_str\n",
    "\n",
    "\n",
    "#7. range returns a list object in memory while xrange returns a generator, especial object of iterators"
   ]
  },
  {
   "cell_type": "markdown",
   "metadata": {},
   "source": [
    "### Problem 4\n",
    "\n",
    "```python\n",
    "\n",
    "months = {\n",
    "1 : \"Jan\",\n",
    "2 : \"Feb\",\n",
    "3 : \"Mar\",\n",
    "4 : \"Apr\",\n",
    "5 : \"May\",\n",
    "6 : \"June\",\n",
    "7 : \"July\",\n",
    "8 : \"Aug\",\n",
    "9 : \"Sep\",\n",
    "10: \"Oct\",\n",
    "11: \"Nov\",\n",
    "12: \"Dec\"\n",
    "}\n",
    "\n",
    "month_day= range(1,31)\n",
    "\n",
    "year = 2017\n",
    "\n",
    "```\n",
    "\n",
    "1. Convert the abbreviation months into full words. Use the keys of the dictionary. [Hint: use calendar.month_name  , it contains the full month names. Note that  calendar.month_name[0] is an empty string, use 1...12]. \n",
    " Make use of the following template to complete this task\n",
    "```python\n",
    "        \n",
    "   for <key here> in in months:\n",
    "       # this line changes the values of the keys\n",
    "       months[<key here>] = <put something here>  \n",
    "   # Output should look like this:\n",
    "   {1: \"January\",..., 12:\"December\"}\n",
    "```\n",
    "\n",
    "2. Create the following date using the above data:\n",
    "   * \"2017, Dec 10\"\n",
    "   * \"2017, Feb 31\"\n",
    "   * \"2017, Jan 25\"\n",
    "   * \"2017, Oct 12\"\n",
    "   * \"2017, Mar 11\""
   ]
  },
  {
   "cell_type": "markdown",
   "metadata": {},
   "source": [
    "### solution"
   ]
  },
  {
   "cell_type": "code",
   "execution_count": 75,
   "metadata": {},
   "outputs": [
    {
     "name": "stdout",
     "output_type": "stream",
     "text": [
      "{1: 'January', 2: 'February', 3: 'March', 4: 'April', 5: 'May', 6: 'June', 7: 'July', 8: 'August', 9: 'September', 10: 'October', 11: 'November', 12: 'December'}\n",
      "2017, Dec 10\n",
      "2017, Feb 31\n",
      "2017, Jan 25\n",
      "2017, Oct 12\n",
      "2017, Mar 11\n"
     ]
    }
   ],
   "source": [
    "from calendar import month_name\n",
    "months = {\n",
    "1 : \"Jan\",\n",
    "2 : \"Feb\",\n",
    "3 : \"Mar\",\n",
    "4 : \"Apr\",\n",
    "5 : \"May\",\n",
    "6 : \"June\",\n",
    "7 : \"July\",\n",
    "8 : \"Aug\",\n",
    "9 : \"Sep\",\n",
    "10: \"Oct\",\n",
    "11: \"Nov\",\n",
    "12: \"Dec\"\n",
    "}\n",
    "\n",
    "month_day= range(1,31)\n",
    "\n",
    "year = 2017\n",
    "\n",
    "\n",
    "#1. \n",
    "formated_months = {}\n",
    "for key in months:\n",
    "    formated_months[key] = month_name[key]\n",
    "print formated_months\n",
    "\n",
    "#2. \n",
    "print str(year) + ', ' + months[12] + ' '+ str(10)\n",
    "print str(year) + ', ' + months[2] + ' '+ str(31)\n",
    "print str(year) + ', ' + months[1] + ' '+ str(25)\n",
    "print str(year) + ', ' + months[10] + ' '+ str(12)\n",
    "print str(year) + ', ' + months[3] + ' '+ str(11)"
   ]
  },
  {
   "cell_type": "markdown",
   "metadata": {
    "collapsed": true
   },
   "source": [
    "### Problem 5\n",
    "\n",
    "#### User Input with `raw_input()` \n",
    "\n",
    "1. Create a small script to use raw_input() built-in function to take a string input\n",
    " from the user, then display to the user what he/she just typed in.\n",
    "\n",
    "2. Add another piece of similar code, but have the input be numeric. Convert the\n",
    " value to a number (using either int() or any of the other numeric conversion\n",
    " functions), and display the square of the value back to the user."
   ]
  },
  {
   "cell_type": "markdown",
   "metadata": {},
   "source": [
    "### Solution"
   ]
  },
  {
   "cell_type": "code",
   "execution_count": null,
   "metadata": {},
   "outputs": [],
   "source": [
    "x = raw_input('Please enter a string: ')\n",
    "print \"You entered:  \" + x"
   ]
  },
  {
   "cell_type": "code",
   "execution_count": 87,
   "metadata": {},
   "outputs": [
    {
     "name": "stdout",
     "output_type": "stream",
     "text": [
      "Please enter a number5\n",
      "The square of the number entered: 25.0\n"
     ]
    }
   ],
   "source": [
    "x = float(raw_input(\"Please enter a number\"))\n",
    "print 'The square of the number entered: ' + str(x*x)"
   ]
  },
  {
   "cell_type": "markdown",
   "metadata": {
    "collapsed": true
   },
   "source": [
    "### Problem 6\n",
    "Let the user  define an input radius value. Then you have to compute  the calculation of circumference and area of the circle with this radius. At last, you have to use two print statements to output your calculation result (please round the results to two decimal points).\n",
    "\n",
    "Hint 1: You can change a variable mn to float type by: float(mn). You can change a variable mn to string type by: str(mn)\n",
    "\n",
    "Hint 2: You can use round function to round your result.\n",
    "\n",
    "Hint 3: Pi is stored in math package."
   ]
  },
  {
   "cell_type": "markdown",
   "metadata": {},
   "source": [
    "### Solution"
   ]
  },
  {
   "cell_type": "code",
   "execution_count": null,
   "metadata": {},
   "outputs": [],
   "source": [
    "from math import pi\n",
    "radius = input(\"Enter a radius\")\n",
    "\n",
    "circum = 2*pi*radius\n",
    "\n",
    "area = pi*(radius**2)\n",
    "\n",
    "print 'circumference = ' + str(round(circum,2))\n",
    "print 'area = ' + str(round(area,2))"
   ]
  },
  {
   "cell_type": "markdown",
   "metadata": {},
   "source": [
    "### Problem 7\n",
    "\n",
    "1. Are there any string methods or functions in the string module that will help\n",
    "me determine if a string is part of a larger string?\n",
    "\n",
    "2. Enter a list of random numbers and sort the values in largest-to-smallest order.\n",
    "\n",
    "3. Do the same thing, but for strings and in reverse alphabetical (largest-to-smallest lexicographic) order.\n",
    "   Make use of:\n",
    "   ```python\n",
    "   from string import ascii_lowercase\n",
    "   # This is a lower case alphabets\n",
    "   lower = ascii_lowercase\n",
    "   ```\n",
    "\n",
    "4. Determine if two strings match: \n",
    "    ```python\n",
    "    a = 'day'\n",
    "    b = 'Day'\n",
    "    ```\n",
    " \n",
    "    1. \n",
    "    With comparison operators \n",
    "    2. With the `cmp()` built-in function by scanning each string\n",
    "    \n"
   ]
  },
  {
   "cell_type": "markdown",
   "metadata": {
    "collapsed": true
   },
   "source": [
    "### Solution\n",
    "\n",
    "1. yes! `index` and `find` are typical methods that gets the job done"
   ]
  },
  {
   "cell_type": "code",
   "execution_count": 90,
   "metadata": {},
   "outputs": [
    {
     "name": "stdout",
     "output_type": "stream",
     "text": [
      "[445, 88, 78, 56, 34, 23, 22, 21, 5, 4, 3]\n"
     ]
    }
   ],
   "source": [
    "#Creating a list\n",
    "listx = [23,4,5,21,56,78,3,34,88,22,445]\n",
    "\n",
    "#Sorting the list in descending order\n",
    "sort_listx = sorted(listx, reverse = True)\n",
    "print sort_listx"
   ]
  },
  {
   "cell_type": "code",
   "execution_count": 94,
   "metadata": {},
   "outputs": [
    {
     "name": "stdout",
     "output_type": "stream",
     "text": [
      "zyxwvutsrqponmlkjihgfedcba\n"
     ]
    }
   ],
   "source": [
    "from string import ascii_lowercase\n",
    "lower = ascii_lowercase\n",
    "\n",
    "# split the alphabets into a list\n",
    "lower_list = list(lower)\n",
    "\n",
    "# Reverse the alphabets in lexographically descending order\n",
    "lower_list.reverse()\n",
    "\n",
    "# Join them back into a string\n",
    "lower_reversed = ''.join(lower_list)\n",
    "print lower_reversed"
   ]
  },
  {
   "cell_type": "code",
   "execution_count": 95,
   "metadata": {},
   "outputs": [
    {
     "name": "stdout",
     "output_type": "stream",
     "text": [
      "False\n",
      "1\n"
     ]
    }
   ],
   "source": [
    "a = 'day'\n",
    "b = 'Day'\n",
    "\n",
    "print a == b\n",
    "\n",
    "# if a is equal b cmp will output 0\n",
    "print cmp(a,b)"
   ]
  },
  {
   "cell_type": "markdown",
   "metadata": {},
   "source": [
    "### Problem 8\n",
    "\n",
    "Create a simple name and employee number dictionary application.\n",
    "Have the user enter a name and an employee number. Your interface should\n",
    "allow a sorted output (sorted by name) that displays employee names followed by\n",
    "their employee numbers. Extra credit: Come up with an additional feature that allows\n",
    "for output to be sorted by employee numbers..\n",
    "\n",
    "\n",
    "```python\n",
    ">>>#Use case\n",
    ">>> Enter Employee name: Isaac\n",
    ">>> Enter Employee id: 234\n",
    ">>> Enter Employee name: Isaac\n",
    "Isaac already exit\n",
    ">>> Enter Employee name: Sarah\n",
    ">>> Enter Employee id: 223\n",
    ">>> Enter Employee name: done\n",
    "Isaac: 234\n",
    "Sarah: 223\n",
    "```\n"
   ]
  },
  {
   "cell_type": "markdown",
   "metadata": {},
   "source": [
    "### Solution"
   ]
  },
  {
   "cell_type": "code",
   "execution_count": 96,
   "metadata": {},
   "outputs": [
    {
     "name": "stdout",
     "output_type": "stream",
     "text": [
      "Enter Employee name: done\n",
      "\n"
     ]
    }
   ],
   "source": [
    "database = {}\n",
    "done = False\n",
    "while not done:\n",
    "    name = raw_input('Enter Employee name: ')\n",
    "    \n",
    "    if name in database:\n",
    "        print name + ' already exits'\n",
    "        \n",
    "    elif name == 'done':\n",
    "        done = True\n",
    "    else:\n",
    "        idx = raw_input('Enter Employee id: ')\n",
    "        database[name] = idx\n",
    "        \n",
    "template = '{record[0]}: {record[1]}'\n",
    "out = ''\n",
    "names = database.keys()\n",
    "sorted_names = sorted(names)\n",
    "for name in sorted_names:\n",
    "    out = out + template.format(record = (name, database[name])) + '\\n'\n",
    "    \n",
    "print out\n",
    "\n"
   ]
  }
 ],
 "metadata": {
  "kernelspec": {
   "display_name": "Python 2",
   "language": "python",
   "name": "python2"
  },
  "language_info": {
   "codemirror_mode": {
    "name": "ipython",
    "version": 2
   },
   "file_extension": ".py",
   "mimetype": "text/x-python",
   "name": "python",
   "nbconvert_exporter": "python",
   "pygments_lexer": "ipython2",
   "version": "2.7.13"
  }
 },
 "nbformat": 4,
 "nbformat_minor": 2
}
